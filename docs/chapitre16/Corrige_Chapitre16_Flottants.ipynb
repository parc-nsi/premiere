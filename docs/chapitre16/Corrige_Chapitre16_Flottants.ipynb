{
 "cells": [
  {
   "cell_type": "markdown",
   "metadata": {},
   "source": [
    "# Exercice 4"
   ]
  },
  {
   "cell_type": "code",
   "execution_count": 35,
   "metadata": {},
   "outputs": [],
   "source": [
    "def position_virgule(c):\n",
    "    \"\"\"\n",
    "    Paramètre : c une chaine représentant un décimal avec une virgule\n",
    "    Valeur renvoyée : position de la virgule\n",
    "    \"\"\"\n",
    "    for k in range(len(c)):\n",
    "        if c[k] == ',':\n",
    "            return k\n",
    "        \n",
    "\n",
    "def ChaineBinDec(c):\n",
    "    \"\"\"\n",
    "    Paramètre : c une une chaîne de caractères\n",
    "    c représentant un nombre à virgule écrit en binaire\n",
    "    Valeur renvoyée : nombre flottant correspondant\n",
    "    \"\"\"\n",
    "    pos_virgule = position_virgule(c)\n",
    "    puissance = 2 ** (pos_virgule - 1)\n",
    "    val = 0\n",
    "    for bit in c:\n",
    "        if bit != ',':\n",
    "            val = val + int(bit) * puissance\n",
    "            puissance = puissance / 2\n",
    "    return val\n",
    "    \n",
    "    \n",
    "def ChaineBinDec2(c):\n",
    "    \"\"\"\n",
    "    Paramètre : c une une chaîne de caractères\n",
    "    c représentant un nombre à virgule écrit en binaire\n",
    "    Valeur renvoyée : nombre flottant correspondant\n",
    "    \"\"\"\n",
    "    partie_entiere = 0\n",
    "    i = 0\n",
    "    while c[i] != ',':\n",
    "        partie_entiere = partie_entiere * 2 + int(c[i])\n",
    "        i = i + 1\n",
    "    #print(partie_entiere)\n",
    "    j = len(c) - 1\n",
    "    partie_frac = 0\n",
    "    while c[j] != ',':\n",
    "        partie_frac = (partie_frac  + int(c[j])) / 2\n",
    "        j = j - 1\n",
    "    return partie_entiere + partie_frac"
   ]
  },
  {
   "cell_type": "code",
   "execution_count": 38,
   "metadata": {},
   "outputs": [],
   "source": [
    "# Tests\n",
    "assert ChaineBinDec('1,101') == 1.625\n",
    "assert ChaineBinDec2('1,101') == 1.625\n",
    "assert ChaineBinDec('101,001') == 5.125\n",
    "assert ChaineBinDec2('101,001') == 5.125"
   ]
  },
  {
   "cell_type": "markdown",
   "metadata": {},
   "source": [
    "# Exercice 6"
   ]
  },
  {
   "cell_type": "markdown",
   "metadata": {},
   "source": [
    "Convertisseur en ligne : <https://www.h-schmidt.net/FloatConverter/IEEE754.html>"
   ]
  },
  {
   "cell_type": "markdown",
   "metadata": {},
   "source": [
    "Déterminer les bits de la représentation en double précision du nombre $x=0,01203125$.\n",
    "\n",
    "* On détermine d'abord le bit de signe : $x$ est positif donc $s=0$\n",
    "* Ensuite on multiplie successivement par $2$ pour décaler les bits vers la gauche :\n",
    "  "
   ]
  },
  {
   "cell_type": "code",
   "execution_count": 110,
   "metadata": {},
   "outputs": [],
   "source": [
    "def decimal_vers_IEE754(x, taille_exposant, taille_mantisse):\n",
    "    #print(\"détermination du signe\")\n",
    "    if x > 0:\n",
    "        print(\"Bit de signe  : 0\")\n",
    "    elif x <0:\n",
    "        print(\"Bit de signe : 1\")\n",
    "    else:\n",
    "        print(\"O valeur particulière\")\n",
    "    if x != 0:\n",
    "        #print(\"détermination de l'exposant\")\n",
    "        exposant = 0\n",
    "        while int(x) >= 1:\n",
    "            x = x / 2\n",
    "            exposant = exposant + 1\n",
    "        while int(x) == 0:\n",
    "            x = x * 2\n",
    "            exposant = exposant - 1           \n",
    "        decalage = 2 ** (taille_exposant - 1) - 1\n",
    "        print(\"Exposant en décimal : \", exposant)\n",
    "        print(f\"Exposant décalé  de  + {decalage} : \", exposant + decalage)\n",
    "        print(f\"Exposant décalé de + {decalage}  : codage binaire sur 11 bits : \", bin(exposant + decalage).lstrip('0b').zfill(taille_exposant))\n",
    "        #print(\"détermination des bits de mantisse\")\n",
    "        x = x - 1\n",
    "        nbits = 0\n",
    "        mantisse = []\n",
    "        while nbits < taille_mantisse:\n",
    "            x = x * 2\n",
    "            partie_entiere = int(x)\n",
    "            mantisse.append(str(partie_entiere))\n",
    "            if partie_entiere == 1:\n",
    "                x = x - partie_entiere\n",
    "            nbits = nbits + 1\n",
    "        print(\"Mantisse : \", ''.join(mantisse))"
   ]
  },
  {
   "cell_type": "markdown",
   "metadata": {},
   "source": [
    "Le développement binaire de $0.01203125$ est illimité !"
   ]
  },
  {
   "cell_type": "code",
   "execution_count": 111,
   "metadata": {},
   "outputs": [
    {
     "name": "stdout",
     "output_type": "stream",
     "text": [
      "Bit de signe  : 0\n",
      "Exposant en décimal :  -7\n",
      "Exposant décalé  de  + 127 :  120\n",
      "Exposant décalé de + 127  : codage binaire sur 11 bits :  01111000\n",
      "Mantisse :  10001010001111010111000\n"
     ]
    }
   ],
   "source": [
    "# en binary32  : 8 bits d'exposant et 23 bits de mantisse\n",
    "decimal_vers_IEE754(0.01203125, 8, 23)"
   ]
  },
  {
   "cell_type": "markdown",
   "metadata": {},
   "source": [
    "Vérification avec le convertisseur en ligne <https://www.h-schmidt.net/FloatConverter/IEEE754.html>\n",
    "\n",
    "\n",
    "![convertisseur](convertisseur.png)"
   ]
  },
  {
   "cell_type": "code",
   "execution_count": 106,
   "metadata": {},
   "outputs": [
    {
     "name": "stdout",
     "output_type": "stream",
     "text": [
      "Bit de signe  : 0\n",
      "Exposant en décimal :  -7\n",
      "Exposant décalé  de  + 1023 :  1016\n",
      "Exposant décalé de + 1023  : codage binaire sur 11 bits :  01111111000\n",
      "Mantisse :  10001010001111010111000010100011\n"
     ]
    }
   ],
   "source": [
    "# en binary64  : 11 bits d'exposant et 32 bits de mantisse\n",
    "decimal_vers_IEE754(0.01203125, 11, 32)"
   ]
  },
  {
   "cell_type": "code",
   "execution_count": 103,
   "metadata": {},
   "outputs": [
    {
     "data": {
      "text/plain": [
       "Decimal('0.012031250000000000277555756156289135105907917022705078125')"
      ]
     },
     "execution_count": 103,
     "metadata": {},
     "output_type": "execute_result"
    }
   ],
   "source": [
    "# vérification avec le module Decimal\n",
    "import decimal\n",
    "decimal.Decimal.from_float(0.01203125)"
   ]
  },
  {
   "cell_type": "markdown",
   "metadata": {},
   "source": [
    "Un flottant représenté de façon exacte"
   ]
  },
  {
   "cell_type": "code",
   "execution_count": 100,
   "metadata": {},
   "outputs": [
    {
     "name": "stdout",
     "output_type": "stream",
     "text": [
      "Bit de signe  : 0\n",
      "Exposant en décimal :  -1\n",
      "Exposant décalé  de  + 127 :  126\n",
      "Exposant décalé de + 127  : codage binaire sur 11 bits :  01111110\n",
      "Mantisse :  10000000000000000000100\n"
     ]
    }
   ],
   "source": [
    "decimal_vers_IEE754(1/2 + 1/2**2 + 1/2**22, 8,23)"
   ]
  },
  {
   "cell_type": "markdown",
   "metadata": {},
   "source": [
    "$0,1$ n'est pas représenté de façon exacte !"
   ]
  },
  {
   "cell_type": "code",
   "execution_count": 82,
   "metadata": {
    "scrolled": true
   },
   "outputs": [
    {
     "name": "stdout",
     "output_type": "stream",
     "text": [
      "Bit de signe  : 0\n",
      "Exposant en décimal :  -4\n",
      "Exposant décalé  de  + 1023 :  1019\n",
      "Exposant décalé de + 1023  : codage binaire sur 11 bits :  01111111011\n",
      "Mantisse :  1001100110011001100110011001100110011001100110011010\n"
     ]
    }
   ],
   "source": [
    "decimal_vers_IEE754(0.1, 11, 52)"
   ]
  },
  {
   "cell_type": "code",
   "execution_count": 112,
   "metadata": {},
   "outputs": [
    {
     "name": "stdout",
     "output_type": "stream",
     "text": [
      "Bit de signe  : 0\n",
      "Exposant en décimal :  3\n",
      "Exposant décalé  de  + 127 :  130\n",
      "Exposant décalé de + 127  : codage binaire sur 11 bits :  10000010\n",
      "Mantisse :  11010000000000000000000\n"
     ]
    }
   ],
   "source": [
    "decimal_vers_IEE754(14.5, 8, 23)"
   ]
  },
  {
   "cell_type": "code",
   "execution_count": 98,
   "metadata": {},
   "outputs": [
    {
     "data": {
      "text/plain": [
       "2021.0575342465754"
      ]
     },
     "execution_count": 98,
     "metadata": {},
     "output_type": "execute_result"
    }
   ],
   "source": [
    "# aujourd'hui 21/01/2021\n",
    "2021 + 21 / 365"
   ]
  },
  {
   "cell_type": "code",
   "execution_count": 99,
   "metadata": {},
   "outputs": [
    {
     "name": "stdout",
     "output_type": "stream",
     "text": [
      "Bit de signe  : 0\n",
      "Exposant en décimal :  10\n",
      "Exposant décalé  de  + 127 :  137\n",
      "Exposant décalé de + 127  : codage binaire sur 11 bits :  10001001\n",
      "Mantisse :  11111001010000111010111\n"
     ]
    }
   ],
   "source": [
    "decimal_vers_IEE754(2021 + 21 / 365, 8, 23)"
   ]
  },
  {
   "cell_type": "code",
   "execution_count": 107,
   "metadata": {},
   "outputs": [
    {
     "name": "stdout",
     "output_type": "stream",
     "text": [
      "Bit de signe  : 0\n",
      "Exposant en décimal :  3\n",
      "Exposant décalé  de  + 1023 :  1026\n",
      "Exposant décalé de + 1023  : codage binaire sur 11 bits :  10000000010\n",
      "Mantisse :  0011100100000000000000000000000000000000000000000000\n"
     ]
    }
   ],
   "source": [
    "decimal_vers_IEE754(9 + 1/2 + 1/2 ** 2 + 1/2 ** 5, 11, 52)"
   ]
  },
  {
   "cell_type": "code",
   "execution_count": 108,
   "metadata": {},
   "outputs": [
    {
     "data": {
      "text/plain": [
       "9.78125"
      ]
     },
     "execution_count": 108,
     "metadata": {},
     "output_type": "execute_result"
    }
   ],
   "source": [
    "9 + 1/2 + 1/2 ** 2 + 1/2 ** 5"
   ]
  },
  {
   "cell_type": "code",
   "execution_count": 113,
   "metadata": {},
   "outputs": [
    {
     "name": "stdout",
     "output_type": "stream",
     "text": [
      "Bit de signe  : 0\n",
      "Exposant en décimal :  3\n",
      "Exposant décalé  de  + 1023 :  1026\n",
      "Exposant décalé de + 1023  : codage binaire sur 11 bits :  10000000010\n",
      "Mantisse :  0011100100000000000000000000000000000000000000000000\n"
     ]
    }
   ],
   "source": [
    "decimal_vers_IEE754(9 + 1/2 + 1/2 ** 2 + 1/2 ** 5, 11, 52)"
   ]
  }
 ],
 "metadata": {
  "kernelspec": {
   "display_name": "Python 3",
   "language": "python",
   "name": "python3"
  },
  "language_info": {
   "codemirror_mode": {
    "name": "ipython",
    "version": 3
   },
   "file_extension": ".py",
   "mimetype": "text/x-python",
   "name": "python",
   "nbconvert_exporter": "python",
   "pygments_lexer": "ipython3",
   "version": "3.8.5"
  }
 },
 "nbformat": 4,
 "nbformat_minor": 4
}
