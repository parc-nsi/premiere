{
 "cells": [
  {
   "cell_type": "markdown",
   "metadata": {},
   "source": [
    "# Corrigés des exercices du chapitre codage des caractères"
   ]
  },
  {
   "cell_type": "markdown",
   "metadata": {},
   "source": [
    "## Exercice 1"
   ]
  },
  {
   "cell_type": "code",
   "execution_count": 6,
   "metadata": {},
   "outputs": [],
   "source": [
    "def miroir(chaine):\n",
    "    \"\"\"\n",
    "    Paramètre : chaine de type str\n",
    "    Valeur renvoyée : chaine de caractères miroir de chaine\n",
    "    \"\"\"\n",
    "    res = ''\n",
    "    for c in chaine:\n",
    "        res = c + res\n",
    "    return res"
   ]
  },
  {
   "cell_type": "code",
   "execution_count": 5,
   "metadata": {},
   "outputs": [
    {
     "data": {
      "text/plain": [
       "'?elleb sulp al sruojuot ej-siuS'"
      ]
     },
     "execution_count": 5,
     "metadata": {},
     "output_type": "execute_result"
    }
   ],
   "source": [
    "miroir('Suis-je toujours la plus belle?')"
   ]
  },
  {
   "cell_type": "code",
   "execution_count": 11,
   "metadata": {},
   "outputs": [],
   "source": [
    "def palindrome(chaine):\n",
    "    \"\"\"\n",
    "    Paramètre : chaine de type str\n",
    "    Valeur renvoyée : un booléen indiquant si chaine est un palindrome\n",
    "    Précondition : suppression des espaces d'abord\n",
    "    Complexité : parcourt toute la chaine\n",
    "    \"\"\"\n",
    "    chaine = chaine.replace(' ', '')\n",
    "    return miroir(chaine) == chaine"
   ]
  },
  {
   "cell_type": "code",
   "execution_count": 12,
   "metadata": {},
   "outputs": [
    {
     "data": {
      "text/plain": [
       "True"
      ]
     },
     "execution_count": 12,
     "metadata": {},
     "output_type": "execute_result"
    }
   ],
   "source": [
    "palindrome('caser vite ce palindrome ne mord ni lape cet ivre sac')"
   ]
  },
  {
   "cell_type": "code",
   "execution_count": 13,
   "metadata": {},
   "outputs": [],
   "source": [
    "def palindrome_moitie(chaine):\n",
    "    \"\"\"\n",
    "    Paramètre : chaine de type str\n",
    "    Valeur renvoyée : un booléen indiquant si chaine est un palindrome\n",
    "    Précondition : suppression des espaces d'abord\n",
    "    Complexité : parcourt la moitié de la chaine\n",
    "    \"\"\"\n",
    "    chaine = chaine.replace(' ', '')\n",
    "    n = len(chaine) - 1\n",
    "    for k in range(len(chaine) // 2):\n",
    "        if chaine[k] != chaine[n - k]:\n",
    "            return False\n",
    "    return True"
   ]
  },
  {
   "cell_type": "code",
   "execution_count": 14,
   "metadata": {},
   "outputs": [
    {
     "data": {
      "text/plain": [
       "True"
      ]
     },
     "execution_count": 14,
     "metadata": {},
     "output_type": "execute_result"
    }
   ],
   "source": [
    "palindrome_moitie('anna')"
   ]
  },
  {
   "cell_type": "code",
   "execution_count": 15,
   "metadata": {},
   "outputs": [
    {
     "data": {
      "text/plain": [
       "True"
      ]
     },
     "execution_count": 15,
     "metadata": {},
     "output_type": "execute_result"
    }
   ],
   "source": [
    "palindrome_moitie('anana')"
   ]
  },
  {
   "cell_type": "markdown",
   "metadata": {},
   "source": [
    "## Exercice 2"
   ]
  },
  {
   "cell_type": "markdown",
   "metadata": {},
   "source": [
    "### Table ASCII"
   ]
  },
  {
   "cell_type": "markdown",
   "metadata": {},
   "source": [
    "Les 32 premiers caractères ne sont pas imprimables."
   ]
  },
  {
   "cell_type": "code",
   "execution_count": 24,
   "metadata": {},
   "outputs": [
    {
     "name": "stdout",
     "output_type": "stream",
     "text": [
      "\u0000 \u0001 \u0002 \u0003 \u0004 \u0005 \u0006 \u0007 \b \t \n",
      " \u000b",
      " \f",
      " \r",
      " \u000e \u000f \n",
      "\u0010 \u0011 \u0012 \u0013 \u0014 \u0015 \u0016 \u0017 \u0018 \u0019 \u001a \u001b \u001c",
      " \u001d",
      " \u001e",
      " \u001f \n",
      "  ! \" # $ % & ' ( ) * + , - . / \n",
      "0 1 2 3 4 5 6 7 8 9 : ; < = > ? \n",
      "@ A B C D E F G H I J K L M N O \n",
      "P Q R S T U V W X Y Z [ \\ ] ^ _ \n",
      "` a b c d e f g h i j k l m n o \n",
      "p q r s t u v w x y z { | } ~  \n"
     ]
    }
   ],
   "source": [
    "for a in range(8):\n",
    "    for b in range(16):\n",
    "        print(chr(a * 16 + b), end = \" \")\n",
    "    print()"
   ]
  },
  {
   "cell_type": "markdown",
   "metadata": {},
   "source": [
    "`caractere_plus_petit(c1, c2)`"
   ]
  },
  {
   "cell_type": "code",
   "execution_count": null,
   "metadata": {},
   "outputs": [],
   "source": [
    "def caractere_plus_petit(c1, c2):\n",
    "    return ord(c1) <= ord(c2)"
   ]
  },
  {
   "cell_type": "markdown",
   "metadata": {},
   "source": [
    "`chaine_plus_petite(chaine1, chaine2)`"
   ]
  },
  {
   "cell_type": "code",
   "execution_count": 29,
   "metadata": {},
   "outputs": [],
   "source": [
    "def chaine_plus_petite(chaine1, chaine2):\n",
    "    for k in range(min(len(chaine1), len(chaine2))):\n",
    "        if chaine1[k] > chaine2[k]:\n",
    "            return False\n",
    "        elif chaine1[k] < chaine2[k]:\n",
    "            return True\n",
    "    return len(chaine1) <= len(chaine2)"
   ]
  },
  {
   "cell_type": "code",
   "execution_count": 32,
   "metadata": {},
   "outputs": [],
   "source": [
    "assert chaine_plus_petite('a', 'b') == True\n",
    "assert chaine_plus_petite('a', 'a') == True\n",
    "assert chaine_plus_petite('a', 'aa') == True\n",
    "assert chaine_plus_petite('a', 'ab') == True\n",
    "assert chaine_plus_petite('aa', 'ab') == True\n",
    "assert chaine_plus_petite('ab', 'aa') == False"
   ]
  },
  {
   "cell_type": "code",
   "execution_count": 33,
   "metadata": {},
   "outputs": [],
   "source": [
    "def croissant(tab, comparaison):\n",
    "    for k in range(len(tab) - 1):\n",
    "        if not comparaison(tab[k],tab[k+1]):\n",
    "            return False\n",
    "    return True"
   ]
  },
  {
   "cell_type": "code",
   "execution_count": 34,
   "metadata": {},
   "outputs": [
    {
     "data": {
      "text/plain": [
       "False"
      ]
     },
     "execution_count": 34,
     "metadata": {},
     "output_type": "execute_result"
    }
   ],
   "source": [
    "croissant(['Chat', 'Chien', 'Cheval', 'Cochon'], \n",
    "          chaine_plus_petite)"
   ]
  },
  {
   "cell_type": "code",
   "execution_count": 36,
   "metadata": {},
   "outputs": [
    {
     "data": {
      "text/plain": [
       "False"
      ]
     },
     "execution_count": 36,
     "metadata": {},
     "output_type": "execute_result"
    }
   ],
   "source": [
    "croissant(['Chien', 'Cheval', 'Cochon', 'Chat'], \n",
    "          chaine_plus_petite)"
   ]
  },
  {
   "cell_type": "code",
   "execution_count": 37,
   "metadata": {},
   "outputs": [
    {
     "data": {
      "text/plain": [
       "False"
      ]
     },
     "execution_count": 37,
     "metadata": {},
     "output_type": "execute_result"
    }
   ],
   "source": [
    "croissant(['Cochon', 'Chien', 'Cheval', 'Chat'], \n",
    "          chaine_plus_petite)"
   ]
  },
  {
   "cell_type": "markdown",
   "metadata": {},
   "source": [
    "## Exercice 3 Codage ROT13"
   ]
  },
  {
   "cell_type": "code",
   "execution_count": 30,
   "metadata": {},
   "outputs": [],
   "source": [
    "def rot13(chaine):\n",
    "    res = ''\n",
    "    chaine = chaine.upper()\n",
    "    origine = ord('A')\n",
    "    for c in chaine:\n",
    "        res = res + chr(origine + (ord(c) - origine + 13) % 26)\n",
    "    return res"
   ]
  },
  {
   "cell_type": "code",
   "execution_count": 31,
   "metadata": {},
   "outputs": [
    {
     "data": {
      "text/plain": [
       "'NIRGPRFNE'"
      ]
     },
     "execution_count": 31,
     "metadata": {},
     "output_type": "execute_result"
    }
   ],
   "source": [
    "rot13('ave cesar')"
   ]
  },
  {
   "cell_type": "markdown",
   "metadata": {},
   "source": [
    "## Module `this` le Zen de Python"
   ]
  },
  {
   "cell_type": "markdown",
   "metadata": {},
   "source": [
    "Commençons par importer le module `this` de `Python` pour obtenir un court texte résumant la philosophie du langage"
   ]
  },
  {
   "cell_type": "code",
   "execution_count": 25,
   "metadata": {},
   "outputs": [
    {
     "name": "stdout",
     "output_type": "stream",
     "text": [
      "The Zen of Python, by Tim Peters\n",
      "\n",
      "Beautiful is better than ugly.\n",
      "Explicit is better than implicit.\n",
      "Simple is better than complex.\n",
      "Complex is better than complicated.\n",
      "Flat is better than nested.\n",
      "Sparse is better than dense.\n",
      "Readability counts.\n",
      "Special cases aren't special enough to break the rules.\n",
      "Although practicality beats purity.\n",
      "Errors should never pass silently.\n",
      "Unless explicitly silenced.\n",
      "In the face of ambiguity, refuse the temptation to guess.\n",
      "There should be one-- and preferably only one --obvious way to do it.\n",
      "Although that way may not be obvious at first unless you're Dutch.\n",
      "Now is better than never.\n",
      "Although never is often better than *right* now.\n",
      "If the implementation is hard to explain, it's a bad idea.\n",
      "If the implementation is easy to explain, it may be a good idea.\n",
      "Namespaces are one honking great idea -- let's do more of those!\n"
     ]
    }
   ],
   "source": [
    "import this"
   ]
  },
  {
   "cell_type": "code",
   "execution_count": null,
   "metadata": {},
   "outputs": [],
   "source": [
    "%psource this"
   ]
  },
  {
   "cell_type": "markdown",
   "metadata": {},
   "source": [
    "Ci-dessous le code source du module, expliquez le code :\n",
    "\n",
    "~~~python\n",
    "s = \"\"\"Gur Mra bs Clguba, ol Gvz Crgref\n",
    "\n",
    "Ornhgvshy vf orggre guna htyl.\n",
    "Rkcyvpvg vf orggre guna vzcyvpvg.\n",
    "Fvzcyr vf orggre guna pbzcyrk.\n",
    "Pbzcyrk vf orggre guna pbzcyvpngrq.\n",
    "Syng vf orggre guna arfgrq.\n",
    "Fcnefr vf orggre guna qrafr.\n",
    "Ernqnovyvgl pbhagf.\n",
    "Fcrpvny pnfrf nera'g fcrpvny rabhtu gb oernx gur ehyrf.\n",
    "Nygubhtu cenpgvpnyvgl orngf chevgl.\n",
    "Reebef fubhyq arire cnff fvyragyl.\n",
    "Hayrff rkcyvpvgyl fvyraprq.\n",
    "Va gur snpr bs nzovthvgl, ershfr gur grzcgngvba gb thrff.\n",
    "Gurer fubhyq or bar-- naq cersrenoyl bayl bar --boivbhf jnl gb qb vg.\n",
    "Nygubhtu gung jnl znl abg or boivbhf ng svefg hayrff lbh'er Qhgpu.\n",
    "Abj vf orggre guna arire.\n",
    "Nygubhtu arire vf bsgra orggre guna *evtug* abj.\n",
    "Vs gur vzcyrzragngvba vf uneq gb rkcynva, vg'f n onq vqrn.\n",
    "Vs gur vzcyrzragngvba vf rnfl gb rkcynva, vg znl or n tbbq vqrn.\n",
    "Anzrfcnprf ner bar ubaxvat terng vqrn -- yrg'f qb zber bs gubfr!\"\"\"\n",
    "\n",
    "d = {}\n",
    "for c in (65, 97):\n",
    "    for i in range(26):\n",
    "        d[chr(i+c)] = chr((i+13) % 26 + c)\n",
    "\n",
    "print(\"\".join([d.get(c, c) for c in s]))\n",
    "~~~"
   ]
  },
  {
   "cell_type": "markdown",
   "metadata": {},
   "source": [
    "## Exercice 4"
   ]
  },
  {
   "cell_type": "code",
   "execution_count": 63,
   "metadata": {},
   "outputs": [
    {
     "name": "stdout",
     "output_type": "stream",
     "text": [
      "2160\n"
     ]
    }
   ],
   "source": [
    "def valeur(mot):\n",
    "    v = 1\n",
    "    for c in mot:\n",
    "        v = v * (ord(c) - ord('a') + 1)\n",
    "    return v\n",
    "\n",
    "def indice_maximum(tab):\n",
    "    \"\"\"Renvoie l'index du maximum du tableau de nombres tab\"\"\"\n",
    "    imax = 0\n",
    "    for k in range(1, len(tab)):\n",
    "        if tab[k] > tab[imax]:\n",
    "            imax = k\n",
    "    return imax    \n",
    "    \n",
    "f = open('dico.txt')\n",
    "histo = [0 for _ in range(1000)]\n",
    "for mot in f:\n",
    "    v = valeur(mot.rstrip())    \n",
    "    if 2000 <= v < 3000:\n",
    "        #print(mot, v)\n",
    "        histo[v - 2000] = histo[v - 2000] + 1\n",
    "f.close()\n",
    "annee_max = 2000 + indice_maximum(histo)\n",
    "print(annee_max)"
   ]
  },
  {
   "cell_type": "markdown",
   "metadata": {},
   "source": [
    "## Exercice 7"
   ]
  },
  {
   "cell_type": "markdown",
   "metadata": {},
   "source": [
    "valeur en décimal (base 10) du point de code U+ABCD ."
   ]
  },
  {
   "cell_type": "code",
   "execution_count": 65,
   "metadata": {},
   "outputs": [
    {
     "data": {
      "text/plain": [
       "43981"
      ]
     },
     "execution_count": 65,
     "metadata": {},
     "output_type": "execute_result"
    }
   ],
   "source": [
    "int(0xABCD)"
   ]
  },
  {
   "cell_type": "markdown",
   "metadata": {},
   "source": [
    "caractère dont le point de code est U+263A"
   ]
  },
  {
   "cell_type": "code",
   "execution_count": 68,
   "metadata": {},
   "outputs": [
    {
     "data": {
      "text/plain": [
       "'☺'"
      ]
     },
     "execution_count": 68,
     "metadata": {},
     "output_type": "execute_result"
    }
   ],
   "source": [
    "'\\U0000263A'"
   ]
  },
  {
   "cell_type": "code",
   "execution_count": 69,
   "metadata": {},
   "outputs": [
    {
     "name": "stdout",
     "output_type": "stream",
     "text": [
      "9786\n",
      "☺\n",
      "☻\n",
      "☼\n",
      "☽\n",
      "☾\n",
      "☿\n",
      "♀\n",
      "♁\n",
      "♂\n",
      "♃\n"
     ]
    }
   ],
   "source": [
    "pointcode = 0x263A\n",
    "print(pointcode)\n",
    "for k in range(10):\n",
    "    print(chr(pointcode))\n",
    "    pointcode = pointcode + 1"
   ]
  },
  {
   "cell_type": "markdown",
   "metadata": {},
   "source": [
    "Le code affiche précédent les caractères correspondants aux points de codes compris (en hexadécimal) entre 263A (9786 en décimal) et 263A + 10 (9796 en décimal)"
   ]
  },
  {
   "cell_type": "code",
   "execution_count": 70,
   "metadata": {},
   "outputs": [
    {
     "data": {
      "text/plain": [
       "9786"
      ]
     },
     "execution_count": 70,
     "metadata": {},
     "output_type": "execute_result"
    }
   ],
   "source": [
    "0x263A"
   ]
  },
  {
   "cell_type": "code",
   "execution_count": 71,
   "metadata": {},
   "outputs": [
    {
     "data": {
      "text/plain": [
       "9796"
      ]
     },
     "execution_count": 71,
     "metadata": {},
     "output_type": "execute_result"
    }
   ],
   "source": [
    "0x263A + 10"
   ]
  },
  {
   "cell_type": "code",
   "execution_count": 72,
   "metadata": {},
   "outputs": [
    {
     "name": "stdout",
     "output_type": "stream",
     "text": [
      "😀\n"
     ]
    }
   ],
   "source": [
    "print(\"\\U0001f600\")"
   ]
  },
  {
   "cell_type": "code",
   "execution_count": 90,
   "metadata": {},
   "outputs": [
    {
     "data": {
      "text/plain": [
       "'0x1f64f'"
      ]
     },
     "execution_count": 90,
     "metadata": {},
     "output_type": "execute_result"
    }
   ],
   "source": [
    "hex(0x1F600 + 79)"
   ]
  },
  {
   "cell_type": "code",
   "execution_count": 92,
   "metadata": {},
   "outputs": [
    {
     "name": "stdout",
     "output_type": "stream",
     "text": [
      "😀 😁 😂 😃 😄 😅 😆 😇 😈 😉 😊 😋 😌 😍 😎 😏 \n",
      "😐 😑 😒 😓 😔 😕 😖 😗 😘 😙 😚 😛 😜 😝 😞 😟 \n",
      "😠 😡 😢 😣 😤 😥 😦 😧 😨 😩 😪 😫 😬 😭 😮 😯 \n",
      "😰 😱 😲 😳 😴 😵 😶 😷 😸 😹 😺 😻 😼 😽 😾 😿 \n",
      "🙀 🙁 🙂 🙃 🙄 🙅 🙆 🙇 🙈 🙉 🙊 🙋 🙌 🙍 🙎 🙏 \n"
     ]
    }
   ],
   "source": [
    "for pointcode in range(0x1F600, 0x1F650):\n",
    "    print(chr(pointcode), end = ' ')\n",
    "    if pointcode % 16 == 15:\n",
    "        print()"
   ]
  },
  {
   "cell_type": "markdown",
   "metadata": {},
   "source": [
    "## Exercice 8"
   ]
  },
  {
   "cell_type": "markdown",
   "metadata": {},
   "source": [
    "### Fonction unicode"
   ]
  },
  {
   "cell_type": "code",
   "execution_count": 93,
   "metadata": {},
   "outputs": [],
   "source": [
    "def unicode(s):\n",
    "    \"\"\"Affiche les caractères d'une chaine, leur point de code et leurs octets codants en hexadécimal\n",
    "    et en binaire\"\"\"\n",
    "    for caractere in s:\n",
    "        octets = caractere.encode(\"utf-8\")\n",
    "        octets_hexa = [hex(oct) for oct in octets]\n",
    "        octets_bin = [bin(oct) for oct in octets]\n",
    "        print(\"Caractère : {} | Point de code  : {} | Octets (hexa) : {} | Octets (binaire) : {}\".format(caractere,ord(caractere),octets_hexa, octets_bin))\n",
    "\n",
    "def unicode2(s):\n",
    "    print(\"Caractères : \")\n",
    "    for c in s:\n",
    "        print(c, end=\",\")\n",
    "    print(\"\\n\\nPoints de code : \")\n",
    "    for c in s:\n",
    "        print(ord(c),end=\",\")\n",
    "    octets = s.encode(\"utf-8\")\n",
    "    print(\"\\n\\nOctets codants en hexadécimal : \")\n",
    "    for c in octets:\n",
    "        print(hex(c), end=',')\n",
    "    print(\"\\n\\nOctets codants en binaire : \")\n",
    "    for c in octets:\n",
    "        print(bin(c), end=',')\n",
    "        \n",
    "def unicode3(s):\n",
    "    \"\"\"Affiche les caractères d'une chaine, leur point de code et leurs octets codants en hexadécimal\n",
    "    et en binaire\"\"\"\n",
    "    for caractere in s:\n",
    "        octets = caractere.encode(\"utf-8\")\n",
    "        octets_hexa = [format(b,'x') for b in octets]\n",
    "        octets_bin = [format(b,'08b') for b in octets]\n",
    "        print(\"Caractère : {} | Point de code  : {} | Octets (hexa) : {} | Octets (binaire) : {}\".format(caractere,ord(caractere),octets_hexa, octets_bin))\n",
    "\n",
    "    \n",
    "        "
   ]
  },
  {
   "cell_type": "code",
   "execution_count": 94,
   "metadata": {},
   "outputs": [
    {
     "name": "stdout",
     "output_type": "stream",
     "text": [
      "Caractère : l | Point de code  : 108 | Octets (hexa) : ['0x6c'] | Octets (binaire) : ['0b1101100']\n",
      "Caractère : y | Point de code  : 121 | Octets (hexa) : ['0x79'] | Octets (binaire) : ['0b1111001']\n",
      "Caractère : c | Point de code  : 99 | Octets (hexa) : ['0x63'] | Octets (binaire) : ['0b1100011']\n",
      "Caractère : é | Point de code  : 233 | Octets (hexa) : ['0xc3', '0xa9'] | Octets (binaire) : ['0b11000011', '0b10101001']\n",
      "Caractère : e | Point de code  : 101 | Octets (hexa) : ['0x65'] | Octets (binaire) : ['0b1100101']\n"
     ]
    }
   ],
   "source": [
    "unicode(\"lycée\")"
   ]
  },
  {
   "cell_type": "code",
   "execution_count": 13,
   "metadata": {},
   "outputs": [
    {
     "name": "stdout",
     "output_type": "stream",
     "text": [
      "Caractères : \n",
      "l,y,c,é,e,\n",
      "\n",
      "Points de code : \n",
      "108,121,99,233,101,\n",
      "\n",
      "Octets codants en hexadécimal : \n",
      "0x6c,0x79,0x63,0xc3,0xa9,0x65,\n",
      "\n",
      "Octets codants en binaire : \n",
      "0b1101100,0b1111001,0b1100011,0b11000011,0b10101001,0b1100101,"
     ]
    }
   ],
   "source": [
    "unicode2(\"lycée\")"
   ]
  },
  {
   "cell_type": "code",
   "execution_count": 14,
   "metadata": {},
   "outputs": [
    {
     "name": "stdout",
     "output_type": "stream",
     "text": [
      "Caractère : l | Point de code  : 108 | Octets (hexa) : ['6c'] | Octets (binaire) : ['01101100']\n",
      "Caractère : y | Point de code  : 121 | Octets (hexa) : ['79'] | Octets (binaire) : ['01111001']\n",
      "Caractère : c | Point de code  : 99 | Octets (hexa) : ['63'] | Octets (binaire) : ['01100011']\n",
      "Caractère : é | Point de code  : 233 | Octets (hexa) : ['c3', 'a9'] | Octets (binaire) : ['11000011', '10101001']\n",
      "Caractère : e | Point de code  : 101 | Octets (hexa) : ['65'] | Octets (binaire) : ['01100101']\n"
     ]
    }
   ],
   "source": [
    "unicode3(\"lycée\")"
   ]
  },
  {
   "cell_type": "markdown",
   "metadata": {},
   "source": [
    "### Encodage UTF-8 d'un caractère en hexadécimal, décimal et binaire"
   ]
  },
  {
   "cell_type": "code",
   "execution_count": 15,
   "metadata": {},
   "outputs": [],
   "source": [
    "etoile = chr(8902)"
   ]
  },
  {
   "cell_type": "code",
   "execution_count": 16,
   "metadata": {},
   "outputs": [],
   "source": [
    "etoile_octet = etoile.encode('utf8')"
   ]
  },
  {
   "cell_type": "code",
   "execution_count": 17,
   "metadata": {},
   "outputs": [
    {
     "data": {
      "text/plain": [
       "b'\\xe2\\x8b\\x86'"
      ]
     },
     "execution_count": 17,
     "metadata": {},
     "output_type": "execute_result"
    }
   ],
   "source": [
    "etoile_octet"
   ]
  },
  {
   "cell_type": "code",
   "execution_count": 18,
   "metadata": {},
   "outputs": [
    {
     "name": "stdout",
     "output_type": "stream",
     "text": [
      "['0b11100010', '0b10001011', '0b10000110']\n"
     ]
    }
   ],
   "source": [
    "etoile_liste_octet = [bin(octet) for octet in etoile_octet]\n",
    "print(etoile_liste_octet)"
   ]
  },
  {
   "cell_type": "code",
   "execution_count": 19,
   "metadata": {},
   "outputs": [
    {
     "name": "stdout",
     "output_type": "stream",
     "text": [
      "[226, 139, 134]\n"
     ]
    }
   ],
   "source": [
    "etoile_liste_decimal = [octet for octet in etoile_octet]\n",
    "print(etoile_liste_decimal)"
   ]
  },
  {
   "cell_type": "markdown",
   "metadata": {},
   "source": [
    "### Nombre de caractères codés par une chaine d'octets en UTF-8"
   ]
  },
  {
   "cell_type": "code",
   "execution_count": 20,
   "metadata": {},
   "outputs": [],
   "source": [
    "def longueur(b):\n",
    "    \"\"\"Retourne le nombre de caractères encodé par une \n",
    "    chaine d'octets en utf8\"\"\"\n",
    "    k = 0\n",
    "    long = 0\n",
    "    while k < len(b):\n",
    "        #attention les représentations binaires des octets ne sont pas remplies par des 0 à gauche\n",
    "        binaire = bin(b[k]).lstrip('0b').zfill(8)\n",
    "        #decimal = b[k]\n",
    "        long += 1\n",
    "        if binaire[0] == '0':\n",
    "            k += 1\n",
    "        elif binaire[:3] == '110':\n",
    "            k += 2\n",
    "        elif binaire[:4] == '1110':\n",
    "            k += 3\n",
    "        else:\n",
    "            k += 4\n",
    "    return long     "
   ]
  },
  {
   "cell_type": "code",
   "execution_count": 21,
   "metadata": {},
   "outputs": [
    {
     "data": {
      "text/plain": [
       "1"
      ]
     },
     "execution_count": 21,
     "metadata": {},
     "output_type": "execute_result"
    }
   ],
   "source": [
    "longueur(etoile.encode('utf8'))"
   ]
  },
  {
   "cell_type": "code",
   "execution_count": 22,
   "metadata": {},
   "outputs": [],
   "source": [
    "chaine = 'élémentaire mon cher Watson'.encode('utf8')"
   ]
  },
  {
   "cell_type": "code",
   "execution_count": 23,
   "metadata": {},
   "outputs": [
    {
     "data": {
      "text/plain": [
       "27"
      ]
     },
     "execution_count": 23,
     "metadata": {},
     "output_type": "execute_result"
    }
   ],
   "source": [
    "longueur('élémentaire mon cher Watson'.encode('utf8'))"
   ]
  },
  {
   "cell_type": "code",
   "execution_count": 24,
   "metadata": {},
   "outputs": [
    {
     "data": {
      "text/plain": [
       "27"
      ]
     },
     "execution_count": 24,
     "metadata": {},
     "output_type": "execute_result"
    }
   ],
   "source": [
    "len('élémentaire mon cher Watson')"
   ]
  },
  {
   "cell_type": "code",
   "execution_count": 25,
   "metadata": {},
   "outputs": [],
   "source": [
    "chaine = 'élémentaire mon cher Watson'.encode('utf8')"
   ]
  },
  {
   "cell_type": "code",
   "execution_count": 26,
   "metadata": {},
   "outputs": [
    {
     "data": {
      "text/plain": [
       "bytes"
      ]
     },
     "execution_count": 26,
     "metadata": {},
     "output_type": "execute_result"
    }
   ],
   "source": [
    "type(chaine)"
   ]
  },
  {
   "cell_type": "code",
   "execution_count": 27,
   "metadata": {
    "scrolled": true
   },
   "outputs": [
    {
     "data": {
      "text/plain": [
       "29"
      ]
     },
     "execution_count": 27,
     "metadata": {},
     "output_type": "execute_result"
    }
   ],
   "source": [
    "len(chaine)"
   ]
  },
  {
   "cell_type": "code",
   "execution_count": 28,
   "metadata": {},
   "outputs": [
    {
     "data": {
      "text/plain": [
       "b'\\xc3\\xa9l\\xc3\\xa9mentaire mon cher Watson'"
      ]
     },
     "execution_count": 28,
     "metadata": {},
     "output_type": "execute_result"
    }
   ],
   "source": [
    "chaine"
   ]
  },
  {
   "cell_type": "code",
   "execution_count": 29,
   "metadata": {},
   "outputs": [
    {
     "data": {
      "text/plain": [
       "'00001110'"
      ]
     },
     "execution_count": 29,
     "metadata": {},
     "output_type": "execute_result"
    }
   ],
   "source": [
    "'1110'.zfill(8)"
   ]
  }
 ],
 "metadata": {
  "kernelspec": {
   "display_name": "Python 3",
   "language": "python",
   "name": "python3"
  },
  "language_info": {
   "codemirror_mode": {
    "name": "ipython",
    "version": 3
   },
   "file_extension": ".py",
   "mimetype": "text/x-python",
   "name": "python",
   "nbconvert_exporter": "python",
   "pygments_lexer": "ipython3",
   "version": "3.8.5"
  }
 },
 "nbformat": 4,
 "nbformat_minor": 2
}
