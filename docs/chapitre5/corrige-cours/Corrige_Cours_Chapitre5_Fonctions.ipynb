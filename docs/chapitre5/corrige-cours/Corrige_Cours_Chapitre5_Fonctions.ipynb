{
 "cells": [
  {
   "cell_type": "markdown",
   "metadata": {},
   "source": [
    "## Exercice 1"
   ]
  },
  {
   "cell_type": "code",
   "execution_count": null,
   "metadata": {},
   "outputs": [],
   "source": [
    "def imc(m, t):\n",
    "    \"\"\"Retourne la classification de l'IMC pour une taille t\n",
    "    et une masse m:\n",
    "    0 pour sous-poids\n",
    "    1 pour normal\n",
    "    2 pour surpoids\n",
    "    \"\"\"\n",
    "    mesure = m / t ** 2\n",
    "    if mesure < 18.5:\n",
    "        return 0\n",
    "    elif mesure <= 25:\n",
    "        return 1\n",
    "    else:\n",
    "        return 2"
   ]
  },
  {
   "cell_type": "code",
   "execution_count": 1,
   "metadata": {},
   "outputs": [],
   "source": [
    "def max2(a, b):\n",
    "    \"\"\"Renvoie le maximum de deux nombres\n",
    "    passés en paramètres\"\"\"\n",
    "    if a > b:\n",
    "        return a\n",
    "    else:\n",
    "        return b"
   ]
  },
  {
   "cell_type": "markdown",
   "metadata": {},
   "source": [
    "L'exécution d'une instruction `return` provoque une sortie de la fonction donc on peut omettre le `else`"
   ]
  },
  {
   "cell_type": "code",
   "execution_count": 2,
   "metadata": {},
   "outputs": [],
   "source": [
    "def max2(a, b):\n",
    "    \"\"\"Renvoie le maximum de deux nombres\n",
    "    passés en paramètres\"\"\"\n",
    "    if a > b:\n",
    "        return a\n",
    "    return b"
   ]
  },
  {
   "cell_type": "markdown",
   "metadata": {},
   "source": [
    "Une première version"
   ]
  },
  {
   "cell_type": "code",
   "execution_count": 3,
   "metadata": {},
   "outputs": [],
   "source": [
    "def max3V1(a, b, c):\n",
    "    \"\"\"Renvoie le maximum de trois nombres\n",
    "    passés en paramètres\"\"\"\n",
    "    if a >= b:\n",
    "        if a >= c:\n",
    "            return a\n",
    "        return c\n",
    "    elif b >= c:\n",
    "        return b\n",
    "    else:\n",
    "        return c"
   ]
  },
  {
   "cell_type": "markdown",
   "metadata": {},
   "source": [
    "On peut précalculer le maximum de a et b avec `max2` pour éliminer un test"
   ]
  },
  {
   "cell_type": "code",
   "execution_count": 4,
   "metadata": {},
   "outputs": [],
   "source": [
    "def max3V2(a, b, c):\n",
    "    \"\"\"Renvoie le maximum de trois nombres\n",
    "    passés en paramètres\"\"\"\n",
    "    m = max2(a, b)\n",
    "    if m >= c:\n",
    "        return m\n",
    "    return c"
   ]
  },
  {
   "cell_type": "markdown",
   "metadata": {},
   "source": [
    "Dans ce cas on enchaîne deux appels de `max2`"
   ]
  },
  {
   "cell_type": "code",
   "execution_count": 6,
   "metadata": {},
   "outputs": [],
   "source": [
    "def max3V3(a, b, c):\n",
    "    \"\"\"Renvoie le maximum de trois nombres\n",
    "    passés en paramètres\"\"\"\n",
    "    m = max2(a, b)\n",
    "    return max2(m, c)"
   ]
  },
  {
   "cell_type": "markdown",
   "metadata": {},
   "source": [
    "Mais alors on peut composer"
   ]
  },
  {
   "cell_type": "code",
   "execution_count": 8,
   "metadata": {},
   "outputs": [],
   "source": [
    "def max3V4(a, b, c):\n",
    "    \"\"\"Renvoie le maximum de trois nombres\n",
    "    passés en paramètres\"\"\"\n",
    "    return max2(max2(a, b), c)"
   ]
  },
  {
   "cell_type": "markdown",
   "metadata": {},
   "source": [
    "## Exercice 2"
   ]
  },
  {
   "cell_type": "code",
   "execution_count": null,
   "metadata": {},
   "outputs": [],
   "source": [
    "def aumoinsun(a, b, c):\n",
    "    \"\"\"Retourne un booléen indiquant si au moins des trois réels\n",
    "    a,b ou c est positif\"\"\"\n",
    "    return a >= 0 or b >= 0 or c >= 0"
   ]
  },
  {
   "cell_type": "code",
   "execution_count": 9,
   "metadata": {},
   "outputs": [],
   "source": [
    "def tous(a, b, c):\n",
    "    \"\"\"Retourne un booléen indiquant si tous les réels\n",
    "    a, b et c sont positifs\"\"\"\n",
    "    return a >= 0 and b >= 0 and c >= 0"
   ]
  },
  {
   "cell_type": "code",
   "execution_count": null,
   "metadata": {},
   "outputs": [],
   "source": [
    "def croissant(a, b, c):\n",
    "    \"\"\"Retourne un booléen indiquant si a,b et c \n",
    "    sont dans l'ordre croissant\"\"\"\n",
    "    return a <= b and b <= c"
   ]
  },
  {
   "cell_type": "code",
   "execution_count": null,
   "metadata": {},
   "outputs": [],
   "source": [
    "def croissant2(a, b, c):\n",
    "    \"\"\"Retourne un booléen indiquant si a,b et c \n",
    "    sont dans l'ordre croissant.\n",
    "    Python permet de chainer les opérateurs de comparaison\"\"\"\n",
    "    return a <= b <= c"
   ]
  },
  {
   "cell_type": "code",
   "execution_count": null,
   "metadata": {},
   "outputs": [],
   "source": [
    "def bissextile(a):\n",
    "    \"\"\"Une année est bissextile si elle est divisible par 400\n",
    "    ou pas divisible par 100 et divisible par 4\"\"\"\n",
    "    return a % 400 == 0 or (a % 100 != 0 and a % 4 == 0)"
   ]
  },
  {
   "cell_type": "markdown",
   "metadata": {},
   "source": [
    "## Entrainement 1"
   ]
  },
  {
   "cell_type": "code",
   "execution_count": 34,
   "metadata": {},
   "outputs": [],
   "source": [
    "def mention(note):\n",
    "    \"\"\"Prend en paramètre une note et renvoie\n",
    "    une chaîne de caractères :\n",
    "    - 'R' si note < 10\n",
    "    - 'A' si 10 <= note < 12 \n",
    "    - 'AB' si 12 <= note < 14\n",
    "    - 'B' si 14 <= note < 16\n",
    "    - 'TB' si 16 <= note\n",
    "    \"\"\"\n",
    "    if note < 10:\n",
    "        return 'R'\n",
    "    elif note < 12:\n",
    "        return 'A'\n",
    "    elif note < 14:\n",
    "        return 'AB'\n",
    "    elif note < 16:\n",
    "        return 'B'\n",
    "    else:\n",
    "        return 'TB'"
   ]
  },
  {
   "cell_type": "markdown",
   "metadata": {},
   "source": [
    "## Exercice 3"
   ]
  },
  {
   "cell_type": "code",
   "execution_count": 10,
   "metadata": {},
   "outputs": [],
   "source": [
    "from random import randint\n",
    "\n",
    "def sommeDe(n):\n",
    "    \"\"\"Retourne la somme des résultats obtenus en lançant n \n",
    "    dés à 6 faces\"\"\"\n",
    "    s = 0\n",
    "    for k in range(n):\n",
    "        de = randint(1, 6)\n",
    "        s = s + de\n",
    "    return s    \n",
    "\n",
    "\n",
    "def urne():\n",
    "    \"\"\"Retourne le numéro d'une boule choisie dans une urne\n",
    "    contenant 5 boules de numéro 1, 3 boules de numéro 2,\n",
    "    et deux boules de numéro3\"\"\"\n",
    "    choix = randint(1, 10)\n",
    "    if choix <= 5:\n",
    "        return 1\n",
    "    elif choix <= 8:\n",
    "        return 2\n",
    "    else:\n",
    "        return 3"
   ]
  },
  {
   "cell_type": "markdown",
   "metadata": {},
   "source": [
    "## Entrainement 2"
   ]
  },
  {
   "cell_type": "markdown",
   "metadata": {},
   "source": [
    "### Question 1"
   ]
  },
  {
   "cell_type": "code",
   "execution_count": 13,
   "metadata": {},
   "outputs": [],
   "source": [
    "from random import randint\n",
    "\n",
    "def moyenneDe(n):\n",
    "    s = 0\n",
    "    for k in range(n):\n",
    "        s = s + randint(1, 6)\n",
    "    return s / n"
   ]
  },
  {
   "cell_type": "code",
   "execution_count": 11,
   "metadata": {},
   "outputs": [],
   "source": [
    "# Import de la bibliothèque graphique matplotlib\n",
    "import matplotlib.pyplot as plt"
   ]
  },
  {
   "cell_type": "markdown",
   "metadata": {},
   "source": [
    "Fluctuation d'échantillonnage"
   ]
  },
  {
   "cell_type": "code",
   "execution_count": 14,
   "metadata": {},
   "outputs": [
    {
     "data": {
      "image/png": "[encoded data removed]",
      "text/plain": [
       "<Figure size 432x288 with 5 Axes>"
      ]
     },
     "metadata": {
      "needs_background": "light"
     },
     "output_type": "display_data"
    }
   ],
   "source": [
    "%matplotlib inline\n",
    "\n",
    "for k in range(5):\n",
    "    n = 10 ** k\n",
    "    numero_echantillon = [k for k in range(1, 1001)]\n",
    "    liste_moyenne = [moyenneDe(n) for k in range(1000)]\n",
    "    plt.title('Moyenne sur 1000 échantillons de taille {}'.format(n))\n",
    "    plt.subplot(51 * 10 + (k+1))\n",
    "    plt.plot(numero_echantillon, liste_moyenne)\n",
    "plt.tight_layout()"
   ]
  },
  {
   "cell_type": "markdown",
   "metadata": {},
   "source": [
    "Loi faible des grands nombres"
   ]
  },
  {
   "cell_type": "code",
   "execution_count": 15,
   "metadata": {},
   "outputs": [
    {
     "data": {
      "text/plain": [
       "[<matplotlib.lines.Line2D at 0x7f4d1afd9280>]"
      ]
     },
     "execution_count": 15,
     "metadata": {},
     "output_type": "execute_result"
    },
    {
     "data": {
      "image/png": "[encoded data removed]",
      "text/plain": [
       "<Figure size 432x288 with 1 Axes>"
      ]
     },
     "metadata": {
      "needs_background": "light"
     },
     "output_type": "display_data"
    }
   ],
   "source": [
    "%matplotlib inline\n",
    "\n",
    "taille_echantillon = [10 ** k for k in range(5)]\n",
    "moyenne_moyenne = [ sum(moyenneDe(n) for k in range(1000))/1000 for n in taille_echantillon]\n",
    "plt.title('Evolution de la moyenne sur 1000 échantillons de taille n')\n",
    "plt.plot(taille_echantillon, moyenne_moyenne)"
   ]
  },
  {
   "cell_type": "markdown",
   "metadata": {},
   "source": [
    "### Question 2"
   ]
  },
  {
   "cell_type": "code",
   "execution_count": 16,
   "metadata": {},
   "outputs": [],
   "source": [
    "def premier6():\n",
    "    \"\"\"Retourne le rang du premier 6\"\"\"\n",
    "    k = 1\n",
    "    while randint(1, 6) != 6:\n",
    "        k = k + 1\n",
    "    return k"
   ]
  },
  {
   "cell_type": "markdown",
   "metadata": {},
   "source": [
    "### Question 3"
   ]
  },
  {
   "cell_type": "code",
   "execution_count": 17,
   "metadata": {},
   "outputs": [],
   "source": [
    "def tempsAttente(n):\n",
    "    \"\"\"Retourne le temps d'attente moyen du premier 6\n",
    "    sur un échantillon de n lancers\"\"\"\n",
    "    t = 0\n",
    "    for k in range(n):\n",
    "        t = t + premier6()\n",
    "    return t / n"
   ]
  },
  {
   "cell_type": "markdown",
   "metadata": {},
   "source": [
    "## Exercice 4"
   ]
  },
  {
   "cell_type": "code",
   "execution_count": 18,
   "metadata": {},
   "outputs": [],
   "source": [
    "from turtle import *\n",
    "\n",
    "def spirale1(n):\n",
    "    \"\"\"Trace une spirale constituée de n carrés déformés\"\"\"\n",
    "    penup()\n",
    "    goto(0,0)\n",
    "    pendown()\n",
    "    c = 5\n",
    "    for i in range(n):\n",
    "        for j in range(4):\n",
    "            forward(c)\n",
    "            c = c + 10 \n",
    "            left(90)\n",
    "    exitonclick()\n",
    "\n",
    "##Permet de capturer l'exception Terminator générée lorsqu'on ferme la fenêtre Turtle\n",
    "try:\n",
    "    reset()\n",
    "except Terminator:\n",
    "    pass\n",
    "\n",
    "spirale1(10)"
   ]
  },
  {
   "cell_type": "code",
   "execution_count": 19,
   "metadata": {},
   "outputs": [],
   "source": [
    "from turtle import *\n",
    "\n",
    "def spirale2(n, m):\n",
    "    \"\"\"Trace une spirale constituée de n polygones déformés\n",
    "    à m cotés\"\"\"\n",
    "    penup()\n",
    "    goto(0,0)\n",
    "    pendown()\n",
    "    c = 5\n",
    "    for i in range(n):\n",
    "        for j in range(m):\n",
    "            forward(c)\n",
    "            c = c + 10 \n",
    "            left(360/m)\n",
    "    exitonclick()\n",
    "    \n",
    "##Permet de capturer l'exception Terminator générée lorsqu'on ferme la fenêtre Turtle\n",
    "try:\n",
    "    reset()\n",
    "except Terminator:\n",
    "    pass\n",
    "\n",
    "spirale2(4, 6)"
   ]
  },
  {
   "cell_type": "markdown",
   "metadata": {},
   "source": [
    "## Entrainement 3"
   ]
  },
  {
   "cell_type": "code",
   "execution_count": 32,
   "metadata": {},
   "outputs": [],
   "source": [
    "from turtle import *\n",
    "from math import sin, pi\n",
    "\n",
    "def spirale3(n, m):\n",
    "    shape('turtle')\n",
    "    ecart = 10\n",
    "    rayon = 20\n",
    "    cote = 20\n",
    "    for i in range(n):\n",
    "        penup()\n",
    "        goto(0,0)\n",
    "        setheading(0)\n",
    "        forward(rayon)\n",
    "        pendown()\n",
    "        #la difficulté est de calculer l'orientation de la tortue pour le tracé du premier coté\n",
    "        setheading(90+180/m)\n",
    "        cote = 2 * rayon * sin(pi/m)\n",
    "        for j in range(m):\n",
    "            forward(cote)\n",
    "            left(360/m)\n",
    "        rayon = rayon + ecart\n",
    "    exitonclick()\n",
    "    \n",
    "##Permet de capturer l'exception Terminator générée lorsqu'on ferme la fenêtre Turtle\n",
    "try:\n",
    "    reset()\n",
    "except Terminator:\n",
    "    pass\n",
    "\n",
    "spirale3(4, 6)"
   ]
  }
 ],
 "metadata": {
  "kernelspec": {
   "display_name": "Python 3",
   "language": "python",
   "name": "python3"
  },
  "language_info": {
   "codemirror_mode": {
    "name": "ipython",
    "version": 3
   },
   "file_extension": ".py",
   "mimetype": "text/x-python",
   "name": "python",
   "nbconvert_exporter": "python",
   "pygments_lexer": "ipython3",
   "version": "3.8.2"
  }
 },
 "nbformat": 4,
 "nbformat_minor": 4
}
