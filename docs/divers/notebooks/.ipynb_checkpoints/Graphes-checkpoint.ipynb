{
 "cells": [
  {
   "cell_type": "markdown",
   "metadata": {},
   "source": [
    "# Parcours eulérien"
   ]
  },
  {
   "cell_type": "markdown",
   "metadata": {},
   "source": [
    "## Algorithme de Fleury\n",
    "\n",
    "Source : [https://www.irif.fr/~habib/Documents/Eulerien.pdf](https://www.irif.fr/~habib/Documents/Eulerien.pdf)"
   ]
  },
  {
   "cell_type": "code",
   "execution_count": 46,
   "metadata": {},
   "outputs": [],
   "source": [
    "def cycle_eulerien(graphe, debug = False):\n",
    "    \"\"\"\n",
    "    Paramètre : graphe sous forme de listes d'adjacences (listes de listes), sommets numérotés de 0 à n\n",
    "    Valeur renvoyée : tuple (booleen, cyle eulérien sous forme de liste)\n",
    "    Implémentation de l'algorithme de Fleury\n",
    "    \"\"\"\n",
    "    pile_aretes_vues = []\n",
    "    source = 0\n",
    "    dest = graphe[0][0]\n",
    "    #depart_cycle : départ du cyle\n",
    "    #depart_cycle_inter : départ d'un cycle intermédaire inséré dans le cycle final qui remiera depart_cycle à depart_cycle\n",
    "    depart_cycle = depart_cycle_inter = 0\n",
    "    pile_aretes_vues.append((None, None))\n",
    "    cycle = []\n",
    "    #tant que la pile est vide\n",
    "    #il reste des sommets sur le chemin à partir desquels on n'a pas terminé l'exploration de cycles intermédiaires\n",
    "    # c'est à dire des sommets qu'on n'a pas encore inséré dans le cycle\n",
    "    while pile_aretes_vues: \n",
    "        #on enlève l'arête (source, dest) du graphe qui relie source à dest\n",
    "        if dest in graphe[source]:\n",
    "            graphe[source].remove(dest)  #on pourrait implémenter la liste d'adjacence comme une liste d'ensembles\n",
    "        if source in graphe[dest]: #cas d'un graphe non orienté\n",
    "            graphe[dest].remove(source)\n",
    "        # s'il reste des aretes non explorées partant du sommet dest\n",
    "        if len(graphe[dest]) > 0:\n",
    "            #on empile l'arête qu'on vient de parcourir\n",
    "            pile_aretes_vues.append((source, dest))      \n",
    "            #on met à jour source, dest avec l'arête libre issue de dest\n",
    "            source, dest = dest, graphe[dest][0]\n",
    "        #sinon il n'y a plus d'arete libre partant de dest\n",
    "        else:\n",
    "            #si on n'est pas revenu au sommet depart_cycle_inter le graphe n'est pas eulérien\n",
    "            if dest != depart_cycle_inter: #pas de cycle eulérien, sommet de degré impair\n",
    "                return (False, dest)\n",
    "            #sinon on a terminé un cycle intermédiaire\n",
    "            else:\n",
    "                #on peut insérer le sommet dest dans le cycle eulérien car plus aucune arete libre n'en part\n",
    "                cycle.append(dest)\n",
    "                #on recherche un cycle après du sommet précédent (source) dans notre exploration \n",
    "                depart_cycle_inter = source\n",
    "                #on dépile l'arete qui nous avait amené en ce sommet source (dest après dépilement)\n",
    "                #en effet la pile permet de mémoriser tous les sommets (extémité d'arete dans la pile)\n",
    "                #qui n'ont pas encore été inséré dans le chemin\n",
    "                source, dest = pile_aretes_vues.pop()\n",
    "    #on referme le cycle avec le sommet de départ\n",
    "    cycle.append(depart_cycle)\n",
    "    return (True, cycle)   "
   ]
  },
  {
   "cell_type": "code",
   "execution_count": 44,
   "metadata": {},
   "outputs": [
    {
     "data": {
      "text/plain": [
       "(True, [0, 3, 2, 1, 0])"
      ]
     },
     "execution_count": 44,
     "metadata": {},
     "output_type": "execute_result"
    }
   ],
   "source": [
    "# Tests\n",
    "graphe1 = [[1], [2], [3], [0]] #graphe orienté eulérien\n",
    "cycle_eulerien(graphe1, True)"
   ]
  },
  {
   "cell_type": "code",
   "execution_count": 45,
   "metadata": {},
   "outputs": [
    {
     "data": {
      "text/plain": [
       "(True, [0, 1, 2, 3, 0])"
      ]
     },
     "execution_count": 45,
     "metadata": {},
     "output_type": "execute_result"
    }
   ],
   "source": [
    "# Tests\n",
    "graphe2 = [[3,1], [0,2], [1,3], [0,2]] #graphe non orienté eulérien\n",
    "cycle_eulerien(graphe2, True)"
   ]
  },
  {
   "cell_type": "code",
   "execution_count": 49,
   "metadata": {},
   "outputs": [
    {
     "data": {
      "text/plain": [
       "(True, [0, 4, 1, 3, 2, 1, 0])"
      ]
     },
     "execution_count": 49,
     "metadata": {},
     "output_type": "execute_result"
    }
   ],
   "source": [
    "# Tests\n",
    "graphe3 = [[1], [2,4],[3],[1], [0] ] #graphe  orienté eulérien\n",
    "cycle_eulerien(graphe3, True)"
   ]
  },
  {
   "cell_type": "code",
   "execution_count": 51,
   "metadata": {},
   "outputs": [
    {
     "data": {
      "text/plain": [
       "(False, 5)"
      ]
     },
     "execution_count": 51,
     "metadata": {},
     "output_type": "execute_result"
    }
   ],
   "source": [
    "# Tests\n",
    "graphe3 = [[1], [2,4],[3],[1, 5], [0], []] #graphe  orienté non eulérien\n",
    "cycle_eulerien(graphe3, True)"
   ]
  },
  {
   "cell_type": "code",
   "execution_count": 52,
   "metadata": {},
   "outputs": [
    {
     "data": {
      "text/plain": [
       "(True, [0, 2, 6, 7, 9, 11, 10, 5, 9, 8, 7, 5, 6, 4, 5, 3, 1, 4, 2, 1, 0])"
      ]
     },
     "execution_count": 52,
     "metadata": {},
     "output_type": "execute_result"
    }
   ],
   "source": [
    "#Tests graphe RT\n",
    "graphe4= [[1,2], [0,2,3,4],[0,1,4,6],[1,5],[1,2,5,6],\n",
    "          [3,4,6,7,9,10],[2,4,5,7],[5,6,8,9],[7,9],\n",
    "          [5,7,8,11],[5,11],[10,9]\n",
    "         ] #graphe  non orienté  eulérien\n",
    "cycle_eulerien(graphe4, True)"
   ]
  },
  {
   "cell_type": "markdown",
   "metadata": {},
   "source": [
    "![cycle eulérien](../euler.png)"
   ]
  }
 ],
 "metadata": {
  "kernelspec": {
   "display_name": "Python 3",
   "language": "python",
   "name": "python3"
  },
  "language_info": {
   "codemirror_mode": {
    "name": "ipython",
    "version": 3
   },
   "file_extension": ".py",
   "mimetype": "text/x-python",
   "name": "python",
   "nbconvert_exporter": "python",
   "pygments_lexer": "ipython3",
   "version": "3.8.8"
  }
 },
 "nbformat": 4,
 "nbformat_minor": 4
}
