{
 "cells": [
  {
   "cell_type": "markdown",
   "metadata": {},
   "source": [
    "Source sur la loi de réciprocité quadratique et le symbole de Legendre :\n",
    "    \n",
    "<https://www.mathraining.be/chapters/55?type=1&which=186>"
   ]
  },
  {
   "cell_type": "code",
   "execution_count": 200,
   "metadata": {},
   "outputs": [
    {
     "data": {
      "text/plain": [
       "[(-1, 1), (2, 2), (3, 1), (5, 1)]"
      ]
     },
     "execution_count": 200,
     "metadata": {},
     "output_type": "execute_result"
    }
   ],
   "source": [
    "decomposition_premiers(-60)"
   ]
  },
  {
   "cell_type": "code",
   "execution_count": 201,
   "metadata": {},
   "outputs": [],
   "source": [
    "def decomposition_premiers(n : int) -> list:\n",
    "    \"\"\"Décompose l'entier n en facteurs premiers\n",
    "    \"\"\"\n",
    "    d = 2\n",
    "    decomposition = []\n",
    "    if n  < 0:\n",
    "        decomposition.append((-1,1))\n",
    "        n = -n\n",
    "    while n > 1:\n",
    "        while n % d != 0:\n",
    "            d += 1\n",
    "        multiplicite = 0\n",
    "        while n % d == 0:\n",
    "            multiplicite += 1\n",
    "            n = n // d\n",
    "        decomposition.append((d, multiplicite))\n",
    "    return decomposition\n",
    "\n",
    "def signe_reciprocite_quadratique(p, q):\n",
    "    \"\"\"Renvoie le signe du coefficient de changement de signe\n",
    "    (-1) ** ((p-1) // 2 * (q - 1)//2) dans la loi de réciprocité quadratique\"\"\"\n",
    "    if (p - 1) * (q - 1) % 8 == 0:\n",
    "        return 1\n",
    "    else:\n",
    "        return -1\n",
    "    \n",
    "def symbole_legendre(p, q, debug = False):\n",
    "    \"\"\"Renvoie le symbole de Legendre de p par rapport à q\n",
    "    0 (cas trivial) si q divise p\n",
    "    1 si p possède un résidu quadratique modulo q\n",
    "    -1 si p ne possède pas de  résidu quadratique modulo q\n",
    "    \"\"\"\n",
    "    \n",
    "       \n",
    "    memo = dict() #dictionnaire de memoization des symboles de Legendre déjà calculés\n",
    "    compteur_appels = 0\n",
    "    \n",
    "    def auxiliaire(p, q):\n",
    "        nonlocal compteur_appels\n",
    "        if debug:\n",
    "            print(p, q, decomposition_premiers(p))\n",
    "            compteur_appels += 1\n",
    "        if p % q == 0:\n",
    "            return 0\n",
    "        if (p, q) in memo:\n",
    "            return memo[(p,q)]\n",
    "        if p == 1:\n",
    "            memo[(p,q)] = 1\n",
    "        elif p == -1:\n",
    "            if q % 4 == 1:\n",
    "                memo[(p,q)] = 1\n",
    "            else:\n",
    "                memo[(p,q)] = -1\n",
    "        elif p == 2:\n",
    "            if q % 8 in [-1, 1]:\n",
    "                memo[(p,q)] = 1\n",
    "            else:\n",
    "                memo[(p,q)] = -1            \n",
    "        else:\n",
    "            symbole = signe_reciprocite_quadratique(p, q)\n",
    "            for (facteur_premier, multiplicite) in decomposition_premiers(q % p):\n",
    "                if multiplicite % 2 == 1:\n",
    "                    symbole = symbole * auxiliaire(facteur_premier, q)\n",
    "            memo[(p, q)] = symbole\n",
    "        return memo[(p, q)] \n",
    "\n",
    "    calcul = auxiliaire(p, q)  \n",
    "    if debug:\n",
    "        print(f\"Calcul en {compteur_appels} appels\")\n",
    "    return calcul"
   ]
  },
  {
   "cell_type": "code",
   "execution_count": 202,
   "metadata": {},
   "outputs": [],
   "source": [
    "def resolution_residu_quadratique(p, q, debug = False):\n",
    "    \"\"\"Renvoie une liste (x, y) de solutions de l'équation  q * x + p  = y ** 2\n",
    "    liste vide si p n'est pas un résidu quadratique modulo q\"\"\"\n",
    "    #premier cas : pas de solution\n",
    "    if symbole_legendre(p,q) == -1:\n",
    "        return []\n",
    "    #second cas \n",
    "    else:\n",
    "        #recherche des deux solutions avec 0 <= y < q par balayage        \n",
    "        p = p % q\n",
    "        y = 0\n",
    "        carre_y = y ** 2\n",
    "        while carre_y % q != p:\n",
    "            y += 1\n",
    "            carre_y = y ** 2\n",
    "        solution = [((carre_y - p) // q, y), (((q - y) ** 2 - p) // q, q - y)]\n",
    "        if debug:\n",
    "            for (x, y) in solution:\n",
    "                print(f\"{q} * {x} + {p} = {y} ** 2 = > {q * x + p == y ** 2}\")\n",
    "        return solution"
   ]
  },
  {
   "cell_type": "code",
   "execution_count": 203,
   "metadata": {},
   "outputs": [
    {
     "name": "stdout",
     "output_type": "stream",
     "text": [
      "78 2 [(2, 1), (3, 1), (13, 1)]\n",
      "Calcul en 1 appels\n"
     ]
    },
    {
     "data": {
      "text/plain": [
       "0"
      ]
     },
     "execution_count": 203,
     "metadata": {},
     "output_type": "execute_result"
    }
   ],
   "source": [
    "symbole_legendre(78,2, debug = True) #cas trivial"
   ]
  },
  {
   "cell_type": "code",
   "execution_count": 204,
   "metadata": {},
   "outputs": [
    {
     "name": "stdout",
     "output_type": "stream",
     "text": [
      "78 103 [(2, 1), (3, 1), (13, 1)]\n",
      "Calcul en 1 appels\n"
     ]
    },
    {
     "data": {
      "text/plain": [
       "-1"
      ]
     },
     "execution_count": 204,
     "metadata": {},
     "output_type": "execute_result"
    }
   ],
   "source": [
    "symbole_legendre(78,103, debug = True)"
   ]
  },
  {
   "cell_type": "code",
   "execution_count": 205,
   "metadata": {},
   "outputs": [
    {
     "name": "stdout",
     "output_type": "stream",
     "text": [
      "11 89 [(11, 1)]\n",
      "Calcul en 1 appels\n"
     ]
    },
    {
     "data": {
      "text/plain": [
       "1"
      ]
     },
     "execution_count": 205,
     "metadata": {},
     "output_type": "execute_result"
    }
   ],
   "source": [
    "symbole_legendre(11,89, debug = True)"
   ]
  },
  {
   "cell_type": "code",
   "execution_count": 206,
   "metadata": {},
   "outputs": [
    {
     "name": "stdout",
     "output_type": "stream",
     "text": [
      "89 * 1 + 11 = 10 ** 2 = > True\n",
      "89 * 70 + 11 = 79 ** 2 = > True\n"
     ]
    },
    {
     "data": {
      "text/plain": [
       "[(1, 10), (70, 79)]"
      ]
     },
     "execution_count": 206,
     "metadata": {},
     "output_type": "execute_result"
    }
   ],
   "source": [
    "resolution_residu_quadratique(11, 89, debug = True)"
   ]
  },
  {
   "cell_type": "code",
   "execution_count": 207,
   "metadata": {},
   "outputs": [
    {
     "name": "stdout",
     "output_type": "stream",
     "text": [
      "713 1009 [(23, 1), (31, 1)]\n",
      "2 1009 [(2, 1)]\n",
      "37 1009 [(37, 1)]\n",
      "2 1009 [(2, 1)]\n",
      "5 1009 [(5, 1)]\n",
      "Calcul en 5 appels\n"
     ]
    },
    {
     "data": {
      "text/plain": [
       "1"
      ]
     },
     "execution_count": 207,
     "metadata": {},
     "output_type": "execute_result"
    }
   ],
   "source": [
    "symbole_legendre(713,1009, True)"
   ]
  },
  {
   "cell_type": "code",
   "execution_count": 208,
   "metadata": {},
   "outputs": [
    {
     "name": "stdout",
     "output_type": "stream",
     "text": [
      "1009 * 43 + 713 = 210 ** 2 = > True\n",
      "1009 * 632 + 713 = 799 ** 2 = > True\n"
     ]
    },
    {
     "data": {
      "text/plain": [
       "[(43, 210), (632, 799)]"
      ]
     },
     "execution_count": 208,
     "metadata": {},
     "output_type": "execute_result"
    }
   ],
   "source": [
    "resolution_residu_quadratique(713, 1009, debug = True)"
   ]
  },
  {
   "cell_type": "code",
   "execution_count": 209,
   "metadata": {},
   "outputs": [
    {
     "name": "stdout",
     "output_type": "stream",
     "text": [
      "5984 7907 [(2, 5), (11, 1), (17, 1)]\n",
      "3 7907 [(3, 1)]\n",
      "2 7907 [(2, 1)]\n",
      "641 7907 [(641, 1)]\n",
      "5 7907 [(5, 1)]\n",
      "2 7907 [(2, 1)]\n",
      "43 7907 [(43, 1)]\n",
      "2 7907 [(2, 1)]\n",
      "19 7907 [(19, 1)]\n",
      "3 7907 [(3, 1)]\n",
      "Calcul en 10 appels\n"
     ]
    },
    {
     "data": {
      "text/plain": [
       "-1"
      ]
     },
     "execution_count": 209,
     "metadata": {},
     "output_type": "execute_result"
    }
   ],
   "source": [
    "symbole_legendre(5984,7907, True)"
   ]
  },
  {
   "cell_type": "code",
   "execution_count": 210,
   "metadata": {},
   "outputs": [
    {
     "name": "stdout",
     "output_type": "stream",
     "text": [
      "6988 7907 [(2, 2), (1747, 1)]\n",
      "919 7907 [(919, 1)]\n",
      "3 7907 [(3, 1)]\n",
      "2 7907 [(2, 1)]\n",
      "5 7907 [(5, 1)]\n",
      "2 7907 [(2, 1)]\n",
      "37 7907 [(37, 1)]\n",
      "2 7907 [(2, 1)]\n",
      "13 7907 [(13, 1)]\n",
      "3 7907 [(3, 1)]\n",
      "Calcul en 10 appels\n"
     ]
    },
    {
     "data": {
      "text/plain": [
       "1"
      ]
     },
     "execution_count": 210,
     "metadata": {},
     "output_type": "execute_result"
    }
   ],
   "source": [
    "symbole_legendre(6988,7907, True)"
   ]
  },
  {
   "cell_type": "code",
   "execution_count": 211,
   "metadata": {},
   "outputs": [
    {
     "name": "stdout",
     "output_type": "stream",
     "text": [
      "7907 * 1468 + 6988 = 3408 ** 2 = > True\n",
      "7907 * 2559 + 6988 = 4499 ** 2 = > True\n"
     ]
    },
    {
     "data": {
      "text/plain": [
       "[(1468, 3408), (2559, 4499)]"
      ]
     },
     "execution_count": 211,
     "metadata": {},
     "output_type": "execute_result"
    }
   ],
   "source": [
    "resolution_residu_quadratique(6988,7907, debug = True)"
   ]
  },
  {
   "cell_type": "code",
   "execution_count": 212,
   "metadata": {},
   "outputs": [
    {
     "data": {
      "text/plain": [
       "[]"
      ]
     },
     "execution_count": 212,
     "metadata": {},
     "output_type": "execute_result"
    }
   ],
   "source": [
    "resolution_residu_quadratique(78, 103, debug = True)"
   ]
  },
  {
   "cell_type": "code",
   "execution_count": 213,
   "metadata": {},
   "outputs": [
    {
     "name": "stdout",
     "output_type": "stream",
     "text": [
      "-1 5 [(-1, 1)]\n",
      "Calcul en 1 appels\n"
     ]
    },
    {
     "data": {
      "text/plain": [
       "1"
      ]
     },
     "execution_count": 213,
     "metadata": {},
     "output_type": "execute_result"
    }
   ],
   "source": [
    "symbole_legendre(-1, 5, True)"
   ]
  },
  {
   "cell_type": "code",
   "execution_count": 214,
   "metadata": {
    "scrolled": true
   },
   "outputs": [
    {
     "name": "stdout",
     "output_type": "stream",
     "text": [
      "5 * 0 + 4 = 2 ** 2 = > True\n",
      "5 * 1 + 4 = 3 ** 2 = > True\n"
     ]
    },
    {
     "data": {
      "text/plain": [
       "[(0, 2), (1, 3)]"
      ]
     },
     "execution_count": 214,
     "metadata": {},
     "output_type": "execute_result"
    }
   ],
   "source": [
    "resolution_residu_quadratique(-1, 5, debug = True)"
   ]
  },
  {
   "cell_type": "code",
   "execution_count": 215,
   "metadata": {},
   "outputs": [
    {
     "data": {
      "text/plain": [
       "[]"
      ]
     },
     "execution_count": 215,
     "metadata": {},
     "output_type": "execute_result"
    }
   ],
   "source": [
    "resolution_residu_quadratique(-1, 7, debug = True)"
   ]
  },
  {
   "cell_type": "code",
   "execution_count": 216,
   "metadata": {},
   "outputs": [
    {
     "data": {
      "text/plain": [
       "[]"
      ]
     },
     "execution_count": 216,
     "metadata": {},
     "output_type": "execute_result"
    }
   ],
   "source": [
    "resolution_residu_quadratique(2, 11, debug = True)"
   ]
  },
  {
   "cell_type": "code",
   "execution_count": 217,
   "metadata": {},
   "outputs": [
    {
     "name": "stdout",
     "output_type": "stream",
     "text": [
      "2 17 [(2, 1)]\n",
      "Calcul en 1 appels\n"
     ]
    },
    {
     "data": {
      "text/plain": [
       "1"
      ]
     },
     "execution_count": 217,
     "metadata": {},
     "output_type": "execute_result"
    }
   ],
   "source": [
    "symbole_legendre(2, 17, True)"
   ]
  },
  {
   "cell_type": "code",
   "execution_count": 218,
   "metadata": {
    "scrolled": true
   },
   "outputs": [
    {
     "name": "stdout",
     "output_type": "stream",
     "text": [
      "17 * 2 + 2 = 6 ** 2 = > True\n",
      "17 * 7 + 2 = 11 ** 2 = > True\n"
     ]
    },
    {
     "data": {
      "text/plain": [
       "[(2, 6), (7, 11)]"
      ]
     },
     "execution_count": 218,
     "metadata": {},
     "output_type": "execute_result"
    }
   ],
   "source": [
    "resolution_residu_quadratique(2, 17, debug = True)"
   ]
  }
 ],
 "metadata": {
  "kernelspec": {
   "display_name": "Python 3",
   "language": "python",
   "name": "python3"
  },
  "language_info": {
   "codemirror_mode": {
    "name": "ipython",
    "version": 3
   },
   "file_extension": ".py",
   "mimetype": "text/x-python",
   "name": "python",
   "nbconvert_exporter": "python",
   "pygments_lexer": "ipython3",
   "version": "3.8.8"
  }
 },
 "nbformat": 4,
 "nbformat_minor": 4
}
