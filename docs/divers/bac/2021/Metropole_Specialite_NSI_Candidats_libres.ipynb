{
 "cells": [
  {
   "cell_type": "markdown",
   "metadata": {},
   "source": [
    "<div class = \"alert alert-warning\">\n",
    "Ce fichier  est un notebook Python.\n",
    "\n",
    "Il comporte deux types de cellules :\n",
    "\n",
    "* les cellules d'édition dans lesquelles vous pouvez saisir du texte éventuellement enrichi de mises en formes ou de liens hypertextes avec la syntaxe du langage HTML simplifié qui s'appelle Markdown. Voir http://daringfireball.net/projects/markdown/ pour la syntaxe de Markdown.\n",
    "\n",
    "* les cellules de code où l'on peut saisir du code Python3 puis le faire exécuter avec la combinaison de touches `CTRL + RETURN`\n",
    "\n",
    "Une cellule peut être éditée  de deux façons différentes :\n",
    "\n",
    "* en mode _commande_ lorsqu'on clique sur sa marge gauche qui est surlignée alors en bleu, on peut alors  :\n",
    "\n",
    "    - changer le type de la cellule en appuyant sur `m` pour passer en cellule Markdown ou sur `y` pour passer en cellule de code\n",
    "    \n",
    "    - insérer une cellule juste au-dessus en appuyant sur `a`\n",
    "    \n",
    "    - insérer une cellule juste en-dessous en appuyant sur `b`\n",
    "    \n",
    "    - couper la cellule en appuyant sur `x` etc ...\n",
    "    \n",
    "* en mode _édition_ lorsqu'on clique sur l'intérieur de la cellule.\n",
    "\n",
    "L'aide complète sur les raccourcis claviers est accessible depuis le bouton `Help` dans la barre d'outils ci-dessus.\n",
    "<div>"
   ]
  },
  {
   "cell_type": "markdown",
   "metadata": {},
   "source": [
    "# Outils pour l'affichage\n",
    "\n"
   ]
  },
  {
   "cell_type": "code",
   "execution_count": 193,
   "metadata": {},
   "outputs": [],
   "source": [
    "from PIL import Image\n",
    "import numpy as np\n",
    "import matplotlib.pyplot as plt\n",
    "from copy import deepcopy\n",
    "\n",
    "def dimensions(pix):\n",
    "    \"\"\"Retourne les dimensions (Largeur, Hauteur) d'une matrice\n",
    "    de pixels\"\"\"\n",
    "    return len(pix[0]), len(pix) \n",
    "\n",
    "\n",
    "def laby_to_image(pix_source, mode = '1', fichier='image.png', res=1):\n",
    "    \"\"\"Convertit en image  une matrice de pixels pix \n",
    "    de dimensions (ligne, colonnes)=(nline, ncol)\n",
    "    en représentant sur l'écran chaque case de pix\n",
    "    par un carré de coté resolution pixels.\n",
    "    Le mode de l'image peut être :\n",
    "    '1'  : binaire 0 ou 1\n",
    "    'L' : niveaux de gris entre 0 et 255\n",
    "    'RGB' : triplet de valeurs (Rouge, Vert, Bleu) entre 0 et 255\n",
    "    \"\"\"\n",
    "    #on force la conversion en type np.uint8 si pix est un tableau numpy\n",
    "    pix = deepcopy(pix_source)\n",
    "    if isinstance(pix, np.ndarray):\n",
    "        pix = pix.astype(np.uint8)\n",
    "    #précondition 1 : list doit être une matrice de pixels\n",
    "    precondition1 = isinstance(pix, (list, np.ndarray)) \\\n",
    "                   and len(pix) > 0 \\\n",
    "                and all(isinstance(pix[k], (list, np.ndarray)) \\\n",
    "                        and  len(pix[k]) == len(pix[0])  \\\n",
    "                        for k in range(len(pix)))\n",
    "    assert precondition1, \"Il faut passer en paramètre une matrice de pixels\"\n",
    "    #dimensions de la matrice de pixels\n",
    "    largeur_pix, hauteur_pix = dimensions(pix)\n",
    "    #transformations des pixels : 0,2,3  -> 1 et 1 -> 0\n",
    "    for i in range(hauteur_pix):\n",
    "        for j in range(largeur_pix):\n",
    "            if pix[i][j] in [0, 2,3]:\n",
    "                pix[i][j] = 1\n",
    "            else:\n",
    "                pix[i][j] = 0\n",
    "    #préconditions sur la matrice de pixels pour respecter les contraintes du mode de l'image \n",
    "    precondition2 =  mode == '1' and \\\n",
    "                    all(isinstance(pix[y][x], (int, np.uint8)) and 0 <= pix[y][x] <= 1 \\\n",
    "                        for y in range(hauteur_pix) for x in range(largeur_pix))\n",
    "    precondition3 =  mode == 'L' and \\\n",
    "                    all(isinstance(pix[y][x], (int, np.uint8)) and 0 <= pix[y][x] <= 255 \\\n",
    "                        for y in range(hauteur_pix) for x in range(largeur_pix))\n",
    "    precondition4 = mode == 'RGB' and \\\n",
    "                    all(isinstance(pix[y][x], (list, np.ndarray)) \\\n",
    "                        and len(pix[y][x]) == 3 \\\n",
    "                        and  all(isinstance(pix[y][x][k], (int, np.uint8)) \\\n",
    "                                 and 0 <= pix[y][x][k] <= 255 \\\n",
    "                            for k in range(3)) \\\n",
    "                        for y in range(hauteur_pix) for x in range(largeur_pix))\n",
    "    assert precondition2 or precondition3 or precondition4, \"matrice de pixels et mode incompatibles !\"    \n",
    "    #dimensions de la matrice de pixels\n",
    "    hauteur_newpix, largeur_newpix = res * hauteur_pix, res * largeur_pix\n",
    "    #copie de pix sous forme de tableau numpy agrandi d'un coefficient res \n",
    "    if mode != 'RGB':\n",
    "        newpix =  np.zeros((hauteur_newpix, largeur_newpix), dtype='uint8')\n",
    "    else:\n",
    "        newpix =  np.zeros((hauteur_newpix, largeur_newpix, 3), dtype='uint8')\n",
    "    #initialsation des blocs de taille res * res de newpix\n",
    "    #avec des 0 si pix[i][j] == 0 et 1 sinon\n",
    "    for y in range(hauteur_newpix):\n",
    "        for x in range(largeur_newpix):\n",
    "            ypix = y // res\n",
    "            xpix = x // res\n",
    "            newpix[y][x] = pix[ypix][xpix]   \n",
    "    if mode != 'RGB':\n",
    "        #création d'un objet image PIL en mode binaire (pixel de valeur 0 ou 1)\n",
    "        im = Image.new(mode, (largeur_newpix, hauteur_newpix))  #Image.new(mode, (Largeur, Hauteur))  \n",
    "        #on remplit l'image avec les valeurs de newpix\n",
    "        im.putdata(newpix.flatten())\n",
    "    else:\n",
    "        im = Image.fromarray(newpix)\n",
    "    #enregistrement de l'image sur le disque\n",
    "    im.save(fichier)\n",
    "    #affichage de l'image\n",
    "    #plt.axis('off') #to disable xticks and yticks\n",
    "    #cas des images binaires \n",
    "    if mode == '1':\n",
    "        plt.imshow(newpix,cmap=plt.cm.gray, vmin= 0, vmax = 1)\n",
    "    # cas des images en niveaux de gris\n",
    "    elif mode == 'L':\n",
    "        plt.imshow(newpix,cmap=plt.cm.gray, vmin= 0, vmax = 255)\n",
    "    #cas des images RGB\n",
    "    else:\n",
    "        plt.imshow(newpix)\n",
    "        \n",
    "def image_to_laby(fichier):\n",
    "    #ouverture de l'image avec PIL\n",
    "    im = Image.open(fichier)\n",
    "    #conversion de l'image en matrice de pixels / tableau numpy\n",
    "    pix = np.array(im, dtype = np.uint8)\n",
    "    #conversion de la matrice de pixels en liste Python\n",
    "    pix = pix.tolist()\n",
    "    return pix\n",
    "\n",
    "def laby_vide(ncol, nlig, mode):\n",
    "    \"\"\"Retourne une matrice de pixels de n lignes et m colonnes\n",
    "    représentant une image noire dans le mode  d'image choisi\"\"\"\n",
    "    assert mode in ['1', 'L', 'RGB'], \"mode doit appartenir à ['1', 'L', 'RGB']\"\n",
    "    if mode in ['1', 'L']:\n",
    "        return [[0 for x in range(ncol)] for y in range(nlig)]\n",
    "    else:               \n",
    "        return [[[0,0,0] for x in range(ncol)] for y in range(nlig)]"
   ]
  },
  {
   "cell_type": "markdown",
   "metadata": {},
   "source": [
    "# Exercice 4"
   ]
  },
  {
   "cell_type": "markdown",
   "metadata": {},
   "source": [
    "![laby](exo4_laby.png)"
   ]
  },
  {
   "cell_type": "markdown",
   "metadata": {},
   "source": [
    "### Question 1"
   ]
  },
  {
   "cell_type": "markdown",
   "metadata": {},
   "source": [
    "Les labyrinthes : "
   ]
  },
  {
   "cell_type": "code",
   "execution_count": 194,
   "metadata": {},
   "outputs": [],
   "source": [
    "lab1 = [ [1,1,1,1,1,0,0,0,0,0,1],\n",
    "       [1,0,0,0,1,0,1,0,1,0,1],\n",
    "       [1,0,1,0,1,0,1,0,1,0,1],\n",
    "       [1,0,1,0,1,0,1,0,1,0,1],\n",
    "       [1,0,1,0,1,0,1,0,1,0,1],\n",
    "       [2,0,1,0,0,0,1,0,1,0,3],\n",
    "       [1,1,1,1,1,1,1,0,1,0,1],\n",
    "       [1,0,1,0,1,0,1,1,1,0,1],\n",
    "       [1,0,0,0,1,0,0,0,1,0,1],\n",
    "       [1,0,1,1,1,0,1,0,0,0,1],\n",
    "       [1,0,0,0,0,0,1,1,0,1,1]  \n",
    "       ]"
   ]
  },
  {
   "cell_type": "code",
   "execution_count": 195,
   "metadata": {},
   "outputs": [],
   "source": [
    "lab2 = [[1, 1, 1, 1, 1, 1, 1],\n",
    "[1, 0, 0, 0, 0, 0, 1],\n",
    "[1, 1, 1, 1, 1, 0, 1],\n",
    "[1, 0, 1, 0, 0, 0, 1],\n",
    "[1, 0, 1, 0, 1, 0, 1],\n",
    "[1, 0, 0, 0, 1, 0, 1],\n",
    "[1, 1, 1, 1, 1, 3, 1]]"
   ]
  },
  {
   "cell_type": "code",
   "execution_count": 196,
   "metadata": {},
   "outputs": [
    {
     "data": {
      "image/png": "[encoded data removed]",
      "text/plain": [
       "<Figure size 432x288 with 1 Axes>"
      ]
     },
     "metadata": {
      "needs_background": "light"
     },
     "output_type": "display_data"
    }
   ],
   "source": [
    "laby_to_image(lab1)"
   ]
  },
  {
   "cell_type": "code",
   "execution_count": 197,
   "metadata": {},
   "outputs": [
    {
     "data": {
      "image/png": "[encoded data removed]",
      "text/plain": [
       "<Figure size 432x288 with 1 Axes>"
      ]
     },
     "metadata": {
      "needs_background": "light"
     },
     "output_type": "display_data"
    }
   ],
   "source": [
    "laby_to_image(lab2)"
   ]
  },
  {
   "cell_type": "markdown",
   "metadata": {},
   "source": [
    "### Réponse à la question 1"
   ]
  },
  {
   "cell_type": "markdown",
   "metadata": {},
   "source": [
    "Correction du codage de l'entrée, __codez votre réponse dans la cellule ci-dessous.__"
   ]
  },
  {
   "cell_type": "code",
   "execution_count": 198,
   "metadata": {},
   "outputs": [],
   "source": [
    "# saisir votre code ici\n",
    "lab2[1][0] = 2"
   ]
  },
  {
   "cell_type": "code",
   "execution_count": 199,
   "metadata": {},
   "outputs": [
    {
     "name": "stdout",
     "output_type": "stream",
     "text": [
      "Tests réussis\n"
     ]
    }
   ],
   "source": [
    "#test\n",
    "assert lab2 == [[1, 1, 1, 1, 1, 1, 1],\n",
    " [2, 0, 0, 0, 0, 0, 1],\n",
    " [1, 1, 1, 1, 1, 0, 1],\n",
    " [1, 0, 1, 0, 0, 0, 1],\n",
    " [1, 0, 1, 0, 1, 0, 1],\n",
    " [1, 0, 0, 0, 1, 0, 1],\n",
    " [1, 1, 1, 1, 1, 3, 1]]\n",
    "print(\"Tests réussis\")"
   ]
  },
  {
   "cell_type": "code",
   "execution_count": 200,
   "metadata": {},
   "outputs": [
    {
     "data": {
      "image/png": "[encoded data removed]",
      "text/plain": [
       "<Figure size 432x288 with 1 Axes>"
      ]
     },
     "metadata": {
      "needs_background": "light"
     },
     "output_type": "display_data"
    }
   ],
   "source": [
    "laby_to_image(lab2)"
   ]
  },
  {
   "cell_type": "markdown",
   "metadata": {},
   "source": [
    "## Question 2"
   ]
  },
  {
   "cell_type": "markdown",
   "metadata": {},
   "source": [
    "Écrire une fonction est_valide(i, j, n, m) qui renvoie True si le couple (i,j) correspond à des coordonnées valides pour un labyrinthe de taille (n,m), et False sinon.\n",
    "On donne ci-dessous des exemples d'appels.\n",
    "\n",
    "~~~python\n",
    ">>> est_valide(5, 2, 10, 10)\n",
    "True\n",
    ">>> est_valide(-3, 4, 10, 10)\n",
    "False\n",
    "~~~"
   ]
  },
  {
   "cell_type": "markdown",
   "metadata": {},
   "source": [
    "### Réponse à la question 2"
   ]
  },
  {
   "cell_type": "markdown",
   "metadata": {},
   "source": [
    "__Codez votre réponse dans la cellule ci-dessous.__"
   ]
  },
  {
   "cell_type": "code",
   "execution_count": 201,
   "metadata": {},
   "outputs": [],
   "source": [
    "# saisir votre code ici\n",
    "def est_valide(i, j, n, m):\n",
    "    return 0 <= i < n and 0 <= j < m"
   ]
  },
  {
   "cell_type": "code",
   "execution_count": 202,
   "metadata": {},
   "outputs": [
    {
     "name": "stdout",
     "output_type": "stream",
     "text": [
      "Tests réussis\n"
     ]
    }
   ],
   "source": [
    "#Tests unitaires\n",
    "assert est_valide(5, 2, 10, 10) == True\n",
    "assert est_valide(-3, 4, 10, 10) == False\n",
    "print(\"Tests réussis\")"
   ]
  },
  {
   "cell_type": "markdown",
   "metadata": {},
   "source": [
    "## Question 3"
   ]
  },
  {
   "cell_type": "markdown",
   "metadata": {},
   "source": [
    "On suppose que le départ d'un labyrinthe est toujours indiqué, mais on ne fait aucune\n",
    "supposition sur son emplacement. Compléter la fonction depart(lab)ci-dessous de sorte\n",
    "qu'elle renvoie, sous la forme d'un tuple, les coordonnées du départ d'un labyrinthe\n",
    "(représenté par le paramètre lab). Par exemple, l'appel depart(lab1) doit renvoyer le\n",
    "tuple (5, 0).\n",
    "\n"
   ]
  },
  {
   "cell_type": "markdown",
   "metadata": {},
   "source": [
    "### Réponse à la question 3\n",
    "\n",
    "__Codez votre réponse dans la cellule ci-dessous.__"
   ]
  },
  {
   "cell_type": "code",
   "execution_count": 203,
   "metadata": {},
   "outputs": [],
   "source": [
    "# saisir votre code ici\n",
    "def depart(lab):\n",
    "    n = len(lab)\n",
    "    m = len(lab[0])\n",
    "    for i in range(n):\n",
    "        for j in range(m):\n",
    "            if lab[i][j] == 2:\n",
    "                return (i, j)"
   ]
  },
  {
   "cell_type": "code",
   "execution_count": 204,
   "metadata": {},
   "outputs": [
    {
     "name": "stdout",
     "output_type": "stream",
     "text": [
      "Tests réussis\n"
     ]
    }
   ],
   "source": [
    "# tests unitaires\n",
    "assert depart(lab1) == (5, 0)\n",
    "assert depart(lab2) == (1, 0)\n",
    "print(\"Tests réussis\")"
   ]
  },
  {
   "cell_type": "markdown",
   "metadata": {},
   "source": [
    "## Question 4"
   ]
  },
  {
   "cell_type": "markdown",
   "metadata": {},
   "source": [
    "Écrire une fonction nb_cases_vides(lab) qui renvoie le nombre de cases vides d'un\n",
    "labyrinthe (comprenant donc l'arrivée et le départ).\n",
    "Par exemple, l'appel nb_cases_vides(lab2) doit renvoyer la valeur 19."
   ]
  },
  {
   "cell_type": "markdown",
   "metadata": {},
   "source": [
    "### Réponse à la question 4\n",
    "\n",
    "__Codez votre réponse dans la cellule ci-dessous.__"
   ]
  },
  {
   "cell_type": "code",
   "execution_count": 205,
   "metadata": {},
   "outputs": [],
   "source": [
    "# saisir votre code ici\n",
    "def nb_cases_vides(lab):\n",
    "    c = 0\n",
    "    n = len(lab)\n",
    "    m = len(lab[0])\n",
    "    for i in range(n):\n",
    "        for j in range(m):\n",
    "            if lab[i][j] != 1:\n",
    "                c = c + 1\n",
    "    return c"
   ]
  },
  {
   "cell_type": "code",
   "execution_count": 206,
   "metadata": {},
   "outputs": [
    {
     "name": "stdout",
     "output_type": "stream",
     "text": [
      "Tests réussis\n"
     ]
    }
   ],
   "source": [
    "# tests unitaires\n",
    "assert nb_cases_vides(lab1) == 58\n",
    "assert nb_cases_vides(lab2) == 19\n",
    "print(\"Tests réussis\")"
   ]
  },
  {
   "cell_type": "markdown",
   "metadata": {},
   "source": [
    "## Partie B : Recherche d’une solution dans un labyrinthe\n",
    "    \n",
    "    \n",
    "On suppose dans cette partie que les labyrinthes possèdent un unique chemin allant du départ\n",
    "à l’arrivée sans repasser par la même case. Dans la suite, c’est ce chemin que l’on appellera\n",
    "solution du labyrinthe.\n",
    "Pour déterminer la solution d'un labyrinthe, on parcourt les cases vides de proche en proche.\n",
    "Lors d’un tel parcours, afin d’éviter de tourner en rond, on choisit de marquer les cases visitées.\n",
    "Pour cela, on remplace la valeur d'une case visitée dans le tableau représentant le labyrinthe\n",
    "par la valeur 4."
   ]
  },
  {
   "cell_type": "markdown",
   "metadata": {},
   "source": [
    "## Question 1"
   ]
  },
  {
   "cell_type": "markdown",
   "metadata": {},
   "source": [
    "On dit que deux cases d'un labyrinthe sont voisines si elles ont un côté commun.\n",
    "On considère une fonction voisines(i, j, lab) qui prend en arguments deux entiers ݅\n",
    "et ݆ représentant les coordonnées d’une case et un tableau lab qui représente un labyrinthe.\n",
    "Cette fonction renvoie la liste des coordonnées des cases voisines de la case de\n",
    "coordonnées (i, j) qui sont valides, non visitées et qui ne sont pas des murs. L'ordre des\n",
    "éléments de cette liste n'importe pas.\n",
    "Ainsi, l'appel `voisines(1, 1, [[1, 1, 1], [4, 0, 0], [1, 0, 1]])` renvoie la\n",
    "liste [(2, 1), (1, 2)].\n",
    "Que renvoie l'appel `voisines(1, 2, [[1, 1, 4], [0, 0, 0], [1, 1, 0]])` ?"
   ]
  },
  {
   "cell_type": "markdown",
   "metadata": {},
   "source": [
    "### Réponse à la question 1\n",
    "\n",
    "Saisir votre réponse ici.\n",
    "\n",
    "`voisines(1, 2, [[1, 1, 4], [0, 0, 0], [1, 1, 0]])` renvoie la liste `[(1,1), (2,2)]`"
   ]
  },
  {
   "cell_type": "markdown",
   "metadata": {},
   "source": [
    "### Complément : codez une fonction voisines\n",
    "\n",
    "__Saisir votre réponse ci-dessous.__"
   ]
  },
  {
   "cell_type": "code",
   "execution_count": 207,
   "metadata": {},
   "outputs": [],
   "source": [
    "def voisines(i, j, lab):\n",
    "    n = len(lab)\n",
    "    m = len(lab[0])\n",
    "    liste_voisines = []\n",
    "    for (vi, vj) in [(i,j-1), (i+1, j), (i, j+1), (i-1, j)]:\n",
    "        if est_valide(vi, vj, n, m) and (lab[vi][vj] == 0 or lab[vi][vj] == 3):\n",
    "            liste_voisines.append((vi, vj))\n",
    "    return liste_voisines"
   ]
  },
  {
   "cell_type": "code",
   "execution_count": 208,
   "metadata": {},
   "outputs": [
    {
     "name": "stdout",
     "output_type": "stream",
     "text": [
      "Test réussi\n"
     ]
    }
   ],
   "source": [
    "# test unitaire\n",
    "assert voisines(1, 1, [[1, 1, 1], [4, 0, 0], [1, 0, 1]]) ==  [(2, 1), (1, 2)]\n",
    "print(\"Test réussi\")"
   ]
  },
  {
   "cell_type": "markdown",
   "metadata": {},
   "source": [
    "## Question 2\n",
    "\n",
    "\n",
    "On souhaite stocker la solution dans une liste chemin. Cette liste contiendra les\n",
    "coordonnées des cases de la solution, dans l'ordre. Pour cela, on procède de la façon\n",
    "suivante.\n",
    "\n",
    "* Initialement :\n",
    "    - déterminer les coordonnées du départ : c'est la première case à visiter ;\n",
    "    - ajouter les coordonnées de la case départ à la liste chemin.\n",
    "* Tant que l'arrivée n'a pas été atteinte :\n",
    "    - on marque la case visitée avec la valeur 4 ;\n",
    "    - si la case visitée possède une case voisine libre, la première case de la liste renvoyée par la fonction voisines devient la prochaine case à visiter et on ajoute à la liste chemin ;\n",
    "    - sinon, il s'agit d'une impasse. On supprime alors la dernière case dans la liste chemin. La prochaine case à visiter est celle qui est désormais en dernière position de la liste chemin.\n",
    "    \n"
   ]
  },
  {
   "cell_type": "markdown",
   "metadata": {},
   "source": [
    "## Question 2 a\n",
    "\n",
    "On donne un nouveau labyrinthe `lab3` :"
   ]
  },
  {
   "cell_type": "code",
   "execution_count": 209,
   "metadata": {},
   "outputs": [],
   "source": [
    "lab3 = [[1, 1, 1, 1, 1, 1],\n",
    "[2, 0, 0, 0, 0, 3],\n",
    "[1, 0, 1, 0, 1, 1],\n",
    "[1, 1, 1, 0, 0, 1]]"
   ]
  },
  {
   "cell_type": "markdown",
   "metadata": {},
   "source": [
    "La suite d'instructions ci-dessous simule le début des modifications subies par la liste\n",
    "chemin lorsque l'on applique la méthode présentée.\n",
    "\n",
    "~~~python\n",
    "# entrée: (1, 0),sortie (1, 5)\n",
    "chemin = [(1, 0)]\n",
    "chemin.append((1,1))\n",
    "chemin.append((2,1))\n",
    "chemin.pop()\n",
    "chemin.append((1,2))\n",
    "chemin.append((1,3))\n",
    "chemin.append((2,3))\n",
    "~~~"
   ]
  },
  {
   "cell_type": "markdown",
   "metadata": {},
   "source": [
    "Compléter cette suite d'instructions jusqu'à ce que la liste chemin représente la\n",
    "solution. Rappel : la méthode `pop` supprime le dernier élément d'une liste et renvoie cet\n",
    "élément."
   ]
  },
  {
   "cell_type": "markdown",
   "metadata": {},
   "source": [
    "### Réponse à la question 2. a.\n",
    "\n",
    "Saisir votre réponse ici.\n",
    "\n",
    "~~~python\n",
    "# entrée: (1, 0),\n",
    "chemin = [(1, 0)]\n",
    "chemin.append((1,1))\n",
    "chemin.append((2,1))\n",
    "chemin.pop()\n",
    "chemin.append((1,2))\n",
    "chemin.append((1,3))\n",
    "chemin.append((2,3))\n",
    "chemin.append((3,3))\n",
    "chemin.pop()\n",
    "chemin.pop()\n",
    "chemin.append((1,4))\n",
    "chemin.append((1,5))\n",
    "~~~\n"
   ]
  },
  {
   "cell_type": "markdown",
   "metadata": {},
   "source": [
    "### Réponse à la question 2.a\n"
   ]
  },
  {
   "cell_type": "markdown",
   "metadata": {},
   "source": [
    "Recopier et compléter la fonction solution(lab) donnée ci-dessous de sorte qu'elle\n",
    "renvoie le chemin solution du labyrinthe représenté par le paramètre lab.\n",
    "On pourra pour cela utiliser la fonction voisines.\n",
    "\n",
    "__Saisir votre  code dans la cellule ci-dessous__"
   ]
  },
  {
   "cell_type": "code",
   "execution_count": 210,
   "metadata": {},
   "outputs": [],
   "source": [
    "def solution(lab):\n",
    "    lab = deepcopy(lab)\n",
    "    chemin = [depart(lab)]\n",
    "    case = chemin[0]\n",
    "    i = case[0]\n",
    "    j = case[1]    \n",
    "    while lab[i][j] != 3:\n",
    "        lab[i][j] = 4\n",
    "        liste_voisines = voisines(i, j, lab)\n",
    "        if len(liste_voisines) > 0:\n",
    "            (i, j) = liste_voisines[0]\n",
    "            chemin.append((i, j))\n",
    "        else:\n",
    "            chemin.pop()\n",
    "            (i, j) = chemin[len(chemin)-1]\n",
    "    return chemin"
   ]
  },
  {
   "cell_type": "code",
   "execution_count": 211,
   "metadata": {},
   "outputs": [
    {
     "name": "stdout",
     "output_type": "stream",
     "text": [
      "Test réussis\n"
     ]
    }
   ],
   "source": [
    "# Tests unitaires\n",
    "assert solution(lab2) == [(1, 0), (1, 1), (1, 2), (1, 3), (1, 4), (1, 5), \n",
    "                          (2, 5), (3, 5), (4, 5), (5, 5), (6, 5)]\n",
    "assert solution(lab1) == [(5, 0), (5, 1), (4, 1), (3, 1), (2, 1), (1, 1), (1, 2),\n",
    "                           (1, 3), (2, 3), (3, 3), (4, 3), (5, 3), (5, 4), (5, 5),\n",
    "                           (4, 5), (3, 5), (2, 5), (1, 5), (0, 5), (0, 6), (0, 7),\n",
    "                           (0, 8), (0, 9), (1, 9), (2, 9), (3, 9), (4, 9), (5, 9), (5, 10)]\n",
    "assert solution(lab3) == [(1, 0), (1, 1), (1, 2), (1, 3), (1, 4), (1, 5)]\n",
    "print(\"Test réussis\")"
   ]
  },
  {
   "cell_type": "markdown",
   "metadata": {},
   "source": [
    "# Exercice 5"
   ]
  },
  {
   "cell_type": "markdown",
   "metadata": {},
   "source": [
    "_Cet exercice traite de manipulation de tableaux, de récursivité et du paradigme « diviser pour\n",
    "régner »._"
   ]
  },
  {
   "cell_type": "markdown",
   "metadata": {},
   "source": [
    "Dans un tableau Python d'entiers tab, on dit que le couple d’indices (݅i, j) forme une inversion\n",
    "lorsque ݅ i < j  et tab[i] > tab[j]. On donne ci-dessous quelques exemples.\n",
    "\n",
    "*  Dans le tableau [1, 5, 3, 7], le couple d’indices (1,2) forme une inversion car 5 > 3. Par contre, le couple (1,3) neforme pas d'inversion car 5 < 7. Il n’y a qu’une inversion dans ce tableau.\n",
    "\n",
    "*  Il y a trois inversions dans le tableau [1, 6, 2, 7, 3], à savoir les couples d'indices (1, 2), (1, 4) et (3, 4).\n",
    "\n",
    "*  On peut compter six inversions dans le tableau [7, 6, 5, 3] : les couples d'indices (0, 1), (0, 2), (0, 3), (1, 2), (1, 3) et (2, 3).\n",
    "\n",
    "\n",
    "On se propose dans cet exercice de déterminer le nombre d’inversions dans un tableau quelconque. "
   ]
  },
  {
   "cell_type": "markdown",
   "metadata": {},
   "source": [
    "## Questions préliminaires "
   ]
  },
  {
   "cell_type": "markdown",
   "metadata": {},
   "source": [
    "## Question 1"
   ]
  },
  {
   "cell_type": "markdown",
   "metadata": {},
   "source": [
    "1. Expliquer pourquoi le couple (1, 3) est une inversion dans le tableau [4, 8, 3, 7]."
   ]
  },
  {
   "cell_type": "markdown",
   "metadata": {},
   "source": [
    "### Réponse à la question 1\n",
    "\n",
    "Saisir votre réponse ici :"
   ]
  },
  {
   "cell_type": "code",
   "execution_count": 212,
   "metadata": {},
   "outputs": [
    {
     "data": {
      "text/plain": [
       "True"
      ]
     },
     "execution_count": 212,
     "metadata": {},
     "output_type": "execute_result"
    }
   ],
   "source": [
    "tab = [4, 8, 3, 7]\n",
    "1 < 3 and tab[1] > tab[3]"
   ]
  },
  {
   "cell_type": "markdown",
   "metadata": {},
   "source": [
    "## Question 2"
   ]
  },
  {
   "cell_type": "markdown",
   "metadata": {},
   "source": [
    "2. Justifier que le couple (2, 3) n’en est pas une."
   ]
  },
  {
   "cell_type": "markdown",
   "metadata": {},
   "source": [
    "### Réponse à la question 2\n",
    "\n",
    "Saisir votre réponse ici "
   ]
  },
  {
   "cell_type": "code",
   "execution_count": 213,
   "metadata": {},
   "outputs": [
    {
     "data": {
      "text/plain": [
       "False"
      ]
     },
     "execution_count": 213,
     "metadata": {},
     "output_type": "execute_result"
    }
   ],
   "source": [
    "tab = [4, 8, 3, 7]\n",
    "2 < 3  and tab[2] > tab[3]"
   ]
  },
  {
   "cell_type": "markdown",
   "metadata": {},
   "source": [
    "## Partie A : méthode itérative"
   ]
  },
  {
   "cell_type": "markdown",
   "metadata": {},
   "source": [
    "Le but de cette partie est d’écrire une fonction itérative nombre_inversion qui renvoie le\n",
    "nombre d’inversions dans un tableau. Pour cela, on commence par écrire une fonction\n",
    "fonction1 qui sera ensuite utilisée pour écrire la fonction nombre_inversion."
   ]
  },
  {
   "cell_type": "markdown",
   "metadata": {},
   "source": [
    "## Question 1 a"
   ]
  },
  {
   "cell_type": "markdown",
   "metadata": {},
   "source": [
    "On donne la fonction suivante.\n",
    "\n",
    "~~~python\n",
    "def fonction1(tab, i):\n",
    "    nb_elem = len(tab)\n",
    "    cpt = 0\n",
    "    for j in range(i+1, nb_elem):\n",
    "        if tab[j] < tab[i]:\n",
    "            cpt += 1\n",
    "    return cpt\n",
    "~~~"
   ]
  },
  {
   "cell_type": "markdown",
   "metadata": {},
   "source": [
    "Indiquer ce que renvoie la fonction1(tab, i) dans les cas suivants.\n",
    "* Cas n°1 : tab = [1, 5, 3, 7] et i = 0.\n",
    "* Cas n°2 : tab = [1, 5, 3, 7] et i = 1.\n",
    "* Cas n°3 : tab = [1, 5, 2, 6, 4] et i = 1."
   ]
  },
  {
   "cell_type": "markdown",
   "metadata": {},
   "source": [
    "### Réponse à la question 1 a\n",
    "Saisir votre réponse ici :    "
   ]
  },
  {
   "cell_type": "code",
   "execution_count": 218,
   "metadata": {},
   "outputs": [
    {
     "name": "stdout",
     "output_type": "stream",
     "text": [
      "Cas 1 : fonction1([1, 5, 3, 7], 0)= 0\n",
      "Cas 2 : fonction1([1, 5, 3, 7], 1)= 1\n",
      "Cas 3 : fonction1([1, 5, 2, 6, 4], 1)= 2\n"
     ]
    }
   ],
   "source": [
    "def fonction1(tab, i):\n",
    "    nb_elem = len(tab)\n",
    "    cpt = 0\n",
    "    for j in range(i+1, nb_elem):\n",
    "        if tab[j] < tab[i]:\n",
    "            cpt += 1\n",
    "    return cpt\n",
    "\n",
    "print(\"Cas 1 : fonction1([1, 5, 3, 7], 0)=\", fonction1([1, 5, 3, 7], 0))\n",
    "print(\"Cas 2 : fonction1([1, 5, 3, 7], 1)=\", fonction1([1, 5, 3, 7], 1))\n",
    "print(\"Cas 3 : fonction1([1, 5, 2, 6, 4], 1)=\", fonction1([1, 5, 2, 6, 4], 1))\n",
    "\n"
   ]
  },
  {
   "cell_type": "markdown",
   "metadata": {},
   "source": [
    "## Question 1 b\n",
    "\n",
    "Expliquer ce que permet de déterminer cette fonction."
   ]
  },
  {
   "cell_type": "markdown",
   "metadata": {},
   "source": [
    "### Réponse à la question 1  b\n",
    "\n",
    "Saisir votre réponse ici.\n",
    "\n",
    "Fonction1 renvoie le nombre de couple (i,j) qui forment une inversion avec i < j < len(tab)"
   ]
  },
  {
   "cell_type": "markdown",
   "metadata": {},
   "source": [
    "## Question 2"
   ]
  },
  {
   "cell_type": "markdown",
   "metadata": {},
   "source": [
    "En utilisant la fonction précédente, écrire une fonction nombre_inversion(tab) qui\n",
    "prend en argument un tableau et renvoie le nombre d’inversions dans ce tableau.\n",
    "On donne ci-dessous les résultats attendus pour certains appels.\n",
    "\n",
    "~~~python\n",
    ">>> nombre_inversions([1, 5, 7])\n",
    "0\n",
    ">>> nombre_inversions([1, 6, 2, 7, 3])\n",
    "3\n",
    ">>> nombre_inversions([7, 6, 5, 3])\n",
    "6\n",
    "~~~"
   ]
  },
  {
   "cell_type": "markdown",
   "metadata": {},
   "source": [
    "### Réponse à la question 2 \n",
    "\n",
    "__Saisir votre code dans la cellule ci-dessous.__"
   ]
  },
  {
   "cell_type": "code",
   "execution_count": 221,
   "metadata": {},
   "outputs": [],
   "source": [
    "# saisir votre code ici\n",
    "def nombre_inversions(tab):\n",
    "    cpt = 0\n",
    "    for i in range(len(tab) - 1):\n",
    "        cpt = cpt + fonction1(tab, i)\n",
    "    return cpt"
   ]
  },
  {
   "cell_type": "code",
   "execution_count": 222,
   "metadata": {},
   "outputs": [
    {
     "name": "stdout",
     "output_type": "stream",
     "text": [
      "Test réussis\n"
     ]
    }
   ],
   "source": [
    "# tests unitaires\n",
    "assert nombre_inversions([1, 5, 7]) == 0\n",
    "assert nombre_inversions([1, 6, 2, 7, 3]) == 3\n",
    "assert nombre_inversions([7, 6, 5, 3]) == 6\n",
    "print(\"Test réussis\")"
   ]
  },
  {
   "cell_type": "markdown",
   "metadata": {},
   "source": [
    "## Question 3"
   ]
  },
  {
   "cell_type": "markdown",
   "metadata": {},
   "source": [
    "Quelle est l’ordre de grandeur de la complexité en temps de l'algorithme obtenu ?\n",
    "Aucune justification n'est attendue."
   ]
  },
  {
   "cell_type": "markdown",
   "metadata": {},
   "source": [
    "### Réponse à la question 3\n",
    "\n",
    "Saisir votre réponse ici.\n"
   ]
  },
  {
   "cell_type": "markdown",
   "metadata": {},
   "source": [
    "La complexité est quadratique par rapport à la taille du tableau, c'est-à-dire de l'ordre de $(len(tab))^{2}$. En effet pour i allant de 0 à `len(tab) - 2`, on exécute  `fonction1(tab, i)` qui contient une boucle avec `len(tab) - i - 1` itérations. On a donc $\\sum_{i=0}^{len(tab) - 2}len(tab) - i - 1 = \\sum_{j=1}^{len(tab) - 1}j=\\frac{(len(tab)-1)(len(tab))}{2}$ exécutions de la boucle interne."
   ]
  },
  {
   "cell_type": "markdown",
   "metadata": {},
   "source": [
    "## Partie B : Méthode récursive\n",
    "Le but de cette partie est de concevoir une version récursive de la fonction\n",
    "nombre_inversion.\n",
    "On définit pour cela des fonctions auxiliaires.\n"
   ]
  },
  {
   "cell_type": "markdown",
   "metadata": {},
   "source": [
    "## Question 1\n",
    "\n",
    "1. Donner le nom d’un algorithme de tri ayant une complexité meilleure que quadratique. On donne une implémentation de ce tri ci-dessous.\n",
    "\n",
    "_Indication : chercher sur cette page <https://www.bigocheatsheet.com/>_"
   ]
  },
  {
   "cell_type": "markdown",
   "metadata": {},
   "source": [
    "### Réponse à la question 1\n",
    "\n",
    "Il s'agit du tri fusion dont la complexité a pour ordre de grandeur $n\\log(n)$ où $n$ est la taille du tableau. On en  donne une implémentation ci-dessous."
   ]
  },
  {
   "cell_type": "code",
   "execution_count": 275,
   "metadata": {},
   "outputs": [],
   "source": [
    "def fusion(tab,a, b, c):\n",
    "    \"\"\"Procédure qui fusionne dans l'ordre croissant\n",
    "    deux sous tableaux consécutifs de tab \n",
    "    chaque sous tableau étant trié dans l'ordre croissant :\n",
    "    tb[a:b] et tab[b:c]\n",
    "    \"\"\"\n",
    "    tmp = [0 for _ in range(c - a)] #tableau temporaire pour fusionner\n",
    "    i = a  #indice dans le sous tableau tab[a:b]\n",
    "    j = b  #indice dans le sous tableau tab[c:d]\n",
    "    k = 0 #indice dans le sous-tableau tmp\n",
    "    #tant qu'on n'a pas traité complètement l'un des 2 sous-tableaux\n",
    "    while i < b and j < c: \n",
    "        if tab[i] < tab[j]:\n",
    "            tmp[k] = tab[i]\n",
    "            i = i + 1\n",
    "        else:\n",
    "            tmp[k] = tab[j]\n",
    "            j = j + 1\n",
    "        k = k + 1\n",
    "    #on complète tmp avec les éléments restants dans tab[b:c]\n",
    "    while i < b:\n",
    "        tmp[k] = tab[i]\n",
    "        i = i + 1\n",
    "        k = k + 1\n",
    "    #on complète tmp avec les éléments restants dans tab[a:b]\n",
    "    while j < c:\n",
    "        tmp[k] = tab[j]\n",
    "        j = j + 1\n",
    "        k = k + 1\n",
    "    #on recopie le tableau temporaire\n",
    "    for k in range(c - a):\n",
    "        tab[a + k] = tmp[k]\n",
    "    \n",
    "def tri(tab):\n",
    "    \"\"\"Procédure qui trie en place le tableau tab par tri fusion\"\"\"\n",
    "    def tri_aux(tab, debut, fin):\n",
    "        \"\"\"Fonction récursive auxiliaire qui réalise le tri fusion\"\"\"\n",
    "        if fin - debut > 1:\n",
    "            med = (debut + fin) // 2        #on coupe le tableau en 2 (diviser pour régner)\n",
    "            tri_aux(tab, debut, med) #on trie récursivement tab[debut:med]\n",
    "            tri_aux(tab, med, fin)   #on trie récursivement tab[med:fin]\n",
    "            fusion(tab, debut, med, fin)    #on fusionne tab[debut:med] et tab[med:fin]\n",
    "    tri_aux(tab, 0, len(tab))"
   ]
  },
  {
   "cell_type": "code",
   "execution_count": 241,
   "metadata": {},
   "outputs": [
    {
     "data": {
      "text/plain": [
       "[0, 1, 2, 3, 7, 8]"
      ]
     },
     "execution_count": 241,
     "metadata": {},
     "output_type": "execute_result"
    }
   ],
   "source": [
    "#petit exemple de fusion\n",
    "tab = [0, 2, 8,  1, 3, 7]\n",
    "fusion(tab, 0, 3, 6)\n",
    "tab"
   ]
  },
  {
   "cell_type": "code",
   "execution_count": 249,
   "metadata": {},
   "outputs": [
    {
     "name": "stdout",
     "output_type": "stream",
     "text": [
      "Tests réussis\n"
     ]
    }
   ],
   "source": [
    "#tests unitaires de tri_fusion\n",
    "import random\n",
    "for taille in range(0, 10):\n",
    "    for essai in range(5):\n",
    "        tab_alea = [random.randint(0, 100) for _ in range(taille)]\n",
    "        tab_croissant = sorted(tab_alea)\n",
    "        tab_decroissant = sorted(tab_alea, reverse = True)\n",
    "        copie_tab_alea = tab_alea[:]\n",
    "        copie_tab_croissant = tab_croissant[:]\n",
    "        copie_tab_decroissant = tab_decroissant[:]\n",
    "        tri(copie_tab_alea)\n",
    "        tri(copie_tab_croissant)\n",
    "        tri(copie_tab_decroissant)\n",
    "        assert copie_tab_alea == tab_croissant\n",
    "        assert copie_tab_croissant == tab_croissant\n",
    "        assert copie_tab_decroissant == tab_croissant\n",
    "print(\"Tests réussis\")"
   ]
  },
  {
   "cell_type": "markdown",
   "metadata": {},
   "source": [
    "Dans la suite de cet exercice, on suppose qu’on dispose d'une fonction tri(tab) qui prend en\n",
    "argument un tableau et renvoie un tableau contenant les mêmes éléments rangés dans l'ordre\n",
    "croissant."
   ]
  },
  {
   "cell_type": "markdown",
   "metadata": {},
   "source": [
    "## Question 2"
   ]
  },
  {
   "cell_type": "markdown",
   "metadata": {},
   "source": [
    "Écrire une fonction moitie_gauche(tab) qui prend en argument un tableau tab et\n",
    "renvoie un nouveau tableau contenant la moitié gauche de tab. Si le nombre d'éléments\n",
    "de tab est impair, l'élément du centre se trouve dans cette partie gauche.\n",
    "On donne ci-dessous les résultats attendus pour certains appels.\n",
    "\n",
    "~~~python\n",
    ">>> moitie_gauche([])\n",
    "[]\n",
    ">>> moitie_gauche([4, 8, 3])\n",
    "[4, 8]\n",
    ">>> moitie_gauche ([4, 8, 3, 7])\n",
    "[4, 8]\n",
    "~~~"
   ]
  },
  {
   "cell_type": "markdown",
   "metadata": {},
   "source": [
    "### Réponse à la question 2 \n",
    "\n",
    "__Saisir votre code dans la cellule ci-dessous.__"
   ]
  },
  {
   "cell_type": "code",
   "execution_count": 270,
   "metadata": {},
   "outputs": [],
   "source": [
    "#saisir votre code ici\n",
    "def moitie_gauche(tab):\n",
    "    n = len(tab)\n",
    "    med = n // 2\n",
    "    if n % 2 == 1:\n",
    "        med = med + 1\n",
    "    #attention les index commencent à 0\n",
    "    return [tab[k] for k in range(0, med)]"
   ]
  },
  {
   "cell_type": "code",
   "execution_count": 267,
   "metadata": {},
   "outputs": [
    {
     "name": "stdout",
     "output_type": "stream",
     "text": [
      "Test réussis\n"
     ]
    }
   ],
   "source": [
    "#Test unitaires\n",
    "\n",
    "assert moitie_gauche([]) == []\n",
    "assert moitie_gauche([4, 8, 3]) == [4,8]\n",
    "assert moitie_gauche([4, 8, 3, 7]) == [4,8]\n",
    "print(\"Test réussis\")"
   ]
  },
  {
   "cell_type": "markdown",
   "metadata": {},
   "source": [
    "### Complément à la question 2\n",
    "\n",
    "__Codez la fonction `moitie_droite` dans la cellule ci-dessous.__"
   ]
  },
  {
   "cell_type": "code",
   "execution_count": 271,
   "metadata": {},
   "outputs": [],
   "source": [
    "#saisir votre code ici\n",
    "def moitie_droite(tab):\n",
    "    n = len(tab)\n",
    "    med = n // 2\n",
    "    if n % 2 == 1:\n",
    "        med = med + 1\n",
    "    #attention les index commencent à 0\n",
    "    return [tab[k] for k in range(med, n)]"
   ]
  },
  {
   "cell_type": "code",
   "execution_count": 269,
   "metadata": {},
   "outputs": [
    {
     "name": "stdout",
     "output_type": "stream",
     "text": [
      "Test réussis\n"
     ]
    }
   ],
   "source": [
    "#Test unitaires\n",
    "\n",
    "assert moitie_droite([]) == []\n",
    "assert moitie_droite([4, 8, 3]) == [3]\n",
    "assert moitie_droite([4, 8, 3, 7]) == [3,7]\n",
    "print(\"Test réussis\")"
   ]
  },
  {
   "cell_type": "markdown",
   "metadata": {},
   "source": [
    "## Question 3 a)"
   ]
  },
  {
   "cell_type": "markdown",
   "metadata": {},
   "source": [
    "Écrire une  fonction `nb_inv_tab(tab1, tab2)`. Cette fonction\n",
    "renvoie le nombre d’inversions du tableau obtenu en mettant bout à bout les tableaux\n",
    "tab1 et tab2, à condition que tab1 et tab2 soient triés dans l’ordre croissant.\n",
    "On donne ci-dessous deux exemples d’appel de cette fonction :\n",
    "    \n",
    "~~~python\n",
    ">>> nb_inv_tab([3, 7, 9], [2, 10])\n",
    "3\n",
    ">>> nb_inv_tab([7, 9, 13], [7, 10, 14])\n",
    "3\n",
    "~~~\n",
    "Estimer la complexité de cette fonction, comparer avec celle des voisins."
   ]
  },
  {
   "cell_type": "markdown",
   "metadata": {},
   "source": [
    "### Réponse à la question 3) a)\n",
    "\n",
    "__Saisir votre code dans la cellule ci-dessous.__"
   ]
  },
  {
   "cell_type": "code",
   "execution_count": 288,
   "metadata": {},
   "outputs": [],
   "source": [
    "def nb_inv_tab_quadratique(tab1, tab2):\n",
    "    \"\"\"Complexité quadratique en O(len(tab1) * len(tab2))\"\"\"\n",
    "    n = len(tab1)\n",
    "    m = len(tab2)\n",
    "    cpt = 0\n",
    "    for i in range(n):\n",
    "        for j in range(m):\n",
    "            if tab[i] > tab[j]:\n",
    "                cpt = cpt + 1\n",
    "    return cpt  \n",
    "\n",
    "def nb_inv_tab(tab1, tab2):\n",
    "    \"\"\"Complexité linéaire en O(len(tab1) + len(tab1))\"\"\"\n",
    "    n = len(tab1)\n",
    "    m = len(tab2)\n",
    "    cpt = 0\n",
    "    j = 0\n",
    "    for i in range(n):\n",
    "        while j < m and tab2[j] < tab1[i]:\n",
    "            j = j + 1\n",
    "        cpt = cpt + j\n",
    "    return cpt  "
   ]
  },
  {
   "cell_type": "code",
   "execution_count": 289,
   "metadata": {},
   "outputs": [
    {
     "name": "stdout",
     "output_type": "stream",
     "text": [
      "Tests réussis\n"
     ]
    }
   ],
   "source": [
    "#Tests unitaires\n",
    "assert nb_inv_tab([3, 7, 9], [2, 10]) == 3\n",
    "assert nb_inv_tab([7, 9, 13], [7, 10, 14]) == 3\n",
    "print(\"Tests réussis\")"
   ]
  },
  {
   "cell_type": "markdown",
   "metadata": {},
   "source": [
    "## Question 3 b)\n",
    "\n",
    "En utilisant la fonction nb_inv_tab et les questions précédentes, écrire une fonction\n",
    "récursive nb_inversions_rec(tab) qui permet de calculer le nombre d'inversions\n",
    "dans un tableau. Cette fonction renverra le même nombre que\n",
    "nombre_inversions(tab) de la partie A. On procédera de la façon suivante :\n",
    "\n",
    "* Séparer le tableau en deux tableaux de tailles égales (à une unité près).\n",
    "* Appeler récursivement la fonction `nb_inversions_rec` pour compter le nombre d’inversions dans chacun des deux tableaux\n",
    "* Trier les deux tableaux (on rappelle qu'une fonction de tri est déjà définie). \n",
    "* Ajouter au nombre d'inversions précédemment comptées le nombre renvoyé par la fonction `nb_inv_tab` avec pour arguments les deux tableaux triés.\n",
    "\n"
   ]
  },
  {
   "cell_type": "markdown",
   "metadata": {},
   "source": [
    "### Réponse à la question 3) b)\n",
    "\n",
    "__Saisir votre code dans la cellule ci-dessous.__"
   ]
  },
  {
   "cell_type": "code",
   "execution_count": 292,
   "metadata": {},
   "outputs": [],
   "source": [
    "def nb_inversions_rec(tab):\n",
    "    \"\"\"On peut montrer que c'est une complexité d'ordre de grandeur n * (log(n)) ** 2\"\"\"\n",
    "    if len(tab) >= 2:\n",
    "        gauche = moitie_gauche(tab)      \n",
    "        droite = moitie_droite(tab)      \n",
    "        cpt = nb_inversions_rec(gauche)    \n",
    "        cpt = cpt + nb_inversions_rec(droite)\n",
    "        tri(gauche)\n",
    "        tri(droite)\n",
    "        return cpt + nb_inv_tab(gauche, droite)\n",
    "    return 0"
   ]
  },
  {
   "cell_type": "code",
   "execution_count": 291,
   "metadata": {},
   "outputs": [
    {
     "name": "stdout",
     "output_type": "stream",
     "text": [
      "Test réussis\n"
     ]
    }
   ],
   "source": [
    "# tests unitaires\n",
    "assert nb_inversions_rec([1, 5, 7]) == 0\n",
    "assert nb_inversions_rec([1, 6, 2, 7, 3]) == 3\n",
    "assert nb_inversions_rec([7, 6, 5, 3]) == 6\n",
    "print(\"Test réussis\")"
   ]
  },
  {
   "cell_type": "code",
   "execution_count": 345,
   "metadata": {},
   "outputs": [
    {
     "name": "stdout",
     "output_type": "stream",
     "text": [
      "       Taille           Rapport durées    Rapport ordres de grandeurs  Rapport constantes \n",
      "      32.0000               2.1311               3.1250               0.6820       \n",
      "      64.0000               2.5400               2.8800               0.8819       \n",
      "      128.0000              2.4227               2.7222               0.8900       \n",
      "      256.0000              2.6293               2.6122               1.0065       \n",
      "      512.0000              2.1936               2.5312               0.8666       \n",
      "     1024.0000              2.2757               2.4691               0.9217       \n",
      "     2048.0000              2.2785               2.4200               0.9415       \n",
      "     4096.0000              2.3551               2.3802               0.9895       \n",
      "     8192.0000              2.2409               2.3472               0.9547       \n",
      "     16384.0000             2.2291               2.3195               0.9610       \n"
     ]
    }
   ],
   "source": [
    "import random\n",
    "import time\n",
    "import math\n",
    "\n",
    "def tableau_aleatoire(taille):\n",
    "    return [random.randint(0, 100) for _ in range(taille)]\n",
    "\n",
    "def ordre_grandeur(taille):\n",
    "    return taille * (math.log(taille)) ** 2\n",
    "\n",
    "\n",
    "def doubling_ratio():\n",
    "    \"\"\"Mesure de l'évolution du rapport de durée d'exécution sur un échantillon de tableaux de même taille\n",
    "    lorsqu'on double la taille, comparaison avec l'évolution du rapport de l'ordre de grandeur,\n",
    "    mesure de l'évolution du rapport des constantes duree/(ordre de grandeur)\"\"\"\n",
    "    print(\"{:^20}\".format(\"Taille\"), \"{:^20}\".format(\"Rapport durées\"),\n",
    "              \"{:^20}\".format(\"Rapport ordres de grandeurs\"),\n",
    "              \"{:^20}\".format(\"Rapport constantes\"))\n",
    "    taille_echantillon = 5\n",
    "    duree_moyenne = 0\n",
    "    constante = 0\n",
    "    liste_taille = [2 ** k for k in range(4, 15)]\n",
    "    for i in range(len(liste_taille)):\n",
    "        constante_preced = constante\n",
    "        duree_moyenne_preced = duree_moyenne\n",
    "        duree_totale = 0\n",
    "        taille = liste_taille[i]\n",
    "        echantillon = [tableau_aleatoire(taille) for _ in range(taille_echantillon)]\n",
    "        for j in range(taille_echantillon):        \n",
    "            debut = time.perf_counter()\n",
    "            nb_inversions_rec(echantillon[j])\n",
    "            duree =  time.perf_counter() - debut\n",
    "            duree_totale += duree\n",
    "        duree_moyenne = duree_totale / taille_echantillon\n",
    "        taille_preced = liste_taille[i-1]\n",
    "        constante = duree_moyenne/ordre_grandeur(taille)\n",
    "        if i > 0:\n",
    "            print(f\"{taille:^20.4f}\",\n",
    "                  f\"{duree_moyenne/duree_moyenne_preced:^20.4f}\",\n",
    "                  f\"{ordre_grandeur(taille) / ordre_grandeur(taille_preced):^20.4f}\", \n",
    "                  f\"{constante / constante_preced :^20.4f}\")\n",
    "            \n",
    "doubling_ratio()"
   ]
  }
 ],
 "metadata": {
  "kernelspec": {
   "display_name": "Python 3",
   "language": "python",
   "name": "python3"
  },
  "language_info": {
   "codemirror_mode": {
    "name": "ipython",
    "version": 3
   },
   "file_extension": ".py",
   "mimetype": "text/x-python",
   "name": "python",
   "nbconvert_exporter": "python",
   "pygments_lexer": "ipython3",
   "version": "3.8.8"
  }
 },
 "nbformat": 4,
 "nbformat_minor": 4
}
