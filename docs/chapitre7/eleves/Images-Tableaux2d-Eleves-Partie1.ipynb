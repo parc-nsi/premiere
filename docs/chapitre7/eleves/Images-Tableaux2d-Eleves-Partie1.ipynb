{
 "cells": [
  {
   "cell_type": "code",
   "execution_count": 3,
   "metadata": {},
   "outputs": [],
   "source": [
    "from PIL import Image\n",
    "import numpy as np\n",
    "import matplotlib.pyplot as plt"
   ]
  },
  {
   "cell_type": "markdown",
   "metadata": {},
   "source": [
    "## Outils fournis"
   ]
  },
  {
   "cell_type": "code",
   "execution_count": 1,
   "metadata": {},
   "outputs": [],
   "source": [
    "def dimensions(pix):\n",
    "    \"\"\"Retourne les dimensions (Largeur, Hauteur) d'une matrice\n",
    "    de pixels\"\"\"\n",
    "    return len(pix[0]), len(pix) \n",
    "\n",
    "def matrice_to_image(pix, mode = '1', fichier='image.png', res=1):\n",
    "    \"\"\"Convertit en image  une matrice de pixels pix \n",
    "    de dimensions (ligne, colonnes)=(nline, ncol)\n",
    "    en représentant sur l'écran chaque case de pix\n",
    "    par un carré de coté resolution pixels.\n",
    "    Le mode de l'image peut être :\n",
    "    '1'  : binaire 0 ou 1\n",
    "    'L' : niveaux de gris entre 0 et 255\n",
    "    'RGB' : triplet de valeurs (Rouge, Vert, Bleu) entre 0 et 255\n",
    "    \"\"\"\n",
    "    #on force la conversion en type np.uint8 si pix est un tableau numpy\n",
    "    if isinstance(pix, np.ndarray):\n",
    "        pix = pix.astype(np.uint8)\n",
    "    #précondition 1 : list doit être une matrice de pixels\n",
    "    precondition1 = isinstance(pix, (list, np.ndarray)) \\\n",
    "                   and len(pix) > 0 \\\n",
    "                and all(isinstance(pix[k], (list, np.ndarray)) \\\n",
    "                        and  len(pix[k]) == len(pix[0])  \\\n",
    "                        for k in range(len(pix)))\n",
    "    assert precondition1, \"Il faut passer en paramètre une matrice de pixels\"\n",
    "    #dimensions de la matrice de pixels\n",
    "    largeur_pix, hauteur_pix = dimensions(pix)\n",
    "    #préconditions sur la matrice de pixels pour respecter les contraintes du mode de l'image \n",
    "    precondition2 =  mode == '1' and \\\n",
    "                    all(isinstance(pix[y][x], (int, np.uint8)) and 0 <= pix[y][x] <= 1 \\\n",
    "                        for y in range(hauteur_pix) for x in range(largeur_pix))\n",
    "    precondition3 =  mode == 'L' and \\\n",
    "                    all(isinstance(pix[y][x], (int, np.uint8)) and 0 <= pix[y][x] <= 255 \\\n",
    "                        for y in range(hauteur_pix) for x in range(largeur_pix))\n",
    "    precondition4 = mode == 'RGB' and \\\n",
    "                    all(isinstance(pix[y][x], (list, np.ndarray)) \\\n",
    "                        and len(pix[y][x]) == 3 \\\n",
    "                        and  all(isinstance(pix[y][x][k], (int, np.uint8)) \\\n",
    "                                 and 0 <= pix[y][x][k] <= 255 \\\n",
    "                            for k in range(3)) \\\n",
    "                        for y in range(hauteur_pix) for x in range(largeur_pix))\n",
    "    assert precondition2 or precondition3 or precondition4, \"matrice de pixels et mode incompatibles !\"    \n",
    "    #dimensions de la matrice de pixels\n",
    "    hauteur_newpix, largeur_newpix = res * hauteur_pix, res * largeur_pix\n",
    "    #copie de pix sous forme de tableau numpy agrandi d'un coefficient res \n",
    "    if mode != 'RGB':\n",
    "        newpix =  np.zeros((hauteur_newpix, largeur_newpix), dtype='uint8')\n",
    "    else:\n",
    "        newpix =  np.zeros((hauteur_newpix, largeur_newpix, 3), dtype='uint8')\n",
    "    #initialsation des blocs de taille res * res de newpix\n",
    "    #avec des 0 si pix[i][j] == 0 et 1 sinon\n",
    "    for y in range(hauteur_newpix):\n",
    "        for x in range(largeur_newpix):\n",
    "            ypix = y // res\n",
    "            xpix = x // res\n",
    "            newpix[y][x] = pix[ypix][xpix]   \n",
    "    if mode != 'RGB':\n",
    "        #création d'un objet image PIL en mode binaire (pixel de valeur 0 ou 1)\n",
    "        im = Image.new(mode, (largeur_newpix, hauteur_newpix))  #Image.new(mode, (Largeur, Hauteur))  \n",
    "        #on remplit l'image avec les valeurs de newpix\n",
    "        im.putdata(newpix.flatten())\n",
    "    else:\n",
    "        im = Image.fromarray(newpix)\n",
    "    #enregistrement de l'image sur le disque\n",
    "    im.save(fichier)\n",
    "    #affichage de l'image\n",
    "    #plt.axis('off') #to disable xticks and yticks\n",
    "    #cas des images binaires \n",
    "    if mode == '1':\n",
    "        plt.imshow(newpix,cmap=plt.cm.gray, vmin= 0, vmax = 1)\n",
    "    # cas des images en niveaux de gris\n",
    "    elif mode == 'L':\n",
    "        plt.imshow(newpix,cmap=plt.cm.gray, vmin= 0, vmax = 255)\n",
    "    #cas des images RGB\n",
    "    else:\n",
    "        plt.imshow(newpix)\n",
    "        \n",
    "def image_to_matrice(fichier):\n",
    "    #ouverture de l'image avec PIL\n",
    "    im = Image.open(fichier)\n",
    "    #conversion de l'image en matrice de pixels / tableau numpy\n",
    "    pix = np.array(im, dtype = np.uint8)\n",
    "    #conversion de la matrice de pixels en liste Python\n",
    "    pix = pix.tolist()\n",
    "    return pix\n",
    "\n",
    "def matrice_vide(ncol, nlig, mode):\n",
    "    \"\"\"Retourne une matrice de pixels de n lignes et m colonnes\n",
    "    représentant une image noire dans le mode  d'image choisi\"\"\"\n",
    "    assert mode in ['1', 'L', 'RGB'], \"mode doit appartenir à ['1', 'L', 'RGB']\"\n",
    "    if mode in ['1', 'L']:\n",
    "        \"à compléter : return ....\"\n",
    "    else:               \n",
    "        \"à compléter : return ....\""
   ]
  },
  {
   "cell_type": "markdown",
   "metadata": {},
   "source": [
    "## Exercice 2"
   ]
  },
  {
   "cell_type": "code",
   "execution_count": 15,
   "metadata": {},
   "outputs": [],
   "source": [
    "def max_tab2d(tab):\n",
    "    \"\"\"Retourne le maximum d'un tableau à 2 dimensions\"\"\"\n",
    "    maxi = float('-inf')\n",
    "    for y in range(len(tab)): #boucle sur les lignes\n",
    "        for x in range(len(tab[y])): # boucle sur les colonnes\n",
    "            \"à compléter\""
   ]
  },
  {
   "cell_type": "markdown",
   "metadata": {},
   "source": [
    "Assertions à vérifier"
   ]
  },
  {
   "cell_type": "code",
   "execution_count": null,
   "metadata": {},
   "outputs": [],
   "source": [
    "assert max_tab2d([[-1,-2],[-2,-3,-0.5]]) == -0.5\n",
    "assert max_tab2d([[1,2],[float('inf'),10]]) == float('inf')\n",
    "assert max_tab2d([[1,2],[8,0]]) == 8"
   ]
  },
  {
   "cell_type": "markdown",
   "metadata": {},
   "source": [
    "## Exercice 5"
   ]
  },
  {
   "cell_type": "code",
   "execution_count": 4,
   "metadata": {},
   "outputs": [],
   "source": [
    "def generer_croix(couleur):\n",
    "    blanc = [255,255,255]\n",
    "    ## TO DO\n",
    "    #croix = à compléter\n",
    "    matrice_to_image(croix, mode = 'RGB', res = 100, fichier='croix.png')  "
   ]
  },
  {
   "cell_type": "markdown",
   "metadata": {},
   "source": [
    "## Exercice 6"
   ]
  },
  {
   "cell_type": "code",
   "execution_count": 5,
   "metadata": {},
   "outputs": [],
   "source": [
    "def drapeau_3bandes_verticales(nlig, ncol, couleur1, couleur2, couleur3):\n",
    "    #on crée une matrice vide de bonnes dimensions\n",
    "    pix = matrice_vide(ncol, nlig, 'RGB')\n",
    "    tiers_colonne = ncol // 3\n",
    "    deux_tiers_colonne = 2 * tiers_colonne\n",
    "    for x in range(ncol): #boucle sur les colonnes\n",
    "        for y in range(nlig): #boucle sur les lignes\n",
    "            if   x < tiers_colonne:\n",
    "                pix[y][x] = couleur1\n",
    "            #à compléter !\n",
    "    return pix\n",
    "\n",
    "def transpose(pix, mode):\n",
    "    \"Retourne la transposée tpix d'une matrice de pixels pix : tpix[y][x] = pix[x][y]\"\n",
    "    ncol, nlig  = dimensions(pix)\n",
    "    tpix = matrice_vide(nlig, ncol, mode)\n",
    "    #à compléter\n",
    "    return tpix"
   ]
  },
  {
   "cell_type": "markdown",
   "metadata": {},
   "source": [
    "Les assertions suivantes doivent être vérifiées par la fonction `transpose`"
   ]
  },
  {
   "cell_type": "code",
   "execution_count": null,
   "metadata": {},
   "outputs": [],
   "source": [
    "assert transpose([[0]],'L') == [[0]]\n",
    "assert transpose([[1,2],[4,5]], 'L') == [[1,4],[2,5]]\n",
    "assert transpose([[1,2,3],[4,5,6]],'L') == [[1,4],[2,5],[3,6]]\n",
    "assert transpose([[[1,2,3],[4,5,6]],[[7,8,9],[10,11,12]]],'RGB') == [[[1,2,3],[7,8,9]],[[4,5,6],[10,11,12]]]"
   ]
  },
  {
   "cell_type": "markdown",
   "metadata": {},
   "source": [
    "## Exercice 7"
   ]
  },
  {
   "cell_type": "code",
   "execution_count": null,
   "metadata": {},
   "outputs": [],
   "source": [
    "def barres_horizontales(nlig, ncol):\n",
    "    \"\"\"Retourne la matrice de pixels d'une image\n",
    "    de dimensions ncol x nlig avec alternance \n",
    "    de lignes noires (index pair)\n",
    "    ou blanches (index impair)\"\"\"\n",
    "    #on crée une matrice vide de bonnes dimensions\n",
    "    pix = matrice_vide(ncol, nlig)\n",
    "    for x in range(ncol): #boucle sur les colonnes\n",
    "        for y in range(nlig): #boucle sur les lignes\n",
    "            #les lignes d'index paires seront noires\n",
    "            \"à compléter\"\n",
    "    return pix "
   ]
  },
  {
   "cell_type": "markdown",
   "metadata": {},
   "source": [
    "## Exercice 8"
   ]
  },
  {
   "cell_type": "code",
   "execution_count": 9,
   "metadata": {},
   "outputs": [],
   "source": [
    "def applique_filtre(pix, filtre, mode):\n",
    "    ncol, nlig = dimensions(pix)\n",
    "    pix_but = matrice_vide(ncol, nlig, mode)\n",
    "    for x in range(ncol): #boucle sur les colonnes\n",
    "        for y in range(nlig): #boucle sur les lignes\n",
    "            pix_but[y][x] = filtre(pix[y][x])\n",
    "    return pix_but"
   ]
  },
  {
   "cell_type": "markdown",
   "metadata": {},
   "source": [
    "### Filtre négatif"
   ]
  },
  {
   "cell_type": "code",
   "execution_count": null,
   "metadata": {},
   "outputs": [],
   "source": [
    "def filtre_negatif_gris(pixel):\n",
    "    \"\"\"Filtre négatif pour image en niveaux de gris\"\"\"\n",
    "    return 255 - pixel\n",
    "\n",
    "def filtre_negatif_rgb(pixel):\n",
    "    \"\"\"Filtre négatif pour image  en RGB\"\"\"\n",
    "    \"à compléter\""
   ]
  },
  {
   "cell_type": "markdown",
   "metadata": {},
   "source": [
    "### Assertion qui doit être vérifiée"
   ]
  },
  {
   "cell_type": "code",
   "execution_count": null,
   "metadata": {},
   "outputs": [],
   "source": [
    "assert filtre_negatif_rgb([255,0,100]) == [0,255,155]"
   ]
  },
  {
   "cell_type": "markdown",
   "metadata": {},
   "source": [
    "### Filtre de seuillage"
   ]
  },
  {
   "cell_type": "code",
   "execution_count": 10,
   "metadata": {},
   "outputs": [],
   "source": [
    "def filtre_seuillage_gris(seuil):\n",
    "    \"\"\"Retourne une fonction filtre de seuillage pour une image en niveaux de gris\n",
    "    et pour le seuil choisi\"\"\"    \n",
    "    def f(pixel):\n",
    "        return fonction_seuil(pixel, seuil, 0, 255)    \n",
    "    return f"
   ]
  },
  {
   "cell_type": "code",
   "execution_count": null,
   "metadata": {},
   "outputs": [],
   "source": [
    "def filtre_seuillage_rgb(seuil):\n",
    "    \"\"\"Retourne une fonction filtre de seuillage pour une image en RGB\n",
    "    et pour le seuil choisi\"\"\"\n",
    "    def g(pixel):\n",
    "        \"à compléter\"\n",
    "    return g"
   ]
  },
  {
   "cell_type": "markdown",
   "metadata": {},
   "source": [
    "### Filtre de composante"
   ]
  },
  {
   "cell_type": "code",
   "execution_count": 11,
   "metadata": {},
   "outputs": [],
   "source": [
    "def filtre_rouge(pixel):\n",
    "    \"\"\"Filtre un pixel RGB en le projetant sur sa composante rouge\"\"\"\n",
    "    #à compléter"
   ]
  },
  {
   "cell_type": "markdown",
   "metadata": {},
   "source": [
    "Assertions à vérifier"
   ]
  },
  {
   "cell_type": "code",
   "execution_count": null,
   "metadata": {},
   "outputs": [],
   "source": [
    "assert filtre_rouge([255,0,0]) == [255,0,0]\n",
    "assert filtre_rouge([255,255,0]) == [255,0,0]\n",
    "assert filtre_rouge([255,255,255]) == [255,0,0]\n",
    "assert filtre_rouge([0,255,0]) == [0,0,0]"
   ]
  },
  {
   "cell_type": "code",
   "execution_count": 12,
   "metadata": {},
   "outputs": [],
   "source": [
    "def filtre_composante_rgb(index_comp):\n",
    "    \"\"\"Retourne une fonction de filtre qui projette un pixel\n",
    "    sur la composante indexée en paramètre\"\"\"    \n",
    "    \"à compléter\""
   ]
  },
  {
   "cell_type": "code",
   "execution_count": null,
   "metadata": {},
   "outputs": [],
   "source": [
    "assert filtre_composante_rgb(0)([255,200,100]) == [255,0,0]\n",
    "assert filtre_composante_rgb(1)([255,200,100]) == [0,200,0]\n",
    "assert filtre_composante_rgb(2)([255,200,100]) == [0,0,100]"
   ]
  },
  {
   "cell_type": "markdown",
   "metadata": {},
   "source": [
    "### Filtre monochrome"
   ]
  },
  {
   "cell_type": "code",
   "execution_count": 13,
   "metadata": {},
   "outputs": [],
   "source": [
    "def filtre_monochrome(pixel_rgb):\n",
    "    \"\"\"Retourne la moyenne pondérée des composantes\n",
    "    d'un pixel RGB par les coefs [0.299,0.587,0.114]\"\"\"\n",
    "    coef = [0.299,0.587,0.114]\n",
    "    pixel_gris = 0\n",
    "    somme_coef = 0\n",
    "    \"à compléter\""
   ]
  },
  {
   "cell_type": "markdown",
   "metadata": {},
   "source": [
    "Assertions qui doivent être vérifiées"
   ]
  },
  {
   "cell_type": "code",
   "execution_count": null,
   "metadata": {},
   "outputs": [],
   "source": [
    "assert filtre_monochrome([255,100,200]) == 157\n",
    "assert filtre_monochrome([200,255,100]) == 220\n",
    "assert filtre_monochrome([100,200,255]) == 176"
   ]
  }
 ],
 "metadata": {
  "kernelspec": {
   "display_name": "Python 3",
   "language": "python",
   "name": "python3"
  },
  "language_info": {
   "codemirror_mode": {
    "name": "ipython",
    "version": 3
   },
   "file_extension": ".py",
   "mimetype": "text/x-python",
   "name": "python",
   "nbconvert_exporter": "python",
   "pygments_lexer": "ipython3",
   "version": "3.8.5"
  }
 },
 "nbformat": 4,
 "nbformat_minor": 4
}
