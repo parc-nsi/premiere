{
 "cells": [
  {
   "cell_type": "markdown",
   "metadata": {},
   "source": [
    "# Parcours 1 : des objets qui réagissent"
   ]
  },
  {
   "cell_type": "markdown",
   "metadata": {},
   "source": [
    "## Crédits \n",
    "\n",
    "<a rel=\"license\" href=\"http://creativecommons.org/licenses/by-sa/4.0/\"><img alt=\"Licence Creative Commons\" style=\"border-width:0\" src=\"https://i.creativecommons.org/l/by-sa/4.0/88x31.png\" /></a><br />Ce document, basé sur du contenu de [France-IOI](http://www.france-ioi.org/), est mis à disposition selon les termes de la <a rel=\"license\" href=\"http://creativecommons.org/licenses/by-sa/4.0/\">Licence Creative Commons Attribution -  Partage dans les Mêmes Conditions 4.0 International</a>.\n",
    "\n",
    "Auteur du document original : __Eric Madec__ de l'académie de Rennes. Le document a été légèrement modifié."
   ]
  },
  {
   "cell_type": "markdown",
   "metadata": {},
   "source": [
    "## Thèmes du programme"
   ]
  },
  {
   "cell_type": "markdown",
   "metadata": {},
   "source": [
    "![programme](images/programme.png)"
   ]
  },
  {
   "cell_type": "markdown",
   "metadata": {},
   "source": [
    "## Consignes \n",
    "\n",
    "Rendez-vous à l'adresse : [https://amazon.quick-pi.org/](https://amazon.quick-pi.org/) pour apprendre à programmer vos objets connectés en Python en réalisant les activités du Parcours 1.\n",
    "\n",
    "Copier ci-dessous le code d'accès personnel fourni par l'enseignant :"
   ]
  },
  {
   "cell_type": "markdown",
   "metadata": {},
   "source": [
    "........."
   ]
  },
  {
   "cell_type": "markdown",
   "metadata": {},
   "source": [
    "\n",
    "\n",
    "Lisez la présentation pour <a href=\"#programmer_python\">programmer en python</a> , <a href=\"#ecrire\">écrire</a>,  <a href=\"#tester\">tester</a> puis <a href=\"valider\">valider</a> votre programme avec <a href=\"#interface\">interface France IOI</a>.\n",
    "\n",
    "> Au fur et à mesure que vous expérimentez et validez vos programmes **par simulation** pour chaque étape, recopiez votre script dans les cellules de code vides ci-dessous...\n",
    "\n",
    "Un tutoriel video de présentation de QuickPi  <https://tube.ac-lyon.fr/videos/watch/playlist/33c4984a-b64e-46cb-b0eb-3118f9728953>"
   ]
  },
  {
   "cell_type": "markdown",
   "metadata": {},
   "source": [
    "## Mélodie \n",
    "\n",
    "<div class=\"alert alert-block alert-info\">\n",
    "\n",
    "Lisez la présentation du  <a href=\"#buzzer\">buzzer</a>  et de <a href=\"#sleep\"> gestion du temps</a> .\n",
    "    </div>"
   ]
  },
  {
   "cell_type": "markdown",
   "metadata": {},
   "source": [
    "<div class=\"alert alert-block alert-danger\">\n",
    "    <h4>Exercice à faire à la maison </h4>\n",
    "    \n",
    "Écrire un programme qui active le buzzer pour jouer un son.\n",
    "</div>"
   ]
  },
  {
   "cell_type": "code",
   "execution_count": 2,
   "metadata": {},
   "outputs": [],
   "source": [
    "# Recopier le code ici"
   ]
  },
  {
   "cell_type": "markdown",
   "metadata": {},
   "source": [
    "<div class=\"alert alert-block alert-danger\">\n",
    "    <h4>Exercice à faire à la maison </h4>\n",
    "    \n",
    "    \n",
    "Écrire un programme qui joue la note \"la\", à la fréquence 440Hz, pendant une seconde.\n",
    "</div>"
   ]
  },
  {
   "cell_type": "code",
   "execution_count": null,
   "metadata": {},
   "outputs": [],
   "source": [
    "# Recopier le code ici"
   ]
  },
  {
   "cell_type": "markdown",
   "metadata": {},
   "source": [
    "<div class=\"alert alert-block alert-danger\">\n",
    "    \n",
    "<h4>Exercice à faire à la maison </h4>\n",
    "    \n",
    "    \n",
    "Écrire un programme qui joue la mélodie “do ré mi ré do”, en jouant chaque note pendant 500ms, l'une après l'autre, puis éteint le buzzer.\n",
    "\n",
    "Les fréquences des notes sont : Do : 523Hz, Ré : 587Hz, et Mi : 659Hz.\n",
    "</div>"
   ]
  },
  {
   "cell_type": "code",
   "execution_count": null,
   "metadata": {},
   "outputs": [],
   "source": [
    "# Recopier le code ici"
   ]
  },
  {
   "cell_type": "markdown",
   "metadata": {},
   "source": [
    "## Alternance\n",
    "    \n",
    "![2-allers-retours-de-LEDs/icon.png](images/aller_retour.png)\n",
    "\n",
    "<div class=\"alert alert-block alert-info\">\n",
    "\n",
    "\n",
    "\n",
    "Lisez la présentation de <a href=\"#for\">la boucle de répétition avec l'instruction `for`</a> , des <a href=\"#led\"> leds </a> et de <a href=\"#sleep\">la gestion du temps</a>\n",
    "</div>"
   ]
  },
  {
   "cell_type": "markdown",
   "metadata": {},
   "source": [
    "<div class=\"alert alert-block alert-danger\">\n",
    "<h4>Exercice à faire en classe </h4>\n",
    "    \n",
    "    \n",
    "Écrire un programme qui fait clignoter la LED cinq fois : c'est à dire l'allume pendant 1s, puis l'éteint pendant 1s, puis recommence quatre autres fois.\n",
    "</div>"
   ]
  },
  {
   "cell_type": "code",
   "execution_count": null,
   "metadata": {},
   "outputs": [],
   "source": [
    "# Recopier le code ici"
   ]
  },
  {
   "cell_type": "markdown",
   "metadata": {},
   "source": [
    "<div class=\"alert alert-block alert-danger\">\n",
    "<h4>Exercice à faire en classe </h4>\n",
    "    \n",
    "Écrire un programme qui allume en alternance les LED rouge et bleue pendant 500ms chacune : la rouge pendant 500ms, la bleue pendant 500ms, etc.\n",
    "\n",
    "Chacune des LEDs doit être allumée 5 fois au total.\n",
    "\n",
    "Tout doit être éteint à la fin.\n",
    "</div>"
   ]
  },
  {
   "cell_type": "code",
   "execution_count": null,
   "metadata": {},
   "outputs": [],
   "source": [
    "# Recopier le code ici"
   ]
  },
  {
   "cell_type": "markdown",
   "metadata": {},
   "source": [
    "<div class=\"alert alert-block alert-danger\">\n",
    "<h4>Exercice à faire à la maison </h4>\n",
    "    \n",
    "Écrire un programme qui allume en alternance les LED rouge et bleue 5 fois au total, chaque fois pendant 500ms mais allumant la suivante 100ms avant d'éteindre la précédente : on allume la rouge au tout début, puis allume la bleue au temps 400ms, puis éteint la rouge au temps 500ms, puis allume la rouge au temps 800ms, etc.\n",
    " </div>"
   ]
  },
  {
   "cell_type": "code",
   "execution_count": null,
   "metadata": {},
   "outputs": [],
   "source": [
    "# Recopier le code ici"
   ]
  },
  {
   "cell_type": "markdown",
   "metadata": {},
   "source": [
    "## Show lumineux 1\n",
    "\n",
    "\n",
    "![3-light-show-1/icon.png](images/show_lumineux.png)\n",
    "\n",
    "<div class=\"alert alert-block alert-info\">\n",
    "    \n",
    "\n",
    "Lisez la présentation de <a href=\"#for\"> boucle for</a>, des <a href=\"#led\"> leds</a> et de <a href=\"#sleep\"> gestion du temps</a>.\n",
    "</div>"
   ]
  },
  {
   "cell_type": "markdown",
   "metadata": {},
   "source": [
    "<div class=\"alert alert-block alert-danger\">\n",
    "<h4>Exercice à faire en classe </h4>\n",
    "    \n",
    "Écrire un programme qui dans l'ordre :\n",
    "\n",
    "- Allume la LED rouge pendant 1s\n",
    "- Fait clignoter la LED bleue 5 fois : 500ms allumée puis 500ms éteinte.\n",
    "- Allume la LED verte et la laisse allumée.\n",
    "</div>"
   ]
  },
  {
   "cell_type": "code",
   "execution_count": null,
   "metadata": {},
   "outputs": [],
   "source": [
    "# Recopier le code ici"
   ]
  },
  {
   "cell_type": "markdown",
   "metadata": {},
   "source": [
    "<div class=\"alert alert-block alert-danger\">\n",
    "    <h4>Exercice à faire en classe </h4>\n",
    "    \n",
    "Écrire un programme qui dans l'ordre :\n",
    "\n",
    "- Allume la LED rouge pendant 1s\n",
    "- Fait clignoter la LED verte 5 fois : 500ms allumée puis 500ms éteinte.\n",
    "- Fait clignoter la LED bleue 3 fois : 500ms allumée puis 500ms éteinte.\n",
    "- Rallume la LED verte et la laisse allumée.\n",
    "</div>"
   ]
  },
  {
   "cell_type": "code",
   "execution_count": null,
   "metadata": {},
   "outputs": [],
   "source": [
    " # Recopier le code ici"
   ]
  },
  {
   "cell_type": "markdown",
   "metadata": {},
   "source": [
    "<div class=\"alert alert-block alert-danger\">\n",
    "    \n",
    "<h4>Exercice à faire en classe </h4>\n",
    "    \n",
    "    \n",
    "Écrire un programme qui joue la séquence suivante, où chaque tiret représente un état allumé de 500ms, et chaque point un état éteint de 500ms.\n",
    "\n",
    "Notez que les deux lignes se jouent en même temps :\n",
    "<pre>\n",
    "- LED rouge : -.-.-.--.-.-.\n",
    "- LED verte : .......------\n",
    "</pre>\n",
    "Les LEDs doivent être éteintes à la fin du programme.\n",
    "</div>"
   ]
  },
  {
   "cell_type": "code",
   "execution_count": null,
   "metadata": {},
   "outputs": [],
   "source": [
    "# Recopier le code ici"
   ]
  },
  {
   "cell_type": "markdown",
   "metadata": {},
   "source": [
    "## Quelle direction ?\n",
    "\n",
    "![4-afficher-la-direction/icon.png](images/direction.png)\n",
    "    \n",
    "    \n",
    "<div class=\"alert alert-block alert-info\">\n",
    "       \n",
    "Lisez la présentation de : <a href=\"#while\"> boucle while</a>, <a href=\"#if\"> l'instruction if</a>, <a href=\"#ecran\"> l'écran</a>, <a href=\"#bouton\">le bouton poussoir</a> et <a href=\"#manette\"> la manette</a>.\n",
    "</div>\n"
   ]
  },
  {
   "cell_type": "markdown",
   "metadata": {},
   "source": [
    "<div class=\"alert alert-block alert-danger\">\n",
    "<h4>Exercice à faire en classe </h4>\n",
    "Écrire un programme qui laisse l'écran vide au début, puis affiche le texte \"Bonjour\" dès que l'on appuie sur le bouton, et le laisse affiché.\n",
    "\n",
    "Votre programme devra boucler indéfiniment, et tester en permanence si le bouton est enfoncé. Notez qu'un texte affiché à l'écran y reste jusqu'à ce que l'on affiche autre chose.\n",
    "    \n",
    "</div>"
   ]
  },
  {
   "cell_type": "code",
   "execution_count": null,
   "metadata": {},
   "outputs": [],
   "source": [
    " # Recopier le code ici"
   ]
  },
  {
   "cell_type": "markdown",
   "metadata": {},
   "source": [
    "<div class=\"alert alert-block alert-danger\">\n",
    "<h4>Exercice à faire en classe </h4>\n",
    "    \n",
    "Écrire un programme qui :\n",
    "\n",
    "<ul>\n",
    "    <li>affiche le texte \"Appuyez\"</li>\n",
    "    <li>affiche le texte \"Merci\" dès que l'on appuie sur le bouton, et le laisse affiché</li>\n",
    "</ul>\n",
    "</div>"
   ]
  },
  {
   "cell_type": "code",
   "execution_count": null,
   "metadata": {},
   "outputs": [],
   "source": [
    " # Recopier le code ici"
   ]
  },
  {
   "cell_type": "markdown",
   "metadata": {},
   "source": [
    "<div class=\"alert alert-block alert-danger\">\n",
    "<h4>Exercice à faire en classe </h4>\n",
    "    \n",
    "Écrire un programme qui :\n",
    "<ul>\n",
    "    <li>affiche le texte \"Direction ?\" dès le début</li>\n",
    "<li>puis lorsque l'on appuie sur une direction, affiche le texte \"Haut\", \"Droite\", \"Bas\" ou \"Gauche\" selon la direction appuyée</li>\n",
    "    </ul>\n",
    "</div>\n"
   ]
  },
  {
   "cell_type": "code",
   "execution_count": null,
   "metadata": {},
   "outputs": [],
   "source": [
    " # Recopier le code ici"
   ]
  },
  {
   "cell_type": "markdown",
   "metadata": {},
   "source": [
    "## Instrument\n",
    "\n",
    "\n",
    "![5-instrument-de-musique/icon.png](images/musique.png)\n",
    "\n",
    "<div class=\"alert alert-block alert-info\">\n",
    "    \n",
    "\n",
    "    \n",
    "Lisez la présentation de  <a href=\"#while\"> boucle while</a>, de <a href=\"#if\"> l'instruction if</a>, du  <a href=\"#capteur\"> capteur de distance</a> et du     <a href=\"#buzzer\"> buzzer</a>.\n",
    "    \n",
    "</div>"
   ]
  },
  {
   "cell_type": "markdown",
   "metadata": {},
   "source": [
    "<div class=\"alert alert-block alert-danger\">\n",
    "<h4>Exercice à faire en classe </h4>\n",
    "Écrire un programme qui allume le buzzer quand le capteur détecte un objet à moins de 100cm, et arrête le buzzer dès qu'il n'en détecte plus.\n",
    "</div>"
   ]
  },
  {
   "cell_type": "code",
   "execution_count": null,
   "metadata": {},
   "outputs": [],
   "source": [
    " # Recopier le code ici"
   ]
  },
  {
   "cell_type": "markdown",
   "metadata": {},
   "source": [
    "<div class=\"alert alert-block alert-danger\">\n",
    "<h4>Exercice à faire en classe </h4>\n",
    "    \n",
    "Écrire un programme qui allume le buzzer quand le capteur détecte un objet à moins de 500cm.\n",
    "\n",
    "Le buzzer doit jouer un son à une fréquence égale à la distance de l'objet en centimètres. Il doit être éteint s'il n'y a pas d'objet à moins de 500cm.\n",
    "</div>"
   ]
  },
  {
   "cell_type": "code",
   "execution_count": null,
   "metadata": {},
   "outputs": [],
   "source": [
    " # Recopier le code ici"
   ]
  },
  {
   "cell_type": "markdown",
   "metadata": {},
   "source": [
    "<div class=\"alert alert-block alert-danger\">\n",
    "<h4>Exercice à faire en classe </h4>\n",
    "    \n",
    "Modifier le programme de la version précédente, avec la différence suivante : lorsque le bouton est enfoncé, la fréquence du buzzer doit être doublée.\n",
    "</div>"
   ]
  },
  {
   "cell_type": "code",
   "execution_count": null,
   "metadata": {},
   "outputs": [],
   "source": [
    " # Recopier le code ici"
   ]
  },
  {
   "cell_type": "markdown",
   "metadata": {},
   "source": [
    "## Show Lumineux 2 :\n",
    "\n",
    "\n",
    "![6-light-show-2/icon.png](images/light-show.png)\n",
    "\n",
    "<div class=\"alert alert-block alert-info\">\n",
    "    \n",
    "\n",
    "    \n",
    "\n",
    "    \n",
    "Lisez la présentation <a href=\"#boucles2\">boucles imbriquées avec l'instruction for</a>, des  <a href=\"#led\"> leds</a> et de <a href=\"#sleep\"> gestion du temps</a>.\n",
    "</div>"
   ]
  },
  {
   "cell_type": "markdown",
   "metadata": {},
   "source": [
    "<div class=\"alert alert-block alert-danger\">\n",
    "\n",
    "<h4>Exercice à faire en classe </h4>\n",
    "    \n",
    "Écrire un programme qui fait 3 fois ces deux étapes :\n",
    "\n",
    "    \n",
    "<ul>\n",
    "    <li> Faire clignoter la LED rouge 3 fois (200ms allumée puis 200ms éteinte)</li>\n",
    "    <li>Attendre 1 seconde.</li>\n",
    "</ul>\n",
    "</div>"
   ]
  },
  {
   "cell_type": "code",
   "execution_count": 2,
   "metadata": {},
   "outputs": [],
   "source": [
    " # Recopier le code ici"
   ]
  },
  {
   "cell_type": "markdown",
   "metadata": {},
   "source": [
    "<div class=\"alert alert-block alert-danger\">\n",
    "\n",
    "<h4>Exercice à faire en classe </h4>\n",
    "    \n",
    "Écrire un programme qui fait 3 fois ces deux étapes :\n",
    "<ul>\n",
    "    <li>Clignoter la LED rouge 3 fois (200ms allumée puis 200ms éteinte)</li>\n",
    "    <li>Clignoter la LED verte 3 fois (200ms allumée puis 200ms éteinte)</li>\n",
    "    <li>Clignoter la LED bleue 3 fois (200ms allumée puis 200ms éteinte)</li>\n",
    "    <li>Attendre 1 seconde.</li>\n",
    "    </ul>\n",
    "</div>"
   ]
  },
  {
   "cell_type": "code",
   "execution_count": null,
   "metadata": {},
   "outputs": [],
   "source": [
    " # Recopier le code ici"
   ]
  },
  {
   "cell_type": "markdown",
   "metadata": {},
   "source": [
    "<div class=\"alert alert-block alert-danger\">\n",
    "<h4>Exercice à faire en classe </h4>\n",
    "    \n",
    "Écrire un programme qui fait en même temps, et pendant 4 secondes au total :\n",
    "<ul>\n",
    "    <li> Clignoter la LED rouge : 1s allumée puis 1s éteinte</li>\n",
    "    <li>Clignoter la LED verte : 500ms allumée puis 500ms éteinte</li>\n",
    "    <li>Clignoter la LED bleue : 250ms allumée puis 250ms éteinte</li>\n",
    "</ul>\n",
    "</div>"
   ]
  },
  {
   "cell_type": "code",
   "execution_count": null,
   "metadata": {},
   "outputs": [],
   "source": [
    " # Recopier le code ici"
   ]
  },
  {
   "cell_type": "markdown",
   "metadata": {},
   "source": [
    "    \n",
    "## Avertisseur :\n",
    "\n",
    "![7-avertisseur-de-recul/icon.png](images/avertisseur.png)\n",
    "\n",
    "\n",
    "<div class=\"alert alert-block alert-info\">\n",
    "\n",
    "\n",
    "Lisez la présentation de  <a href=\"#while\"> boucle while</a>, de  <a href=\"#if\"> l'instruction if</a>, de          <a href=\"#for\"> boucle for</a>, du  <a href=\"#capteur\"> capteur de distance</a>, du  <a href=\"#buzzer\"> buzzer</a>, et de  <a href=\"#sleep\"> gestion du temps</a>.\n",
    "</div>"
   ]
  },
  {
   "cell_type": "markdown",
   "metadata": {},
   "source": [
    "<div class=\"alert alert-block alert-danger\">\n",
    "    \n",
    "<h4>Exercice à faire en classe </h4>\n",
    "\n",
    "Écrire un programme qui, dès qu'un objet passe à moins de 30cm du capteur, fait dans l'ordre :\n",
    "    \n",
    "<ol>\n",
    "    <li> Jouer 3 bips de 100ms espacés de 100ms </li>\n",
    "    <li> Attendre 500ms </li>\n",
    "    </ol>\n",
    "</div>"
   ]
  },
  {
   "cell_type": "code",
   "execution_count": null,
   "metadata": {},
   "outputs": [],
   "source": [
    " # Recopier le code ici"
   ]
  },
  {
   "cell_type": "markdown",
   "metadata": {},
   "source": [
    "<div class=\"alert alert-block alert-danger\">\n",
    "<h4>Exercice à faire en classe </h4>\n",
    "    \n",
    "Modifiez le programme de la version précédente, pour qu'il arrête de jouer des bips dès qu'il n'y a plus d'objet.\n",
    "\n",
    "S'il y a un bip en cours, il se termine, mais on ne joue pas le suivant.\n",
    "</div>"
   ]
  },
  {
   "cell_type": "code",
   "execution_count": null,
   "metadata": {},
   "outputs": [],
   "source": [
    " # Recopier le code ici"
   ]
  },
  {
   "cell_type": "markdown",
   "metadata": {},
   "source": [
    "<div class=\"alert alert-block alert-danger\">\n",
    "<h4>Exercice à faire à la maison </h4>\n",
    "    \n",
    "    \n",
    "Modifiez le programme de la version précédente, pour que lorsqu'un objet passe à moins de 10cm du capteur alors qu'une série de bips n'est pas en cours, alors il joue un bip en continu.\n",
    "\n",
    "Au dessus de cette distance, il doit faire comme dans la version précédente.\n",
    "</div>"
   ]
  },
  {
   "cell_type": "code",
   "execution_count": null,
   "metadata": {},
   "outputs": [],
   "source": [
    " # Recopier le code ici"
   ]
  },
  {
   "cell_type": "markdown",
   "metadata": {},
   "source": [
    "##  Servo chronométré \n",
    "\n",
    "![8-servo-chronometre/icon.png](images/servo.png)\n",
    "\n",
    "<div class=\"alert alert-block alert-info\">\n",
    "    \n",
    "\n",
    "    \n",
    "\n",
    "    \n",
    "Lisez la présentation du <a href=\"#servo\"> servomoteur</a>, de  <a href=\"#while\"> boucle while</a>, de   <a href=\"#if\"> l'instruction if</a>, de la <a href=\"#for\"> boucle for</a>, de [la manette](#manette), du <a href=\"#buzzer\"> buzzer</a>, des <a href=\"#led\"> leds</a>, et de   <a href=\"#sleep\"> gestion du temps</a>.\n",
    "</div>"
   ]
  },
  {
   "cell_type": "markdown",
   "metadata": {},
   "source": [
    "<div class=\"alert alert-block alert-danger\">\n",
    "<h4>Exercice à faire en classe </h4>\n",
    "\n",
    "Écrire un programme qui met l'angle du servomoteur à 0°, puis lorsque l'on appuie sur le bouton :\n",
    "\n",
    "- Augmente l'angle 18 fois de 10°, toutes les 50ms\n",
    "- Joue un bip pendant 500ms\n",
    "- Remet l'angle à 0°\n",
    "</div>"
   ]
  },
  {
   "cell_type": "code",
   "execution_count": null,
   "metadata": {},
   "outputs": [],
   "source": [
    " # Recopier le code ici"
   ]
  },
  {
   "cell_type": "markdown",
   "metadata": {},
   "source": [
    "<div class=\"alert alert-block alert-danger\">\n",
    "\n",
    "\n",
    "<h4>Exercice à faire en classe </h4>\n",
    "        \n",
    "        \n",
    "Écrire un programme qui met le servomoteur à 10°, puis lorsque que le stick est appuyé :\n",
    "\n",
    "- À gauche : diminue de 2° puis attend 50ms\n",
    "- À droite : augmente de 2° puis attend 50ms\n",
    "\n",
    "Le programme doit ignorer les actions qui ne gardent pas l'angle entre 10° et 170°.\n",
    "</div>\n"
   ]
  },
  {
   "cell_type": "code",
   "execution_count": null,
   "metadata": {},
   "outputs": [],
   "source": [
    "  # Recopier le code ici"
   ]
  },
  {
   "cell_type": "markdown",
   "metadata": {},
   "source": [
    "<div class=\"alert alert-block alert-danger\">\n",
    "\n",
    "<h4>Exercice à faire à la maison </h4>\n",
    "        \n",
    "        \n",
    "Modifier le programme de la version précédente, pour qu'il arrête au bout de 5s, puis selon l'angle du servo :\n",
    "\n",
    "- S'il vaut 90°, allume la LED verte\n",
    "- S'il est inférieur à 90°, allume la LED rouge\n",
    "- S'il est supérieur à 90°, allume la LED bleue\n",
    "\n",
    "Le programme doit ensuite attendre 2s, puis éteindre les LEDs et tout recommencer.\n",
    "</div>"
   ]
  },
  {
   "cell_type": "code",
   "execution_count": null,
   "metadata": {},
   "outputs": [],
   "source": [
    " # Recopier le code ici"
   ]
  },
  {
   "cell_type": "markdown",
   "metadata": {},
   "source": [
    "# Les instructions utiles en Python :"
   ]
  },
  {
   "cell_type": "markdown",
   "metadata": {},
   "source": [
    "## Programmation :\n",
    "\n",
    "\n",
    "<a id=\"programmer_python\"></a>\n",
    "<div class=\"alert alert-block alert-success\">\n",
    "\n",
    "\n",
    "Python permet de créer des programmes à partir d'instructions.\n",
    "\n",
    "Par exemple, l'instruction `droite()` peut faire déplacer un robot d'une case vers la droite.\n",
    "\n",
    "Un programme formé d'instructions les unes en dessous des autres, exécute ces instructions l'une après l'autre.\n",
    "    \n",
    "    \n",
    "<pre>\n",
    "from robot import *\n",
    "\n",
    "droite()\n",
    "haut()\n",
    "droite()\n",
    "</pre>\n",
    "    \n",
    "Le programme ci-dessus fait déplacer le robot vers la droite, puis vers le haut, puis de nouveau vers la droite.\n",
    "\n",
    "\n",
    "</div>"
   ]
  },
  {
   "cell_type": "markdown",
   "metadata": {},
   "source": [
    "## Structure de test \n",
    "    \n",
    "### L'instruction <code>if</code> :\n",
    " \n",
    " <a id=\"if\"></a>\n",
    "\n",
    "<div class=\"alert alert-block alert-success\">\n",
    " \n",
    "    \n",
    "\n",
    "\n",
    "Avec l'instruction <code>if</code>, on peut exécuter une instruction uniquement dans certaines conditions.\n",
    "<pre>\n",
    "if caseMarquee():\n",
    "    peindre()\n",
    "</pre>\n",
    "Par exemple, le programme ci-dessus teste le contenu de la case du robot, et ne la peint que si elle est marquée.\n",
    "\n",
    "On peut aussi placer plusieurs instructions dans une instruction if, comme illustré ci-dessous :\n",
    "\n",
    "<pre>\n",
    "if caseMarquee():\n",
    "    peindre()\n",
    "    droite()\n",
    "</pre>\n",
    "    \n",
    "### L'instruction <code>if/else</code>\n",
    "\n",
    "On peut utiliser une instruction <code>if/else</code>, pour effectuer des opérations différentes selon la situation. Par exemple :\n",
    "<pre>\n",
    "if caseMarquee():\n",
    "    peindre()\n",
    "else:\n",
    "    haut()\n",
    "</pre>\n",
    "Dans le programme ci-dessus, si la case du robot est marquée, le robot la peint, sinon il ne la peint pas mais se déplace vers le haut.\n",
    "\n",
    "    \n",
    "</div>"
   ]
  },
  {
   "cell_type": "markdown",
   "metadata": {},
   "source": [
    "## Les structures de boucles\n",
    "\n",
    "### Boucle inconditionnelle avec l'instruction <code>for</code>\n",
    "\n",
    "    \n",
    "<a id=\"for\"></a>\n",
    "    \n",
    "    \n",
    "<div class=\"alert alert-block alert-success\">\n",
    "    \n",
    "\n",
    "    \n",
    "\n",
    "\n",
    "    \n",
    "    \n",
    "Une boucle inconditionnelle permet de répéte<code>for k in range(...)</code>\n",
    "\n",
    "Par exemple, plutôt que de mettre 5 fois la même instruction :\n",
    "<pre>\n",
    "droite()\n",
    "droite()\n",
    "droite()\n",
    "droite()\n",
    "droite()\n",
    "</pre>\n",
    "On peut écrire la boucle suivante :\n",
    "<pre>\n",
    "for k in range(5):\n",
    "    droite()\n",
    "</pre>\n",
    "On peut aussi mettre plusieurs instructions dans une boucle :\n",
    "<pre>\n",
    "for k in range(5):\n",
    "    droite()\n",
    "    haut()\n",
    "</pre>\n",
    "\n",
    "\n",
    "La situation la plus courante est :\n",
    "<pre>    \n",
    "    Pour k allant de 1 à 10 répéter \n",
    "        Bloc d'instructions\n",
    "    FinPour\n",
    "</pre>\n",
    "Sa traduction en `Python` est :\n",
    "\n",
    "<pre>\n",
    "# flux parent\n",
    "for k in range(1, 11):\n",
    "    # bloc d'instructions\n",
    "# retour au flux parent\n",
    "</pre>\n",
    "\n",
    "On remarque l'utilisation `range(1, 11)` alors qu'on attendrait `range(1, 10)`.\n",
    "\n",
    "En fait <code>range(1, 11)</code> retourne un _itérateur_, qui va parcourir avec un incrément de 1 tous les entiers $n$ tels que $1 \\leqslant n < 11$. \n",
    "\n",
    "Il faut bien se souvenir que la borne supérieure de <code>range(n, m)</code> est exclue mais il est facile de retenir que le nombre de tours de boucles est  m - n.\n",
    "\n",
    "Par exemple, pour calculer la somme des tous les entiers consécutifs de 100 à 200, on peut écrire :\n",
    "\n",
    "<pre>\n",
    "somme = 0\n",
    "for k in range(100, 201):\n",
    "    somme = somme + k\n",
    "print(\"La somme est \", somme)\n",
    "</pre>\n",
    "\n",
    "S'il s'agit juste de répéter `n` fois un bloc d'instructions on utilise le raccourci <code>range(n)</code> au lieu de <code>range(0, n)</code> ou de <code>range(1, n + 1)</code>.\n",
    "\n",
    "Par exemple pour dire 100 fois \"Merci\", on peut écrire :\n",
    "\n",
    "<pre>\n",
    "for k in range(100):\n",
    "    print(\"Merci !\")\n",
    "print(\"Ouf!\")\n",
    "</pre>\n",
    "</div>"
   ]
  },
  {
   "cell_type": "markdown",
   "metadata": {},
   "source": [
    "    \n",
    "### La boucle conditionnelle avec l'instruction <code>while</code>\n",
    "\n",
    "<a id=\"while\"></a>\n",
    "\n",
    "<div class=\"alert alert-block alert-success\">\n",
    "\n",
    "\n",
    "    \n",
    "Généralement, on souhaite répéter un bloc d'instructions tant qu'une condition est réalisée mais on ne sait pas à l'avance combien de répétitions seront nécéssaires.\n",
    "\n",
    "La situation la plus courante est :\n",
    "<pre>\n",
    "    Tant Que Condition répéter\n",
    "        Bloc d'instructions\n",
    "    Fin Tant Que\n",
    "</pre>\n",
    "    \n",
    "Elle se traduit en `Python` par :\n",
    "\n",
    "<pre>\n",
    "# flux parent\n",
    "while condition:\n",
    "    # bloc d'instructions indenté\n",
    "# retour au flux parent\n",
    "</pre>\n",
    "\n",
    "Par exemple, pour demander la saisie d'un login jusqu'à une saisie correcte, on peut écrire :\n",
    "\n",
    "<pre>\n",
    "login = 'moi'\n",
    "while input('Login ?') != login:        # test d'entrée de boucle\n",
    "    print(\"Essaie encore !\")\n",
    "print('Bienvenue ', login)    # sortie de boucle\n",
    "</pre>\n",
    "Évidemment, on peut aboutir à une _boucle infinie_ si la condition d'entrée de boucle n'est jamais vérifiée. \n",
    "\n",
    "Parfois  une boucle infinie est le comportement souhaité, par exemple pour un programme qui doit surveiller des événéments par l'intermédiaire d'écouteurs logiciels (Javascript dans le navigateur) ou de capteurs physiques (de lumière, de température ...). \n",
    "\n",
    "On peut utiliser l'instruction `while True :` pour répéter sans fin une séquence d'instructions, comme dans l'exemple ci-dessous, qui allume et éteint une LED toutes les 500 millisecondes :\n",
    "    \n",
    "<pre>\n",
    "while True :\n",
    "    allumerLED()\n",
    "    attendre(1000)\n",
    "    eteindreLED()\n",
    "    attendre(1000)\n",
    "</pre>\n",
    "    \n",
    "L'instruction <code>while True :</code> exécute en boucle les instructions placées en dessous, indentées vers la droite, sans s'arrêter, jusqu'à ce que l'on interrompe l'exécution du programme.\n",
    "\n",
    "Ce type de boucle est utile pour les programmes qui ne doivent jamais s'arrêter, par exemple le programme d'un système d'alarme, qui doit être actif en permanence.\n",
    "\n",
    "</div>"
   ]
  },
  {
   "cell_type": "markdown",
   "metadata": {},
   "source": [
    "### Boucles imbriquées :\n",
    "\n",
    "<a id=\"boucles2\"></a>\n",
    "<div class=\"alert alert-block alert-success\">\n",
    "    \n",
    "\n",
    "Il est possible d'utiliser des boucles imbriquées, c'est-à-dire que l'on peut mettre des boucles <code>for</code>, à l'intérieur d'autres boucles <code>for</code>.\n",
    "\n",
    "Par exemple :\n",
    "<pre>\n",
    "for i in range(5):\n",
    "    droite()\n",
    "    for j in range(3):\n",
    "        haut()\n",
    "    droite()\n",
    "</pre>  \n",
    "Ce programme répétera 5 fois un déplacement d'1 case vers la droite, 3 cases vers le haut et 1 case vers la droite.\n",
    "\n",
    "</div>"
   ]
  },
  {
   "cell_type": "markdown",
   "metadata": {},
   "source": [
    "<a id =\"interface\"></a>\n",
    "\n",
    "# L'interface FranceIOI :\n",
    "\n",
    "L'interface comporte deux onglets EXPÉRIMENTER et VALIDER, qui correspondent à deux modes d'utilisation différents.\n",
    "\n",
    "<img src=\"https://static4.castor-informatique.fr/help/quickpi_img/experimenter_p.png\" alt=\"experimenter_p.png\" title=\"experimenter_p.png\" width=\"90%\">\n",
    "\n"
   ]
  },
  {
   "cell_type": "markdown",
   "metadata": {},
   "source": [
    "<a id =\"ecrire\"></a>\n",
    "\n",
    "## Ecrire un programme :\n",
    "\n",
    "C'est à droite dans l'éditeur que vous allez écrire vos programmes en langage python.\n",
    "\n",
    "Votre programme doit toujours commencer par la ligne `from quickpi import *`.\n",
    "\n",
    "Cette ligne de code permet de pouvoir utiliser les fonctions spécialement définies pour le module QuickPi.\n",
    "\n",
    "Les fonctions et mots clés disponibles sont répertoriés dans des listes déroulantes.\n",
    "\n",
    "Ensuite, vous écrivez les instructions de votre programme les unes "
   ]
  },
  {
   "cell_type": "markdown",
   "metadata": {},
   "source": [
    "<a id =\"tester\"></a>\n",
    "\n",
    "## Tester un programme :\n",
    "\n",
    "L'onglet EXPÉRIMENTER est en quelque sotre un \"bac à sable\". Il vous permet de mener des expérimentations avec les composants et les fonctions disponibles dans l'interface.\n",
    "\n",
    "Un ou des composants sont mis à votre disposition sur l'interface.\n",
    "\n",
    "<img src=\"https://static4.castor-informatique.fr/help/quickpi_img/onglet_experimenter.png\" alt=\"onglet_experimenter.png\" title=\"onglet_experimenter.png\" width=\"30%\">\n",
    "\n",
    "Vous pouvez tester ces composants en cliquant dessus pour changer leur état.\n",
    "\n",
    "Exemple : cliquer sur une LED pour l'allumer.\n",
    "\n",
    "Pour exécuter votre programme, cliquez sur le bouton  en bas à gauche de l'écran.\n",
    "\n",
    "<img src=\"https://static4.castor-informatique.fr/help/quickpi_img/interface_p.png\" alt=\"interface_p.png\" title=\"interface_p.png\" width=\"90%\">\n",
    "\n",
    "N'importe quel programme que vous concevez est exécuté entièrement, avec une simulation visuelle ou auditive du fonctionnement des composants.\n"
   ]
  },
  {
   "cell_type": "markdown",
   "metadata": {},
   "source": [
    "<a id =\"valider\"></a>\n",
    "\n",
    "## Valider un programme :\n",
    "\t\n",
    "Votre mission consiste à concevoir un programme qui permet d'effectuer la tâche demandée dans l'énoncé.\n",
    "\n",
    "L'onglet VALIDER permet une validation automatique des programmes soumis : grâce à un test, le programme présent dans l'éditeur est automatiquement évalué.\n",
    "\n",
    "Voici comment fonctionne ce test :\n",
    "\n",
    "<img src=\"images/valider_p.png\" alt=\"valider_p.png\" title=\"valider_p.png\" width=\"90%\"> \n",
    "\n",
    "Une ligne du temps (en secondes) est présente pour chaque composant disponible.\n",
    "\n",
    "Cette ligne du temps apparaît en gris lorsque le composant est activé pendant la période, sinon elle n'apparaît pas.\n",
    "\n",
    "Au fur et à mesure de l'exécution du programme, un curseur se déplace horizontalement et vérifie que l'état des composants est conforme à ce qui est attendu.\n",
    "\n",
    "Dans l'exemple, la LED doit être initialement éteinte (état OFF), puis allumée (état ON, ligne grise) entre les instants 0 et 3, puis à nouveau éteinte à l'instant 3.\n"
   ]
  },
  {
   "cell_type": "markdown",
   "metadata": {},
   "source": [
    "# Les fonctions utiles des composants :"
   ]
  },
  {
   "cell_type": "markdown",
   "metadata": {},
   "source": [
    "<a id =\"sleep\"></a>\n",
    "\n",
    "## Gestion du temps :\n",
    "\n",
    "![temps](images/time2.png)\n",
    "\n",
    "\n",
    "- `sleep(milliseconds)`\n",
    "\n",
    "    Cette fonction permet de stopper l'exécution du programme pendant une durée entrée en paramètre.\n",
    "    \n",
    "    Cette durée est exprimée en millisecondes.\n",
    "    \n",
    "    Exemple :\n",
    "```python    \n",
    "sleep(1000)\n",
    "```\n",
    "    Pour stopper l'exécution du programme pendant une durée de 1 seconde.\n",
    "    \n"
   ]
  },
  {
   "cell_type": "markdown",
   "metadata": {},
   "source": [
    "<a id =\"buzzer\"></a>\n",
    "\n",
    "## Buzzer :\n",
    "Un buzzer est un composant qui produit un son lorsqu'il est soumis à un tension électrique.\n",
    "\n",
    "Un buzzer possède deux états :\n",
    "\n",
    "- ON : le buzzer est soumis à une tension électrique, il sonne.\n",
    "![buzzer-ringing.png](images/buzzer-ringing.png)\n",
    "- OFF : sans tension électrique, le buzzer reste silencieux.\n",
    "![buzzer.png](images/buzzer.png)\n",
    "\n",
    "Le son peut être toujours le même ou être paramétrable.\n",
    "\n",
    "\n",
    "**Fonctions disponibles :**\n",
    "\n",
    "- `turnBuzzerOn()`\n",
    "\n",
    "    Cette fonction permet d'allumer le buzzer.\n",
    "    \n",
    "    \n",
    "- `turnBuzzerOff()`\n",
    "\n",
    "    Cette fonction permet d'éteindre le buzzer.\n",
    "    \n",
    "- `setBuzzerNote(buzzer, frequency)`\n",
    "\n",
    "    Pour le buzzer entré en paramètre, cette fonction permet de produire un son à une fréquence donnée.\n",
    "    \n",
    "    La fréquence est exprimée en Hertz.\n",
    "    \n",
    "    Exemple : \n",
    "```python    \n",
    "setBuzzerNote(\"buzzer1\", 264)\n",
    "```\n",
    "    permet de jouer la note DO.\n"
   ]
  },
  {
   "cell_type": "markdown",
   "metadata": {},
   "source": [
    "<a id =\"led\"></a>\n",
    "\n",
    "## LEDs ou diodes électroluminescentes :\n",
    "\n",
    "Une LED est un composant qui émet de la lumière quand il est parcouru par un courant électrique.\n",
    "\n",
    "Une LED possède deux états :\n",
    "\n",
    "- ON : le courant traverse la LED, elle est allumée :\n",
    "![ledon-red.png](images/ledon-red.png)\n",
    "\n",
    "- OFF : il n'y a pas de courant, la LED est éteinte :\n",
    "![ledoff.png](images/ledoff.png)\n",
    "\n",
    "Une LED ne laisse passer le courant électrique que dans un seul sens.\n",
    "\n",
    "On trouve des LEDs qui émettent de la lumière rouge ou de la lumière verte, ou d'autres couleurs encore.\n",
    "\n",
    "**Fonctions disponibles** :\n",
    "\n",
    "- Les fonctions `turnLedOn()` et `turnLedOff()` permettent respectivement d'allumer et d'éteindre une LED.\n",
    "\n",
    "    Elles ne peuvent servir que lorsqu'il n'y a qu'une seule LED utilisée.\n",
    "\n",
    "\n",
    "- `setLedState(led,state)` :\n",
    "\n",
    "    Cette fonction permet d'allumer ou éteindre une LED.\n",
    "    \n",
    "    Elle prend en paramètre le nom de la LED et l'état à considérer, True pour l'allumer, False pour l'éteindre.\n",
    "    \n",
    "    Exemple :\n",
    "```python    \n",
    "setLedState(\"led1\",True)\n",
    "```\n",
    "\n",
    "- `toggleLedState(led)` :\n",
    "\n",
    "    Cette fonction permet d'inverser l'état de la LED entrée en paramètre sous forme de chaine de caractères.\n",
    "    \n",
    "    Exemple :\n",
    "```python    \n",
    "toggleLedState(\"led1\")\n",
    "```\n",
    "\n"
   ]
  },
  {
   "cell_type": "markdown",
   "metadata": {},
   "source": [
    "<a id =\"bouton\"></a>\n",
    "\n",
    "## Bouton poussoir\n",
    "\n",
    "Un bouton poussoir est un élément qui possède deux états, relevé et enfoncé.\n",
    "- ON : le bouton est enfoncé :\n",
    "![buttonon.png](images/buttonon.png)\n",
    "- OFF : le bouton est relevé :\t\n",
    "![buttonoff.png](images/buttonoff.png)\n",
    "\t\n",
    "**Fonctions disponibles :**\n",
    "\n",
    "- `isButtonPressed()`\n",
    "\n",
    "    Cette fonction renvoie `True` si le bouton est enfoncé, et `False` s'il est relevé.\n",
    "\n",
    "    Cette fonction est utilisée seulement lorsqu'il n'y a qu'un seul bouton pressoir sur le montage.\n",
    "    \n",
    "<br>   \n",
    "\n",
    "- `isButtonPressed(button)`\n",
    "\n",
    "    Pour le bouton entré en paramètre sous forme de chaine de caractères, cette fonction renvoie `True` si le bouton est enfoncé, et `False` s'il est relevé.\n",
    "    \n",
    "    Exemple : \n",
    "```python    \n",
    "isButtonPressed(\"button1\")\n",
    "```\t"
   ]
  },
  {
   "cell_type": "markdown",
   "metadata": {},
   "source": [
    "<a id =\"ecran\"></a>\n",
    "\n",
    "## Écran :\n",
    "\n",
    "![screen.png](images/screen.png)\n",
    "\n",
    "L'écran de ce module est un petit écran qui permet d'afficher deux lignes de 16 caractères.\n",
    "\n",
    "**Fonctions disponibles**\n",
    "\n",
    "- `displayText(screen, line1, line2)`\n",
    "    Cette fonction permet d'afficher deux lignes de texte sur un écran.\n",
    "    \n",
    "    Elle prend en paramètre l'écran à considérer, ainsi qu'une ou deux lignes à afficher, sous forme de chaines de caractères.\n",
    "\n",
    "    Exemple : avec le code \n",
    "```python    \n",
    "displayText(\"screen1\", \"Hello\", \"World !\")\n",
    "```\n",
    "    on affiche Hello sur la première ligne, et World ! sur la deuxième ligne de l'écran screen1.\n",
    "    "
   ]
  },
  {
   "cell_type": "markdown",
   "metadata": {},
   "source": [
    "<a id =\"manette\"></a>\n",
    "\n",
    "\n",
    "## Manette :\n",
    "\n",
    "\n",
    "![stick.png](images/stick.png)\n",
    "\n",
    "Une manette (stick en anglais) est un ensemble de 5 boutons, chacun correspondant à une direction : haut, droite, bas, gauche ou bien centre.\n",
    "\n",
    "Il s'agit d'un seul composant, mais qui se programme comme 5 boutons différents :\n",
    "\n",
    "- \"stick1.up\" pour la direction haut de la manette \"stick1\"\n",
    "- \"stick1.right\" pour la direction droite\n",
    "- \"stick1.down\" pour la direction bas\n",
    "- \"stick1.left\" pour la direction gauche\n",
    "- \"stick1.center\" pour la direction centre\n",
    "\n",
    "Par exemple pour tester si la direction haut est enfoncée, on utilise :\n",
    "```python \n",
    "buttonState(\"stick1.up\")\n",
    "```\n"
   ]
  },
  {
   "cell_type": "markdown",
   "metadata": {},
   "source": [
    "<a id =\"distance\"></a>\t\n",
    "\n",
    "## Capteur de distance :\n",
    "\n",
    "![range.png](images/range.png)\n",
    "\n",
    "Ce capteur permet de mesurer la distance sans contact grâce à un capteur à ultrasons ou à laser. Il a une portée de 3 centimètres à 5 mètres.\n",
    "\n",
    "**Fonctions disponibles :**\n",
    "- `readDistance(range)`\n",
    "\n",
    "    Cette fonction renvoie la distance captée par le capteur de distance entré en paramètre.\n",
    "    Cette distance est exprimée en centimètres.\n",
    "\n",
    "    Exemple : \n",
    "```python\n",
    "readDistance(\"range1\")\n",
    "```\n"
   ]
  },
  {
   "cell_type": "markdown",
   "metadata": {},
   "source": [
    "<a id =\"servo\"></a>\n",
    "\n",
    "## Servomoteur :\n",
    "\n",
    "![servo-full.png](images/servo-full.png)\n",
    "\n",
    "Le Servomoteur est un petit moteur qui peut tourner précisément jusqu'à un angle donné, entre 0 et 180 degrés. On peut l'utiliser pour contrôler la direction des roues d'un petit véhicule, ou pour ouvrir ou fermer une barrière, etc.\n",
    "\n",
    "**Fonctions disponibles :**\n",
    "\n",
    "- `setServoAngle(servo, angle)`\n",
    "\n",
    "    Cette fonction permet de modifier l'angle du servomoteur choisi. L'angle est exprimés en degrés, entre 0 et 180 degrés.\n",
    "\n",
    "    Exemple :\n",
    "```python\n",
    "setServoAngle(\"servo1\", 90)`\n",
    "```\n",
    "\n",
    "\n",
    "- `getServoAngle(servo)`\n",
    "\n",
    "    Ce bloc permet de relire l'angle auquel on a réglé le servomoteur choisi. Ce n'est pas un capteur, mais simplement une mémorisation de la dernière valeur modifiée par une instruction.\n",
    "\n",
    "    On peut par exemple l'utiliser pour augmenter l'angle de 1 degré.\n",
    "\n",
    "    Exemple :\n",
    "```python\n",
    "setServoAngle(\"servo1\", getServoAngle(\"servo1\") + 1)\n",
    "```\n"
   ]
  },
  {
   "cell_type": "markdown",
   "metadata": {},
   "source": [
    "## Crédits \n",
    "\n",
    "<a rel=\"license\" href=\"http://creativecommons.org/licenses/by-sa/4.0/\"><img alt=\"Licence Creative Commons\" style=\"border-width:0\" src=\"https://i.creativecommons.org/l/by-sa/4.0/88x31.png\" /></a><br />Ce document, basé sur du contenu de [France-IOI](http://www.france-ioi.org/), est mis à disposition selon les termes de la <a rel=\"license\" href=\"http://creativecommons.org/licenses/by-sa/4.0/\">Licence Creative Commons Attribution -  Partage dans les Mêmes Conditions 4.0 International</a>.\n",
    "\n",
    "Auteur du document original : __Eric Madec__ de l'académie de Rennes."
   ]
  }
 ],
 "metadata": {
  "kernelspec": {
   "display_name": "Python 3",
   "language": "python",
   "name": "python3"
  },
  "language_info": {
   "codemirror_mode": {
    "name": "ipython",
    "version": 3
   },
   "file_extension": ".py",
   "mimetype": "text/x-python",
   "name": "python",
   "nbconvert_exporter": "python",
   "pygments_lexer": "ipython3",
   "version": "3.8.2"
  },
  "toc": {
   "base_numbering": 1,
   "nav_menu": {},
   "number_sections": true,
   "sideBar": true,
   "skip_h1_title": false,
   "title_cell": "Table of Contents",
   "title_sidebar": "Contents",
   "toc_cell": false,
   "toc_position": {},
   "toc_section_display": true,
   "toc_window_display": false
  },
  "varInspector": {
   "cols": {
    "lenName": 16,
    "lenType": 16,
    "lenVar": 40
   },
   "kernels_config": {
    "python": {
     "delete_cmd_postfix": "",
     "delete_cmd_prefix": "del ",
     "library": "var_list.py",
     "varRefreshCmd": "print(var_dic_list())"
    },
    "r": {
     "delete_cmd_postfix": ") ",
     "delete_cmd_prefix": "rm(",
     "library": "var_list.r",
     "varRefreshCmd": "cat(var_dic_list()) "
    }
   },
   "types_to_exclude": [
    "module",
    "function",
    "builtin_function_or_method",
    "instance",
    "_Feature"
   ],
   "window_display": false
  }
 },
 "nbformat": 4,
 "nbformat_minor": 4
}
