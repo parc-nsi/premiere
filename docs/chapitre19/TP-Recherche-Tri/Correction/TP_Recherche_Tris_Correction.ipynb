{
 "cells": [
  {
   "cell_type": "markdown",
   "metadata": {},
   "source": [
    "# Import des modules et outils"
   ]
  },
  {
   "cell_type": "code",
   "execution_count": 4,
   "metadata": {},
   "outputs": [],
   "source": [
    "import csv \n",
    "\n",
    "\n",
    "def lecture_csv(fichier, delimiteur):\n",
    "    \"\"\"\n",
    "    Paramètre : un chemin vers un fichier CSV\n",
    "    Valeur renvoyée : un tableau de dictionnaires, extraction de la table contenue dans le fichier\n",
    "    \"\"\"\n",
    "    f = open(fichier, mode = 'r', encoding = 'utf8', newline='')\n",
    "    reader = csv.DictReader(f, delimiter = delimiteur)  #création de l'objet reader\n",
    "    table = [dict(enregistrement) for enregistrement in reader]\n",
    "    f.close()\n",
    "    return table\n",
    "\n",
    "def ecriture_csv(table, fichier, delimiteur):\n",
    "    \"\"\"\n",
    "    Paramètre : \n",
    "        un chemin vers un fichier CSV\n",
    "        une table comme tableau de dictionnaires partageant les mêmes clefs, de valeurs str\n",
    "    Valeur renvoyée :\n",
    "        None, écrit table dans fichier avec Dictriter du  module CSV \n",
    "    \"\"\"\n",
    "    g = open(fichier, mode = 'w', encoding = 'utf8', newline='')\n",
    "    attributs = list(table[0].keys())\n",
    "    writer = csv.DictWriter(g, delimiter = delimiteur, fieldnames = attributs) #création de l'objet writer\n",
    "    writer.writeheader()   #écriture des attibuts\n",
    "    for enregistrement in table:\n",
    "        writer.writerow(enregistrement)  #écriture des enregistrements\n",
    "    g.close()"
   ]
  },
  {
   "cell_type": "markdown",
   "metadata": {},
   "source": [
    "# Exemple 1 : table clients"
   ]
  },
  {
   "cell_type": "markdown",
   "metadata": {},
   "source": [
    "## Importation de la table stockée dans clients.csv dans un tableau de dictionnaires"
   ]
  },
  {
   "cell_type": "code",
   "execution_count": 11,
   "metadata": {},
   "outputs": [],
   "source": [
    "table_clients = lecture_csv('clients.csv', ',')"
   ]
  },
  {
   "cell_type": "code",
   "execution_count": 3,
   "metadata": {},
   "outputs": [
    {
     "name": "stdout",
     "output_type": "stream",
     "text": [
      "tests d'importation réussis pour table_clients\n"
     ]
    }
   ],
   "source": [
    "# postconditions\n",
    "def test_import_table_clients(table):\n",
    "    assert len(table) == 50000\n",
    "    assert table[0] == {'nom': 'Gomes',\n",
    "                         'prénom': 'Brigitte',\n",
    "                         'email': 'bgomes@laposte.net',\n",
    "                         'département': '79',\n",
    "                         'naissance': '1960-08-21',\n",
    "                         'visites': '57',\n",
    "                         'dépenses': '2371.58'}\n",
    "    print(\"tests d'importation réussis pour table_clients\")\n",
    "    \n",
    "# décommenter pour tester\n",
    "test_import_table_clients(table_clients)"
   ]
  },
  {
   "cell_type": "markdown",
   "metadata": {},
   "source": [
    "## Recherches sur une seule ligne"
   ]
  },
  {
   "cell_type": "markdown",
   "metadata": {},
   "source": [
    "### Recherche 1 : recherche linéaire en fonction d'un attribut"
   ]
  },
  {
   "cell_type": "code",
   "execution_count": 16,
   "metadata": {},
   "outputs": [],
   "source": [
    "def recherche_attribut(table, attribut, valeur):\n",
    "    \"\"\"Paramètres : \n",
    "        table un tableau de dictionnaires table  de clients.csv\n",
    "        attribut de type str, valeur du type d'attribut dans table\n",
    "    Valeur renvoyée:\n",
    "        Un booléen indiquant si table contient un enregistrement e\n",
    "        tel que e[attribut] == valeur\"\"\"\n",
    "    for enregistrement in table:\n",
    "        if enregistrement[attribut] == valeur:\n",
    "            return True\n",
    "    return False"
   ]
  },
  {
   "cell_type": "code",
   "execution_count": 18,
   "metadata": {},
   "outputs": [
    {
     "name": "stdout",
     "output_type": "stream",
     "text": [
      "tests de recherche d'attributs réussis pour table_clients\n"
     ]
    }
   ],
   "source": [
    "def test_recherche_attribut_table_clients(table):\n",
    "    assert recherche_attribut(table, \"prénom\", \"Frédéric\") == True\n",
    "    assert recherche_attribut(table, \"prénom\", \"Nestor\") == False\n",
    "    assert recherche_attribut(table, \"naissance\", \"1975-02-28\") == False\n",
    "    assert recherche_attribut(table, \"naissance\", \"1975-05-13\") == True\n",
    "    print(\"tests de recherche d'attributs réussis pour table_clients\")\n",
    "    \n",
    "# décommenter pour tester\n",
    "test_recherche_attribut_table_clients(table_clients)"
   ]
  },
  {
   "cell_type": "markdown",
   "metadata": {},
   "source": [
    "### Recherche  2 : recherche linéaire d'une valeur en fonction d'une condition sur plusieurs attributs"
   ]
  },
  {
   "cell_type": "code",
   "execution_count": 4,
   "metadata": {},
   "outputs": [
    {
     "name": "stdout",
     "output_type": "stream",
     "text": [
      "tests de recherche de conjonction d'attributs réussis pour table_clients\n"
     ]
    }
   ],
   "source": [
    "def recherche_attributs_et(table, attribut1, valeur1, attribut2, valeur2):\n",
    "    \"\"\"Paramètres : \n",
    "        table un tableau de dictionnaires table  de clients.csv\n",
    "        attribut1 de type str, valeur1 du type d'attribut1\n",
    "        attribut2 de type str, valeur2 du type d'attribut2\n",
    "    Valeur renvoyée:\n",
    "        Un booléen indiquant si table contient un enregistrement e\n",
    "        tel que e[attribut1] == valeur1 et e[attribut2] == valeur2 \"\"\"\n",
    "    for enregistrement in table:\n",
    "        if enregistrement[attribut1] == valeur1 and enregistrement[attribut2] == valeur2:\n",
    "            return True\n",
    "    return False\n",
    "\n",
    "def test_recherche_attributs_et(table):\n",
    "    assert recherche_attributs_et(table, \"prénom\", \"Frédéric\", \"département\", \"69\") == True\n",
    "    print(\"tests de recherche de conjonction d'attributs réussis pour table_clients\")\n",
    "    \n",
    "# décommenter pour tester\n",
    "test_recherche_attributs_et(table_clients)"
   ]
  },
  {
   "cell_type": "code",
   "execution_count": 7,
   "metadata": {},
   "outputs": [
    {
     "name": "stdout",
     "output_type": "stream",
     "text": [
      "tests de recherche de condition sur attributs réussis pour table_clients\n"
     ]
    }
   ],
   "source": [
    "def recherche_attributs_condition(table, tab_attribut, tab_valeur, condition):\n",
    "    \"\"\"Paramètres :\n",
    "        table un tableau de dictionnaires table  de clients.csv\n",
    "        tab_attribut un tableau de noms d'attributs\n",
    "        tab_valeur un tableau de valeurs\n",
    "        condition une condition booléenne\n",
    "    Valeur renvoyée : un booléen : True si au moins un enregistrement \n",
    "    de table  vérifie condition(attribut, valeur) et False sinon\"\"\"\n",
    "    for enregistrement in table:\n",
    "        if condition(enregistrement, tab_attribut, tab_valeur):\n",
    "            return True\n",
    "    return False\n",
    "\n",
    "def condition_and(enregistrement, tab_attribut, tab_valeur):\n",
    "    \"\"\"Renvoie True si tous les attributs listés dans tab_attribut\n",
    "    ont la valeur correspondante dans tab_valeur et False sinon\"\"\"\n",
    "    assert len(tab_attribut) == len(tab_valeur)\n",
    "    for  k in range(len(tab_attribut)):\n",
    "        if enregistrement[tab_attribut[k]] != tab_valeur[k]:\n",
    "            return False\n",
    "    return True\n",
    "\n",
    "\n",
    "def condition_or(enregistrement, tab_attribut, tab_valeur):\n",
    "    \"\"\"Renvoie True si au moins un attribut listé dans tab_attribut\n",
    "    a la valeur correspondante dans tab_valeur et False sinon\"\"\"\n",
    "    assert len(tab_attribut) == len(tab_valeur)\n",
    "    for  k in range(len(tab_attribut)):\n",
    "        if enregistrement[tab_attribut[k]] == tab_valeur[k]:\n",
    "            return True\n",
    "    return False\n",
    "\n",
    "\n",
    "#postconditions\n",
    "def test_recherche_attributs_condition(table):\n",
    "    assert recherche_attributs_condition(table_clients, [\"prénom\", \"département\"], [\"Frédéric\", \"69\"], condition_and) == True\n",
    "    assert recherche_attributs_condition(table_clients, [\"prénom\", \"département\"], [\"Frédéric\", \"69\"], condition_or) == True\n",
    "    assert recherche_attributs_condition(table_clients, [\"prénom\", \"département\"], [\"Nestor\", \"96\"], condition_or) == False\n",
    "    print(\"tests de recherche de condition sur attributs réussis pour table_clients\")\n",
    "    \n",
    "test_recherche_attributs_condition(table_clients)"
   ]
  },
  {
   "cell_type": "markdown",
   "metadata": {},
   "source": [
    "## Agrégations (requêtes sur plusieurs lignes et calcul d'une valeur)"
   ]
  },
  {
   "cell_type": "markdown",
   "metadata": {},
   "source": [
    "### Comptage d'occurences"
   ]
  },
  {
   "cell_type": "code",
   "execution_count": 12,
   "metadata": {},
   "outputs": [
    {
     "name": "stdout",
     "output_type": "stream",
     "text": [
      "tests de recherche de nombre d'occurences réussis pour table_clients\n"
     ]
    }
   ],
   "source": [
    "def nombre_departement(table, departement):\n",
    "    \"\"\"Paramètres : \n",
    "        table un tableau de dictionnaires, table  de clients.csv\n",
    "        departement de type str, un numéro de département\n",
    "    Valeur renvoyée :\n",
    "        Nombre d'occurences de departement dans table\"\"\"\n",
    "    compteur = 0\n",
    "    for enregistrement in table:\n",
    "        if enregistrement[\"département\"] == departement:\n",
    "            compteur = compteur + 1\n",
    "    return compteur\n",
    "\n",
    "def nombre_occurences(table, attribut, valeur):\n",
    "    \"\"\"Paramètres : \n",
    "        table un tableau de dictionnaires, table  de clients.csv\n",
    "        attribut de type str, valeur du type d'attribut dans table\n",
    "    Valeur renvoyée :\n",
    "        Nombre d'occurences d'attribut avec valeur dans table\"\"\"\n",
    "    compteur = 0\n",
    "    for enregistrement in table:\n",
    "        if enregistrement[attribut] == valeur:\n",
    "            compteur = compteur + 1\n",
    "    return compteur\n",
    "\n",
    "def test_nombre_occurences(table):\n",
    "    assert nombre_occurences(table_clients, \"département\", \"69\") == 481\n",
    "    assert nombre_occurences(table_clients, \"prénom\", \"Frédéric\") == 235\n",
    "    print(\"tests de recherche de nombre d'occurences réussis pour table_clients\")\n",
    "    \n",
    "# postcondition\n",
    "assert nombre_departement(table_clients,  \"69\") == 481\n",
    "test_nombre_occurences(table_clients)"
   ]
  },
  {
   "cell_type": "markdown",
   "metadata": {},
   "source": [
    "### Somme et moyenne"
   ]
  },
  {
   "cell_type": "code",
   "execution_count": 8,
   "metadata": {},
   "outputs": [],
   "source": [
    "def moyenne_visites(table):\n",
    "    \"\"\"Paramètres : \n",
    "        table un tableau de dictionnaires, table  de clients.csv\n",
    "    Valeur renvoyée :\n",
    "        Moyenne des visites par enregistrement de type float\"\"\"\n",
    "    somme = 0\n",
    "    taille = 0\n",
    "    for enregistrement in table:\n",
    "        somme = int(enregistrement[\"visites\"]) + somme\n",
    "        taille = taille + 1\n",
    "    return somme / taille\n",
    "\n",
    "# postcondition\n",
    "assert moyenne_visites(table_clients) == 76.2807 "
   ]
  },
  {
   "cell_type": "markdown",
   "metadata": {},
   "source": [
    "### Recherche d'extremum"
   ]
  },
  {
   "cell_type": "code",
   "execution_count": 13,
   "metadata": {},
   "outputs": [],
   "source": [
    "def minimum_visites(table):\n",
    "    \"\"\"Paramètres : \n",
    "        table un tableau de dictionnaires, table  de clients.csv\n",
    "    Valeur renvoyée :\n",
    "        nombre minimum de visites de type int\"\"\"    \n",
    "    min_visites = int(table[0]['visites'])\n",
    "    for enregistrement in table[1:]:\n",
    "        nb_visites = int(enregistrement[\"visites\"])\n",
    "        if nb_visites < min_visites:\n",
    "            min_visites = nb_visites\n",
    "    return min_visites\n",
    "\n",
    "assert minimum_visites(table_clients)  == 2"
   ]
  },
  {
   "cell_type": "code",
   "execution_count": 14,
   "metadata": {},
   "outputs": [],
   "source": [
    "def departement_max_occurence(table):\n",
    "    \"\"\"\n",
    "    Paramètre : table sous forme de tableau de dictionnaires\n",
    "    Valeur renvoyée : tuple formé du nombre d'occurences maximal parmi les départements\n",
    "    et du tableau des  départements réalisant ce maximum\n",
    "    \"\"\"\n",
    "    histo = {table[0]['département'] : 1}\n",
    "    max_occurence = 1\n",
    "    tab_depart_max = []\n",
    "    for enregistrement in table[1:]:\n",
    "        depart = enregistrement['département']\n",
    "        if depart not in histo:\n",
    "            histo[depart] = 1\n",
    "        else:\n",
    "            histo[depart] = histo[depart] + 1\n",
    "        if histo[depart] > max_occurence:\n",
    "            max_occurence = histo[depart]\n",
    "            tab_depart_max = [depart]\n",
    "        elif histo[depart] == max_occurence:\n",
    "            tab_depart_max.append(depart)\n",
    "    return max_occurence, tab_depart_max\n",
    "\n",
    "assert departement_max_occurence(table_clients) == (547, ['59'])"
   ]
  },
  {
   "cell_type": "markdown",
   "metadata": {},
   "source": [
    "## Sélection de lignes"
   ]
  },
  {
   "cell_type": "code",
   "execution_count": 8,
   "metadata": {},
   "outputs": [],
   "source": [
    "def selection_departement(table, departement):\n",
    "    \"\"\"\n",
    "    Paramètres : \n",
    "        table une table sous forme de tableau de dictionnaires\n",
    "        department une chaine de caractères représentant un département\n",
    "    Valeur renvoyée :\n",
    "        tableau de dictionnaires contenant les enregistrement de table dont l'attribut \"département\"\n",
    "        a la valeur passée en paramètre\n",
    "    \"\"\"\n",
    "    return [enregistrement for enregistrement in table if enregistrement[\"département\"] == departement]\n",
    "\n",
    "def selection_depart_visites_min(table, departement, visites_min):\n",
    "    \"\"\"\n",
    "    Paramètres : \n",
    "        table une table sous forme de tableau de dictionnaires\n",
    "        department une chaine de caractères représentant un département\n",
    "        visites_min un entier naturel \n",
    "    Valeur renvoyée :\n",
    "        tableau de dictionnaires contenant les enregistrement de table dont l'attribut \"département\"\n",
    "        a la valeur passée en paramètre et l'attribut visites est >= visites_min\n",
    "    \"\"\"\n",
    "    return [enregistrement for enregistrement in table if enregistrement[\"département\"] == departement \n",
    "                                                           and int(enregistrement[\"visites\"]) >= visites_min]\n",
    "\n",
    "assert selection_departement(table_clients, \"69\")[0]['email'] == 'nnguyen@noos.fr' and len(selection_departement(table_clients, \"69\")) == 481\n",
    "assert len(selection_depart_visites_min(table_clients, \"69\", 100)) == 171"
   ]
  },
  {
   "cell_type": "markdown",
   "metadata": {},
   "source": [
    "## Projection sur des colonnes"
   ]
  },
  {
   "cell_type": "code",
   "execution_count": 9,
   "metadata": {},
   "outputs": [],
   "source": [
    "def projection_visites(table):\n",
    "    \"\"\"\n",
    "    Paramètres : \n",
    "        table une table sous forme de tableau de dictionnaires\n",
    "    Valeur renvoyée :\n",
    "        tableau des valeurs des attributs \"visites\" pour les enregistrements de table\n",
    "        avec conversion des nombres de visites en entiers\n",
    "    \"\"\"\n",
    "    return [ int(enregistrement[\"visites\"]) for enregistrement in table ]\n",
    "\n",
    "def selection_departement_projection_visites(table, departement):\n",
    "    \"\"\"\n",
    "    Paramètres : \n",
    "        table une table sous forme de tableau de dictionnaires\n",
    "    Valeur renvoyée :\n",
    "        tableau des valeurs des attributs \"visites\" pour les enregistrements de table du département\n",
    "        passé en paramètre avec conversion des nombres de visites en entiers\n",
    "    \"\"\"\n",
    "    return [ int(enregistrement[\"visites\"]) for enregistrement in table if enregistrement['département'] == departement]\n",
    "\n",
    "assert projection_visites(table_clients)[:10] == [57, 145, 67, 131, 76, 52, 65, 3, 101, 18]\n",
    "assert selection_departement_projection_visites(table_clients, \"69\")[:10] == [43, 52, 127, 53, 41, 117, 31, 86, 107, 145]"
   ]
  },
  {
   "cell_type": "code",
   "execution_count": 86,
   "metadata": {},
   "outputs": [],
   "source": [
    "def projection_departement_age(table, annee):\n",
    "    \"\"\"\n",
    "    Paramètres : \n",
    "        table une table sous forme de tableau de dictionnaires\n",
    "    Valeur renvoyée :\n",
    "        tableau de dictionnaires avec deux attributs le département et l'âge du client\n",
    "        calculé à partir de sa date de naissance.\n",
    "    \"\"\"\n",
    "    return [{'département' : enreg['département'], 'âge' : annee - int(enreg['naissance'][:4])} \n",
    "           for enreg in table]\n",
    "\n",
    "assert projection_departement_age(table_clients, 2021)[:3] == [{'département': '79', 'âge': 61}, {'département': '10', 'âge': 27},\n",
    " {'département': '73', 'âge': 20}]"
   ]
  },
  {
   "cell_type": "markdown",
   "metadata": {},
   "source": [
    "## Tris"
   ]
  },
  {
   "cell_type": "markdown",
   "metadata": {},
   "source": [
    "### Tris selon un attribut"
   ]
  },
  {
   "cell_type": "code",
   "execution_count": 87,
   "metadata": {},
   "outputs": [],
   "source": [
    "def clef_departement(enreg):\n",
    "    return enreg['département']\n",
    "\n",
    "def clef_visites(enreg):\n",
    "    return int(enreg['visites'])\n",
    "\n",
    "def clef_departement_visites(enreg):\n",
    "    return (enreg['département'], int(enreg['visites']))\n",
    "\n",
    "# tri par département dans l'ordre alphabétique croissant\n",
    "table_tri_departement = sorted(table_clients, key = clef_departement)\n",
    "\n",
    "assert table_tri_departement[:2] == [{'nom': 'Marie',\n",
    "  'prénom': 'Denise',\n",
    "  'email': 'dmarie@sfr.fr',\n",
    "  'département': '01',\n",
    "  'naissance': '1984-11-04',\n",
    "  'visites': '80',\n",
    "  'dépenses': '5881.15'},\n",
    " {'nom': 'Lebon',\n",
    "  'prénom': 'Luc',\n",
    "  'email': 'llebon@free.fr',\n",
    "  'département': '01',\n",
    "  'naissance': '1972-02-07',\n",
    "  'visites': '58',\n",
    "  'dépenses': '1610.89'}]\n",
    "\n",
    "# tri par visites dans l'ordre décroissant\n",
    "\n",
    "table_tri_visites_decroissant = sorted(table_clients, key = clef_visites, reverse = True)\n",
    "assert table_tri_visites_decroissant[:2]  == [{'nom': 'Ribeiro',\n",
    "  'prénom': 'Chantal',\n",
    "  'email': 'cribeiro@dbmail.com',\n",
    "  'département': '43',\n",
    "  'naissance': '1961-03-10',\n",
    "  'visites': '151',\n",
    "  'dépenses': '9556.76'},\n",
    " {'nom': 'Lebreton',\n",
    "  'prénom': 'Zoé',\n",
    "  'email': 'zlebreton@wanadoo.fr',\n",
    "  'département': '05',\n",
    "  'naissance': '1946-05-12',\n",
    "  'visites': '151',\n",
    "  'dépenses': '8118.48'}]\n",
    "\n",
    "# tri lexicographique par  département puis visites dans l'ordre croissant\n",
    "\n",
    "table_tri_dep_vis_croissant = sorted(table_clients, key = clef_departement_visites)\n",
    "assert table_tri_dep_vis_croissant[:2] == [{'nom': 'Jacquet',\n",
    "  'prénom': 'Benjamin',\n",
    "  'email': 'bjacquet@orange.fr',\n",
    "  'département': '01',\n",
    "  'naissance': '1985-07-05',\n",
    "  'visites': '2',\n",
    "  'dépenses': '257.71'},\n",
    " {'nom': 'Gros',\n",
    "  'prénom': 'Danielle',\n",
    "  'email': 'dgros@tele2.fr',\n",
    "  'département': '01',\n",
    "  'naissance': '1962-07-20',\n",
    "  'visites': '2',\n",
    "  'dépenses': '265.76'}]\n",
    "\n",
    "# comme le précédent mais en chainant les tris \n",
    "\n",
    "table_tri_dep_vis_croissant2 = sorted(sorted(table_clients, key = clef_visites), key = clef_departement)\n",
    "assert table_tri_dep_vis_croissant2 == table_tri_dep_vis_croissant\n",
    "\n",
    "\n",
    "# si l'ordre du tri diffère selon les attributs, on ne peut pas procéder par ordre lexicographique\n",
    "# il faut chainer les tris\n",
    "# par exemple par département croissant et nombre de visites décroissant\n",
    "table_tri_dep_crois_vis_decrois = sorted(sorted(table_clients, key = clef_visites, reverse = True), key = clef_departement)\n",
    "assert table_tri_dep_crois_vis_decrois[:2] == [{'nom': 'Dumont',\n",
    "  'prénom': 'Bertrand',\n",
    "  'email': 'bdumont1@sfr.fr',\n",
    "  'département': '01',\n",
    "  'naissance': '1957-07-15',\n",
    "  'visites': '151',\n",
    "  'dépenses': '8531.65'},\n",
    " {'nom': 'Legros',\n",
    "  'prénom': 'Emmanuelle',\n",
    "  'email': 'elegros@voila.fr',\n",
    "  'département': '01',\n",
    "  'naissance': '1998-04-18',\n",
    "  'visites': '151',\n",
    "  'dépenses': '899.3'}]\n"
   ]
  },
  {
   "cell_type": "markdown",
   "metadata": {},
   "source": [
    "### Application du tri : mise à jour d'une table triée par recherche dichotomique"
   ]
  },
  {
   "cell_type": "code",
   "execution_count": 9,
   "metadata": {},
   "outputs": [
    {
     "name": "stdout",
     "output_type": "stream",
     "text": [
      "Tests réussis\n"
     ]
    }
   ],
   "source": [
    "from copy import deepcopy #pour réaliser une copie de table\n",
    "\n",
    "def recherche_dicho_croissant(element, table, attribut):\n",
    "    \"\"\"Paramètres :\n",
    "         table un tableau de dictionnaires\n",
    "         attribut de type str\n",
    "         element une valeur possible pour l'attribut\n",
    "    Valeur renvoyée : index de la valeur element de attribut dans table\"\"\"\n",
    "    debut = 0\n",
    "    fin = len(table) - 1\n",
    "    while fin - debut >= 0:\n",
    "        milieu = (debut + fin) // 2\n",
    "        if table[milieu][attribut] < element:\n",
    "            debut = milieu + 1\n",
    "        elif table[milieu][attribut] > element:\n",
    "            fin = milieu - 1\n",
    "        else:\n",
    "            return milieu\n",
    "    return None\n",
    "\n",
    "def clef_email(enreg):\n",
    "    return enreg['email']\n",
    "\n",
    "def maj_depenses_table(table, transactions): \n",
    "    \"\"\"Paramètres : table et transactions deux  tables sous forme de tableaux de dictionnaires\n",
    "    Valeur renvoyée :\n",
    "        table_tri un tableau de dictionnaires mise à jour des attributs 'visites' et 'dépenses'\n",
    "        de table par les valeurs de transactions\"\"\"\n",
    "    table_tri = sorted(deepcopy(table), key = clef_email)\n",
    "    table_cible = []\n",
    "    for enreg in transactions:\n",
    "        index_email = recherche_dicho_croissant(enreg['email'], table_tri, 'email')\n",
    "        if index_email is not None:\n",
    "            table_tri[index_email]['visites'] = str(int(table_tri[index_email]['visites']) + 1)\n",
    "            table_tri[index_email]['dépenses'] = str(float(table_tri[index_email]['dépenses']) + float(enreg['dépenses']))\n",
    "    return table_tri\n",
    "                     \n",
    "def test_application_tri():                 \n",
    "    table_clients = lecture_csv('clients.csv', ',')\n",
    "    transactions = lecture_csv('transactions.csv', ',') \n",
    "    table_tri = maj_depenses_table(table_clients, transactions)\n",
    "    assert [enreg for enreg in table_clients if enreg['email'] == 'araynaud@tiscali.fr'] == [{'nom': 'Raynaud',\n",
    "    'prénom': 'Alfred',\n",
    "    'email': 'araynaud@tiscali.fr',\n",
    "    'département': '13',\n",
    "    'naissance': '1961-06-18',\n",
    "    'visites': '119',\n",
    "    'dépenses': '3876.63'}]\n",
    "    assert [enreg for enreg in table_tri if enreg['email'] == 'araynaud@tiscali.fr'] == [{'nom': 'Raynaud',\n",
    "    'prénom': 'Alfred',\n",
    "    'email': 'araynaud@tiscali.fr',\n",
    "    'département': '13',\n",
    "    'naissance': '1961-06-18',\n",
    "    'visites': '120',\n",
    "    'dépenses': '3979.36'}]\n",
    "    ecriture_csv(table_tri, 'clients_maj.csv', ',')\n",
    "    print(\"Tests réussis\")\n",
    "\n",
    "#Décommenter pour exécuter le test\n",
    "test_application_tri()"
   ]
  },
  {
   "cell_type": "markdown",
   "metadata": {},
   "source": [
    "# Exemple 2 : table 'countries'"
   ]
  },
  {
   "cell_type": "code",
   "execution_count": 11,
   "metadata": {},
   "outputs": [],
   "source": [
    "table_pays = lecture_csv('countries.csv', ';')"
   ]
  },
  {
   "cell_type": "code",
   "execution_count": 12,
   "metadata": {},
   "outputs": [],
   "source": [
    "assert table_pays[:2] == [{'iso': 'AD',\n",
    "  'name': 'Andorra',\n",
    "  'area': '468.0',\n",
    "  'population': '84000',\n",
    "  'continent': 'EU',\n",
    "  'currency_code': 'EUR',\n",
    "  'currency_name': 'Euro',\n",
    "  'capital': '6'},\n",
    " {'iso': 'AE',\n",
    "  'name': 'United Arab Emirates',\n",
    "  'area': '82880.0',\n",
    "  'population': '4975593',\n",
    "  'continent': 'AS',\n",
    "  'currency_code': 'AED',\n",
    "  'currency_name': 'Dirham',\n",
    "  'capital': '21'}]"
   ]
  },
  {
   "cell_type": "code",
   "execution_count": 35,
   "metadata": {},
   "outputs": [],
   "source": [
    "def nombre_europe(table):\n",
    "    \"\"\"Paramètre : table de countries.csv\n",
    "    Valeur renvoyée : compteur de type int représentant le nombre de pays du continent européen\n",
    "    \"\"\"\n",
    "    compteur = 0\n",
    "    for enregistrement in table:\n",
    "        if enregistrement['continent'] == 'EU':\n",
    "            compteur = compteur + 1\n",
    "    return compteur\n",
    "\n",
    "assert nombre_europe(table_pays) == 52"
   ]
  },
  {
   "cell_type": "code",
   "execution_count": 36,
   "metadata": {},
   "outputs": [],
   "source": [
    "def selection_europe(table):\n",
    "    \"\"\"Paramètre : table de countries.csv\n",
    "    Valeur renvoyée : table des enregistrements des pays du continent européen\n",
    "    \"\"\"\n",
    "    return [enregistrement for enregistrement in table if enregistrement['continent'] == 'EU']\n",
    "\n",
    "europe = selection_europe(table_pays)\n",
    "assert len(europe) == 52 and europe[0]['name'] == 'Andorra'"
   ]
  },
  {
   "cell_type": "code",
   "execution_count": 122,
   "metadata": {},
   "outputs": [],
   "source": [
    "def selection_europe_non_euro(table):\n",
    "    \"\"\"Paramètre : table de countries.csv\n",
    "    Valeur renvoyée : table des enregistrements des pays du continent européen qui n'ont pas pour monnaie l'euro\n",
    "    \"\"\"\n",
    "    return [enregistrement for enregistrement in table if enregistrement['continent'] == 'EU' \n",
    "                and enregistrement['currency_code'] != 'EUR']\n",
    "\n",
    "europe_non_euro = selection_europe_non_euro(table_pays)\n",
    "assert len(europe_non_euro) == 27 and europe_non_euro[0]['name'] == 'Albania'"
   ]
  },
  {
   "cell_type": "code",
   "execution_count": 37,
   "metadata": {},
   "outputs": [],
   "source": [
    "def projection_aire(table):\n",
    "    \"\"\"Paramètre : table de countries.csv\n",
    "    Valeur renvoyée : tableau des aires (type float) de tous les enregistrements\"\"\"\n",
    "    return [float(enregistrement['area']) for  enregistrement in table ]\n",
    "\n",
    "assert  projection_aire(table_pays)[:5]  == [468.0, 82880.0, 647500.0, 443.0, 102.0]"
   ]
  },
  {
   "cell_type": "code",
   "execution_count": 42,
   "metadata": {},
   "outputs": [],
   "source": [
    "def projection_pays_densite(table):\n",
    "    \"\"\"Paramètre : table de countries.csv\n",
    "    Valeur renvoyée : nouvelle table avec deux attributs 'pays' et 'densité' de population\"\"\"\n",
    "    return [ {'pays' : enreg['name'], 'densité' : float(enreg['population']) / float(enreg['area'])}\n",
    "            for enreg in table]\n",
    "    \n",
    "assert projection_pays_densite(table_pays)[:3] == [{'pays': 'Andorra', 'densité': 179.48717948717947},\n",
    " {'pays': 'United Arab Emirates', 'densité': 60.033699324324324},\n",
    " {'pays': 'Afghanistan', 'densité': 44.974959073359074}]"
   ]
  },
  {
   "cell_type": "code",
   "execution_count": 47,
   "metadata": {},
   "outputs": [],
   "source": [
    "def maximum_densite(table):\n",
    "    \"\"\"Paramètre : table de countries.csv\n",
    "    Valeur renvoyée : tuple avec le nom du pays de densité maximale de population\n",
    "    et cette densité maximale\"\"\"\n",
    "    table_densite = projection_pays_densite(table)\n",
    "    pays_max = table_densite[0]['pays']\n",
    "    densite_max = table_densite[0]['densité']\n",
    "    for enreg in table_densite[1:]:\n",
    "        if enreg['densité'] > densite_max:\n",
    "            densite_max = enreg['densité'] \n",
    "            pays_max = enreg['pays']\n",
    "    return (pays_max, densite_max)\n",
    "\n",
    "assert maximum_densite(table_pays) == ('Monaco', 16905.128205128207)"
   ]
  },
  {
   "cell_type": "code",
   "execution_count": 51,
   "metadata": {},
   "outputs": [],
   "source": [
    "def population_par_continent(table):\n",
    "    \"\"\"Paramètre : table de countries.csv\n",
    "    Valeur renvoyée : dictionnaire de clefs les identifiants des continents\n",
    "    et de valeurs les populations cumulées des pays leur appartenant\"\"\"\n",
    "    pop_continent = dict()\n",
    "    for enregistrement in table:\n",
    "        continent = enregistrement['continent']\n",
    "        population = int(enregistrement['population'])\n",
    "        if continent not in pop_continent:\n",
    "            pop_continent[continent] = population\n",
    "        else:\n",
    "            pop_continent[continent] += population\n",
    "    return pop_continent\n",
    "\n",
    "assert population_par_continent(table_pays) == {'EU': 740017414,\n",
    " 'AS': 4119426856,\n",
    " 'NA': 539886359,\n",
    " 'AF': 1018849428,\n",
    " 'SA': 400143568,\n",
    " 'OC': 36066083}"
   ]
  },
  {
   "cell_type": "code",
   "execution_count": 130,
   "metadata": {},
   "outputs": [],
   "source": [
    "## top 20 des pays les plus densément peuplés\n",
    "\n",
    "def densite_max_top5(table):    \n",
    "    \"\"\"Paramètre : table de countries.csv\n",
    "    Valeur renvoyée : table avec les noms et les densités des 5 pays les plus \n",
    "    densément peuplées dans l'ordre décroissant des densités de population\"\"\"\n",
    "    \n",
    "    def clef_densite(enreg):\n",
    "        return float(enreg['densité'])\n",
    "\n",
    "    table_densite = projection_pays_densite(table_pays)\n",
    "    table_densite_tri_decroissant = sorted(table_densite, key = clef_densite, reverse = True)\n",
    "    return table_densite_tri_decroissant[:5]\n",
    "    \n",
    "assert densite_max_top5(table_pays) == [{'pays': 'Monaco', 'densité': 16905.128205128207},\n",
    " {'pays': 'Singapore', 'densité': 6786.5872672152445},\n",
    " {'pays': 'Hong Kong', 'densité': 6317.478021978022},\n",
    " {'pays': 'Gibraltar', 'densité': 4289.846153846154},\n",
    " {'pays': 'Vatican', 'densité': 2093.181818181818}]"
   ]
  }
 ],
 "metadata": {
  "kernelspec": {
   "display_name": "Python 3",
   "language": "python",
   "name": "python3"
  },
  "language_info": {
   "codemirror_mode": {
    "name": "ipython",
    "version": 3
   },
   "file_extension": ".py",
   "mimetype": "text/x-python",
   "name": "python",
   "nbconvert_exporter": "python",
   "pygments_lexer": "ipython3",
   "version": "3.8.5"
  }
 },
 "nbformat": 4,
 "nbformat_minor": 4
}
