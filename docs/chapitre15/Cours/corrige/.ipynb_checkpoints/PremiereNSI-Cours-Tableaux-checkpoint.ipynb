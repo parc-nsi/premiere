{
 "cells": [
  {
   "cell_type": "code",
   "execution_count": 4,
   "metadata": {},
   "outputs": [],
   "source": [
    "from metakernel import register_ipython_magics\n",
    "register_ipython_magics()"
   ]
  },
  {
   "cell_type": "markdown",
   "metadata": {},
   "source": [
    "# Définition d’un tableau\n",
    "\n",
    "**Définition 1**\n",
    "\n",
    "  - Un objet est un **conteneur** s’il peut conteneur plusieurs objets.\n",
    "  - Un **conteneur** est une **séquence** s’il contient une **collection\n",
    "    ordonnée** d’objets qui sont accessibles par leur **index** dans la\n",
    "    séquence.\n",
    "  - Un **tableau** est un type de données qui est un **conteneur** et\n",
    "    une **séquence**. Il permet de stocker plusieurs éléments dans une\n",
    "    seule variable et d’y accéder par leur **index**.\n",
    "\n",
    "# Tableaux en Python\n",
    "\n",
    "**Point de cours 1**\n",
    "\n",
    "  - En [Python](https://docs.python.org/3/tutorial/datastructures.html),\n",
    "    les tableaux sont implémentés dans le type `list` et on les nomme\n",
    "    souvent listes même si les listes représentent une autre structure\n",
    "    de données :\n",
    "  - Un tableau\n",
    "    [Python](https://docs.python.org/3/tutorial/datastructures.html) est\n",
    "    une expression délimitée par des crochets et les éléments dans\n",
    "    l’ordre croissant des index de gauche à droite sont séparées par\n",
    "    le symbole virgule `,` :\n",
    "\n",
    "<!-- end list -->\n",
    "\n",
    "``` python\n",
    "  >>> t = [4, 20, 10] # on affecte le tableau [4, 20, 10] à t\n",
    "  >>> len(t)\n",
    "  3\n",
    "  >>> t[0]\n",
    "  4\n",
    "  >>> t[len(t)-1]\n",
    "  10\n",
    "  >>> t[3]\n",
    "  Traceback (most recent call last):\n",
    "    File \"<stdin>\", line 1, in <module>\n",
    "  IndexError: list index out of range   \n",
    "  >>> t[0] = 6\n",
    "  >>> t\n",
    "  [6, 20, 10]\n",
    "```\n",
    "\n",
    "  - La séquence de valeurs contenue dans un tableau est indexée à partir\n",
    "    de 0.\n",
    "  - Le nombre d’éléments d’un tableau affecté à une variable `t` est\n",
    "    donné par `len(t)`\n",
    "  - On accède à l’élément d’index `k` avec la syntaxe `t[k]`.\n",
    "  - On peut manipuler l’élément d’index `k` comme une variable et\n",
    "    modifier sa valeur par une affectation avec la syntaxe `t[k] =\n",
    "    valeur`.\n",
    "  - On peut considérer que l’accès et la modification d’un élément à\n",
    "    partir de son index se fait en **temps constant**, car les éléments\n",
    "    sont stockés de façon contigue en mémoire et l’index donne le nombre\n",
    "    de décalages depuis le premier élément.\n",
    "  - Un tableau est **itérable**, c’est-à-dire qu’on peut parcourir ses\n",
    "    éléments avec une boucle `for`:  \n",
    "\n",
    "<!-- end list -->\n",
    "\n",
    "``` python\n",
    ">>> for e in t:\n",
    "...     print(e)\n",
    "... \n",
    "4\n",
    "20\n",
    "10\n",
    "```\n",
    "\n",
    "  - En [Python](https://docs.python.org/3/tutorial/datastructures.html),\n",
    "    les tableaux peuvent contenir des éléments de types hétérogènes mais\n",
    "    nous manipulerons principalement des tableaux homogènes (types `int,\n",
    "    float, string`, `bool`).\n",
    "  - En [Python](https://docs.python.org/3/tutorial/datastructures.html),\n",
    "    les tableaux sont **dynamiques**, leur taille peut varier.\n"
   ]
  },
  {
   "cell_type": "markdown",
   "metadata": {},
   "source": [
    "# Construction d’un tableau\n",
    "\n",
    "**Méthode 1**\n",
    "\n",
    "Il existe plusieurs façons de définir un tableau en\n",
    "[Python](https://docs.python.org/3/tutorial/datastructures.html).\n",
    "\n",
    "  - On peut le définir en **extension** en énumérant toute la séquence :\n",
    "\n",
    "<!-- end list -->\n",
    "\n",
    "``` python\n",
    ">>> t1 = [8, 10, 11,14]\n",
    ">>> t2 = [False, True, False]\n",
    "```\n",
    "\n",
    "  - On peut convertir en tableau un autre objet itérable (qui peut se\n",
    "    parcourir avec une boucle `for`) avec le constructeur `list`.\n",
    "\n",
    "<!-- end list -->\n",
    "\n",
    "``` python\n",
    ">>> t11 = list(range(5))\n",
    ">>> t11\n",
    "[0, 1, 2, 3, 4]\n",
    ">>> t12 = list('alphabet')\n",
    ">>> t12\n",
    "['a', 'l', 'p', 'h', 'a', 'b', 'e', 't']\n",
    ">>> list(4)\n",
    "Traceback (most recent call last):\n",
    "  File \"<stdin>\", line 1, in <module>\n",
    "TypeError: 'int' object is not iterable\n",
    "```\n",
    "\n",
    "  - On peut le définir en **compréhension** en générant ses éléments par\n",
    "    une boucle `for` sur un itérable ( générateur d’entiers `range`,\n",
    "    autre tableau …) combinée éventuellement avec un filtrage par une\n",
    "    instruction conditionnelle :\n",
    "\n",
    "<!-- end list -->\n",
    "\n",
    "``` python\n",
    ">>> t3 = [k ** 2 for k in range(6)]  #carrés des entiers entre 0 et 5\n",
    ">>> t3\n",
    "[0, 1, 4, 9, 16, 25]\n",
    ">>> t4 = [k for k in range(len(t2)) if t2[k]]  # index des éléments de t2 de valeur True\n",
    ">>> t4\n",
    "[1]\n",
    "```\n",
    "\n",
    "  - Les tableaux\n",
    "    [Python](https://docs.python.org/3/tutorial/datastructures.html)\n",
    "    étant dynamiques on peut remplir un tableau vide par ajouts\n",
    "    successifs d’éléments à la fin avec la méthode `append` qui\n",
    "    s’utilise avec la syntaxe `tableau.append(element)`. Selon l’usage\n",
    "    il peut être plus simple de définir le tableau en compréhension.\n",
    "\n",
    "<!-- end list -->\n",
    "\n",
    "``` python\n",
    ">>> t5 = []\n",
    ">>> for k in range(3):\n",
    "...     t5 .append(k ** 2)\n",
    "... \n",
    ">>> t5\n",
    "[0, 1, 4]\n",
    "```"
   ]
  },
  {
   "cell_type": "code",
   "execution_count": 8,
   "metadata": {},
   "outputs": [
    {
     "data": {
      "text/html": [
       "\n",
       "        <iframe\n",
       "            width=\"100%\"\n",
       "            height=\"500\"\n",
       "            src=\"https://pythontutor.com/iframe-embed.html#code=%0At1%20%3D%20%5B8%2C%2010%2C%2011%2C14%5D%0At2%20%3D%20%5BFalse%2C%20True%2C%20False%5D%0At3%20%3D%20%5Bk%20%2A%2A%202%20for%20k%20in%20range%286%29%5D%20%0At4%20%3D%20%5Bk%20for%20k%20in%20range%28len%28t2%29%29%20if%20t2%5Bk%5D%5D%20%0At5%20%3D%20%5B%5D%0Afor%20k%20in%20range%283%29%3A%0A%20%20%20%20t5%20.append%28k%20%2A%2A%202%29%0A&origin=opt-frontend.js&cumulative=false&heapPrimitives=false&textReferences=false&py=3&rawInputLstJSON=%5B%5D&curInstr=0&codeDivWidth=350&codeDivHeight=400\"\n",
       "            frameborder=\"0\"\n",
       "            allowfullscreen\n",
       "        ></iframe>\n",
       "        "
      ],
      "text/plain": [
       "<IPython.lib.display.IFrame at 0x7f6da82c3940>"
      ]
     },
     "metadata": {},
     "output_type": "display_data"
    }
   ],
   "source": [
    "%%tutor\n",
    "\n",
    "t1 = [8, 10, 11,14]\n",
    "t2 = [False, True, False]\n",
    "t3 = [k ** 2 for k in range(6)] \n",
    "t4 = [k for k in range(len(t2)) if t2[k]] \n",
    "t5 = []\n",
    "for k in range(3):\n",
    "    t5 .append(k ** 2)"
   ]
  },
  {
   "cell_type": "markdown",
   "metadata": {},
   "source": [
    "# Aliasing"
   ]
  },
  {
   "cell_type": "markdown",
   "metadata": {},
   "source": [
    "## Aliasing et  copie de tableau "
   ]
  },
  {
   "cell_type": "code",
   "execution_count": 7,
   "metadata": {},
   "outputs": [
    {
     "data": {
      "text/html": [
       "\n",
       "        <iframe\n",
       "            width=\"100%\"\n",
       "            height=\"500\"\n",
       "            src=\"https://pythontutor.com/iframe-embed.html#code=a%20%3D%205%0Ab%20%3D%20a%0Ab%20%3D%206%0At1%20%3D%20%5B14%2C%2018%5D%0At2%20%3D%20t1%0At2%5B0%5D%20%3D%2039%0At1%5B1%5D%20%3D%2045%0A&origin=opt-frontend.js&cumulative=false&heapPrimitives=false&textReferences=false&py=3&rawInputLstJSON=%5B%5D&curInstr=0&codeDivWidth=350&codeDivHeight=400\"\n",
       "            frameborder=\"0\"\n",
       "            allowfullscreen\n",
       "        ></iframe>\n",
       "        "
      ],
      "text/plain": [
       "<IPython.lib.display.IFrame at 0x7f5ed83aea90>"
      ]
     },
     "metadata": {},
     "output_type": "display_data"
    }
   ],
   "source": [
    "%%tutor\n",
    "a = 5\n",
    "b = a\n",
    "b = 6\n",
    "t1 = [14, 18]\n",
    "t2 = t1\n",
    "t2[0] = 39\n",
    "t1[1] = 45"
   ]
  },
  {
   "cell_type": "code",
   "execution_count": 9,
   "metadata": {},
   "outputs": [
    {
     "data": {
      "text/html": [
       "\n",
       "        <iframe\n",
       "            width=\"100%\"\n",
       "            height=\"500\"\n",
       "            src=\"https://pythontutor.com/iframe-embed.html#code=t1%20%3D%20%5B14%2C%2018%5D%0At2%20%3D%20t1%5B%3A%5D%0A%0A%0A&origin=opt-frontend.js&cumulative=false&heapPrimitives=false&textReferences=false&py=3&rawInputLstJSON=%5B%5D&curInstr=0&codeDivWidth=350&codeDivHeight=400\"\n",
       "            frameborder=\"0\"\n",
       "            allowfullscreen\n",
       "        ></iframe>\n",
       "        "
      ],
      "text/plain": [
       "<IPython.lib.display.IFrame at 0x7f5ed83aeac0>"
      ]
     },
     "metadata": {},
     "output_type": "display_data"
    }
   ],
   "source": [
    "%%tutor\n",
    "t1 = [14, 18]\n",
    "t2 = t1[:]\n",
    "\n",
    "\n"
   ]
  },
  {
   "cell_type": "markdown",
   "metadata": {},
   "source": [
    "## Aliasing et passage de paramètres à une fonction"
   ]
  },
  {
   "cell_type": "code",
   "execution_count": null,
   "metadata": {},
   "outputs": [],
   "source": [
    "%%tutor\n",
    "\n",
    "def f(x):\n",
    "    x = x + 1\n",
    "    return x\n",
    "\n",
    "a = 5\n",
    "b = f(a)"
   ]
  }
 ],
 "metadata": {
  "kernelspec": {
   "display_name": "Python 3",
   "language": "python",
   "name": "python3"
  },
  "language_info": {
   "codemirror_mode": {
    "name": "ipython",
    "version": 3
   },
   "file_extension": ".py",
   "mimetype": "text/x-python",
   "name": "python",
   "nbconvert_exporter": "python",
   "pygments_lexer": "ipython3",
   "version": "3.8.2"
  }
 },
 "nbformat": 4,
 "nbformat_minor": 4
}
