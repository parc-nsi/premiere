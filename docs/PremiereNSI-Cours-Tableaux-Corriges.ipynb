{
 "cells": [
  {
   "cell_type": "code",
   "execution_count": 3,
   "metadata": {},
   "outputs": [],
   "source": [
    "from metakernel import register_ipython_magics\n",
    "register_ipython_magics()"
   ]
  },
  {
   "cell_type": "markdown",
   "metadata": {},
   "source": [
    "## Exercice 1\n",
    "\n",
    "1. Écrire une fonction `moyenne3notes(a, b, c)` qui renvoie la moyenne arithmétique d'une série de 3 notes `a, b, c`.\n",
    "\n",
    "__Réponse :__\n",
    "\n",
    "~~~python\n",
    "def moyenne3notes(a, b, c):\n",
    "    return (a + b + c) / 3\n",
    "~~~\n",
    "\n",
    "2. Proposer une fonction `moyenne(n)` qui prend en paramètres un nombre de notes et retourne la moyenne de ces notes saisies par l'utilisateur. \n",
    "\n",
    "__Réponse :__\n",
    "\n",
    "~~~python\n",
    "def moyenne(n):\n",
    "    somme = 0\n",
    "    for _ in range(n):\n",
    "        note = int(input(\"Note ?\"))\n",
    "        somme = somme + note\n",
    "    return somme / n\n",
    "~~~\n",
    "\n",
    "3. Quel(s) mécanisme(s) pourrai(en)t  nous permettre d'écrire une fonction qui calcule la moyenne d'une série de notes sans interaction avec l'utilisateur du programme ?\n",
    "\n",
    "\n",
    "__Réponse :__\n",
    "\n",
    "_On aimerait pouvoir stocker une séquence  de notes dans une variable._\n",
    "  \n"
   ]
  },
  {
   "cell_type": "code",
   "execution_count": 6,
   "metadata": {},
   "outputs": [],
   "source": [
    "def moyenne3notes(a, b, c):\n",
    "    return (a + b + c) / 3\n",
    "\n",
    "def moyenne(n):\n",
    "    somme = 0\n",
    "    for _ in range(n):\n",
    "        note = int(input(\"Note ?\"))\n",
    "        somme = somme + note\n",
    "    return somme / n"
   ]
  },
  {
   "cell_type": "markdown",
   "metadata": {},
   "source": [
    "## Exercice 2 \n",
    "\n",
    "1. Soit la liste  suivante : `liste_pays = [\"France\",\"Allemagne\",\"Italie\",\"Belgique\"]`.\n",
    "   \n",
    "Que renvoie : `liste_pays[2]` ?\n",
    "\n",
    "\n",
    "__Solution :__  \"Italie\"\n",
    "\n",
    "\n",
    "2. Quelle est la valeur référencée par le tableau L après exécution du programme ci-dessous ?\n",
    "\n",
    "  ~~~python\n",
    "  L = [731, 732, 734]\n",
    "  L[0], L[1] = L[1], L[0]\n",
    "  M = L\n",
    "  M[1] = 732\n",
    "  ~~~\n",
    "  __Réponse 1 :__ [732, 731, 734]     __Réponse 2 :__  [731, 732, 734]   __Réponse 3 :__  [732, 732, 734]\n",
    "  \n",
    "  \n",
    "  __Solution :__  `[732, 732, 734]`\n",
    "\n",
    "3. On définit :  `L = [10,9,8,7,6,5,4,3,2,1]`.\n",
    "  Quelle est la valeur de  `L[L[3]]` ?\n",
    "\n",
    "   * __Réponse 1 :__  3    __Réponse 2 :__   4 \n",
    "   * __Réponse 3 :__ 7   __Réponse 4 :__  8\n",
    "   \n",
    "     \n",
    "  __Solution :__  3\n",
    "  \n",
    "\n",
    "4. Écrire une fonction `recherche(tab, element)` qui prend en paramètre un tableau et un élément et qui retourne `True` si `element` est dans `tab` et `False` sinon.\n",
    "\n",
    "  __Solution :__\n",
    "  \n",
    "~~~python\n",
    "def recherche(tab, element):\n",
    "    for e in tab:\n",
    "        if e == element:\n",
    "            return True\n",
    "    return False\n",
    "~~~"
   ]
  },
  {
   "cell_type": "markdown",
   "metadata": {},
   "source": [
    "## Exercice 3\n",
    "\n",
    "1. _Auteur : Germain Becker, question n°326 Genumsi_.\n",
    "   \n",
    "    Quel est le tableau `t` construit par les instructions suivantes ?\n",
    "\n",
    "    ~~~python\n",
    "    tab = [1, 2, -3, 7, 4, 10, -1, 0]\n",
    "    t = [e for e in tab if e >= 0]\n",
    "    ~~~\n",
    "\n",
    "    * __Réponse 1 :__   `t = [1, 2, 7, 4, 10, 0]`\n",
    "    * __Réponse 2 :__    `t = [e, e, e, e, e, e]`\n",
    "    * __Réponse 3 :__   `t = [1, 2, 7, 4, 10]`\n",
    "    * __Réponse 4 :__    `t = [-3, -1, 0]`\n",
    "    \n",
    "    __Solution :__ `t = [1, 2, 7, 4, 10]`\n",
    "  \n",
    "2. Quel est le résultat de l'évaluation de l'expression Python suivante ? _Auteur : Eric Rougier_\n",
    "\n",
    "    `[2 ** n for n in range(4)]`\n",
    "\n",
    "    Réponses :\n",
    "\n",
    "    * __Réponse 1 :__  `[0, 2, 4, 6, 8]`\n",
    "    * __Réponse 2 :__ `[1, 2, 4, 8]`\n",
    "    * __Réponse 3 :__ `[0, 1, 4, 9]`\n",
    "    * __Réponse 4 :__ `[1, 2, 4, 8, 16]`\n",
    "    \n",
    "    __Solution :__ `[1, 2, 4, 8]`\n",
    "\n",
    "3. Qu'affiche le programme [Python][Python] ci-dessous ?\n",
    "  ~~~python\n",
    "  L=[0,1,2]\n",
    "  M=[3,4,5]\n",
    "  N=[L[i]+M[i] for i in range(len(L))]\n",
    "  print(N)\n",
    "  ~~~\n",
    "  \n",
    "  __Solution :__ `[3,5,7]`\n",
    "  \n",
    "\n",
    "4. On exécute le script suivant :\n",
    "\n",
    "    ~~~python\n",
    "    L = [12,0,8,7,3,1,5,3,8]\n",
    "\n",
    "    a = [elt for elt in L if elt < 4]\n",
    "    ~~~\n",
    "\n",
    "    Quelle est la valeur de `a` à la fin de son exécution ?\n",
    "\n",
    "    * __Réponse 1 :__ `[12,0,8]`   __Réponse 2 :__  `[12,0,8,7]`\n",
    "    * __Réponse 3 :__  `[0,3,1,3]`  __Réponse 4 :__  `[0,3,1]`\n",
    "    \n",
    "    \n",
    "   __Solution :__ `[0,3,1,3]`\n",
    "    "
   ]
  },
  {
   "cell_type": "markdown",
   "metadata": {},
   "source": [
    "## Exercice 4\n",
    "\n",
    "\n",
    "1. On exécute le script suivant :\n",
    "\n",
    "    ~~~python\n",
    "    a = [1, 2, 3]\n",
    "    b = [4, 5, 6]\n",
    "    c = a + b\n",
    "    ~~~\n",
    "\n",
    "    Que contient la variable `c` à la fin de cette exécution ?\n",
    "\n",
    "    Réponses :\n",
    "\n",
    "      * __Réponse 1 :__  `[5,7,9]`  __Réponse 2 :__  `[1,4,2,5,3,6]`\n",
    "\n",
    "      * __Réponse 3 :__  `[1,2,3,4,5,6]`   __Réponse 4 :__  `[1,2,3,5,7,9]`\n",
    "      \n",
    "      \n",
    "   __Solution :__ `[1,2,3,4,5,6]`\n",
    "\n",
    "2. Soit la fonction `mystere` ci-dessous. \n",
    "\t\n",
    "    Quelle est la valeur retournée par `mystere([831, 832, 833, 841, 842, 843])` ?\n",
    "      \n",
    "    ~~~python\n",
    "    def mystere(u):\n",
    "      v = []\n",
    "      n = len(u)\n",
    "      for k in range(n):\n",
    "        v = [u[k]]+v\n",
    "      return v\n",
    "    ~~~\n",
    "    \n",
    "    __Solution :__ `[843, 842, 841, 833, 832, 831]`\n"
   ]
  },
  {
   "cell_type": "markdown",
   "metadata": {},
   "source": [
    "## Exercice 5\n",
    "\n",
    "1. Écrire une fonction `occurences(v, t)`  qui renvoie le nombre d'occurences de la valeur `v`   dans le tableau `t`.\n"
   ]
  },
  {
   "cell_type": "code",
   "execution_count": 13,
   "metadata": {},
   "outputs": [],
   "source": [
    "def occurences(v, t):\n",
    "    \"\"\"Renvoie le nombre d'occurences de v\n",
    "    dans le tableau t\"\"\"\n",
    "    cpt = 0\n",
    "    for e in t:\n",
    "        if e == v:\n",
    "            cpt = cpt + 1\n",
    "    return cpt"
   ]
  },
  {
   "cell_type": "markdown",
   "metadata": {},
   "source": [
    "2. _Auteur : Nicolas Réveret, question n°379 Genumsi_\n",
    "\n",
    "    On a saisi le code suivant :\n",
    "\n",
    "~~~python\n",
    "liste = [0, 1, 2, 3]\n",
    "compteur = 0\n",
    "for i in range(len(liste)-1) :\n",
    "    for j in range(i,len(liste)) :\n",
    "        compteur += 1\n",
    "~~~\n",
    "\n",
    "Que contient la variable compteur à la fin de l’exécution de ce script ?\n",
    "\n",
    "__Solution :__  9\n",
    "\n"
   ]
  },
  {
   "cell_type": "code",
   "execution_count": 11,
   "metadata": {},
   "outputs": [
    {
     "data": {
      "text/html": [
       "\n",
       "        <iframe\n",
       "            width=\"100%\"\n",
       "            height=\"500\"\n",
       "            src=\"https://pythontutor.com/iframe-embed.html#code=liste%20%3D%20%5B0%2C%201%2C%202%2C%203%5D%0Acompteur%20%3D%200%0Afor%20i%20in%20range%28len%28liste%29-1%29%20%3A%0A%20%20%20%20for%20j%20in%20range%28i%2Clen%28liste%29%29%20%3A%0A%20%20%20%20%20%20%20%20compteur%20%2B%3D%201%0A&origin=opt-frontend.js&cumulative=false&heapPrimitives=false&textReferences=false&py=3&rawInputLstJSON=%5B%5D&curInstr=0&codeDivWidth=350&codeDivHeight=400\"\n",
       "            frameborder=\"0\"\n",
       "            allowfullscreen\n",
       "        ></iframe>\n",
       "        "
      ],
      "text/plain": [
       "<IPython.lib.display.IFrame at 0x7f29605122e0>"
      ]
     },
     "metadata": {},
     "output_type": "display_data"
    }
   ],
   "source": [
    "%%tutor\n",
    "liste = [0, 1, 2, 3]\n",
    "compteur = 0\n",
    "for i in range(len(liste)-1) :\n",
    "    for j in range(i,len(liste)) :\n",
    "        compteur += 1\n"
   ]
  },
  {
   "cell_type": "markdown",
   "metadata": {},
   "source": [
    "3. Revenons sur notre situation d'accroche.\n",
    "\n",
    "  * Écrire une fonction `somme(tab)` qui renvoie la somme des éléments d'un tableau de nombres `tab`. \n",
    "  * Écrire une fonction `moyenne_arithmetique(tab)` qui renvoie la moyenne arithmétique des éléments d'un tableau de nombres `tab`. \n"
   ]
  },
  {
   "cell_type": "markdown",
   "metadata": {},
   "source": [
    "4. En voulant programmer une fonction qui calcule la valeur minimale d'un tableau d'entiers, on a écrit :\n",
    "\n",
    "    ~~~python\n",
    "    def minimum(L):\n",
    "        mini = 0\n",
    "        for e in L:\n",
    "            if e < mini:\n",
    "                mini = e\n",
    "        return mini\n",
    "    ~~~\n",
    "\n",
    "    Cette fonction a été mal programmée. Pour quel tableau ne donnera-t-elle   pas le résultat attendu, c'est-à-dire son minimum ?\n",
    "\n",
    "    Réponses :\n",
    "\n",
    "    *  __Réponse 1 :__  `[-1,-8,12,2,23]`\n",
    "    * __Réponse 2:__   `[0,18,12,2,3]`\n",
    "    *  __Réponse 3:__   `[-1,-1,12,12,23]`\n",
    "    * __Réponse 4:__   `[1,8,12,2,23]`\n",
    "   \n",
    "__Solution :__  `[1,8,12,2,23]`"
   ]
  },
  {
   "cell_type": "markdown",
   "metadata": {},
   "source": [
    "5. Écrire une fonction `max_tab(tab)` qui renvoie le maximum d'un tableau de nombres passé en paramètre"
   ]
  },
  {
   "cell_type": "code",
   "execution_count": 15,
   "metadata": {},
   "outputs": [],
   "source": [
    "def max_tab(tab):\n",
    "    \"\"\"Renvoie le maximum d'un tableau passé en paramètre\"\"\"\n",
    "    if len(tab) == 0:\n",
    "        return None\n",
    "    else:\n",
    "        maxi = tab[0]\n",
    "        for k in range(1, len(tab)):\n",
    "            if t[k] > maxi:\n",
    "                maxi = tab[k]\n",
    "        return maxi    "
   ]
  },
  {
   "cell_type": "markdown",
   "metadata": {},
   "source": [
    "# Aliasing"
   ]
  },
  {
   "cell_type": "markdown",
   "metadata": {},
   "source": [
    "## Aliasing et  copie de tableau "
   ]
  },
  {
   "cell_type": "code",
   "execution_count": 8,
   "metadata": {},
   "outputs": [
    {
     "data": {
      "text/html": [
       "\n",
       "        <iframe\n",
       "            width=\"100%\"\n",
       "            height=\"500\"\n",
       "            src=\"https://pythontutor.com/iframe-embed.html#code=a%20%3D%205%0Ab%20%3D%20a%0Ab%20%3D%206%0At1%20%3D%20%5B14%2C%2018%5D%0At2%20%3D%20t1%0At2%5B0%5D%20%3D%2039%0At1%5B1%5D%20%3D%2045%0A&origin=opt-frontend.js&cumulative=false&heapPrimitives=false&textReferences=false&py=3&rawInputLstJSON=%5B%5D&curInstr=0&codeDivWidth=350&codeDivHeight=400\"\n",
       "            frameborder=\"0\"\n",
       "            allowfullscreen\n",
       "        ></iframe>\n",
       "        "
      ],
      "text/plain": [
       "<IPython.lib.display.IFrame at 0x7f29605123d0>"
      ]
     },
     "metadata": {},
     "output_type": "display_data"
    }
   ],
   "source": [
    "%%tutor\n",
    "a = 5\n",
    "b = a\n",
    "b = 6\n",
    "t1 = [14, 18]\n",
    "t2 = t1\n",
    "t2[0] = 39\n",
    "t1[1] = 45"
   ]
  },
  {
   "cell_type": "code",
   "execution_count": 9,
   "metadata": {},
   "outputs": [
    {
     "data": {
      "text/html": [
       "\n",
       "        <iframe\n",
       "            width=\"100%\"\n",
       "            height=\"500\"\n",
       "            src=\"https://pythontutor.com/iframe-embed.html#code=t1%20%3D%20%5B14%2C%2018%5D%0At2%20%3D%20t1%5B%3A%5D%0A%0A%0A&origin=opt-frontend.js&cumulative=false&heapPrimitives=false&textReferences=false&py=3&rawInputLstJSON=%5B%5D&curInstr=0&codeDivWidth=350&codeDivHeight=400\"\n",
       "            frameborder=\"0\"\n",
       "            allowfullscreen\n",
       "        ></iframe>\n",
       "        "
      ],
      "text/plain": [
       "<IPython.lib.display.IFrame at 0x7f5ed83aeac0>"
      ]
     },
     "metadata": {},
     "output_type": "display_data"
    }
   ],
   "source": [
    "%%tutor\n",
    "t1 = [14, 18]\n",
    "t2 = t1[:]\n",
    "\n",
    "\n"
   ]
  },
  {
   "cell_type": "markdown",
   "metadata": {},
   "source": [
    "## Exercice 6\n",
    "\n",
    "1. Écrire une fonction `copie(tab)` qui renvoie une copie superficielle du tableau `tab` sans utiliser de _slicing_.\n"
   ]
  },
  {
   "cell_type": "code",
   "execution_count": 16,
   "metadata": {},
   "outputs": [],
   "source": [
    "def copie(tab):\n",
    "    \"\"\"renvoie une copie superficielle du tableau tab sans utiliser de slicing\"\"\"\n",
    "    return [e for e in tab]"
   ]
  },
  {
   "cell_type": "markdown",
   "metadata": {},
   "source": [
    "2. _Auteur : Nicolas Revéret_\n",
    "\n",
    "On considère le code suivant :\n",
    "\n",
    "~~~python\n",
    "def f(tab):\n",
    "  for i in range(len(tab)//2):\n",
    "    tab[i],tab[-i-1] = tab[-i-1],tab[i]\n",
    "~~~\n",
    "\n",
    "Après les lignes suivantes :\n",
    "\n",
    "~~~python\n",
    "tab = [2,3,4,5,7,8]\n",
    "f(tab)\n",
    "~~~\n",
    "\n",
    "Quelle est la valeur de la variable `tab` ?\n",
    "\n",
    "Réponses :\n",
    "\n",
    "* __Réponse 1__ `[2,3,4,5,7,8]`  __Réponse 2__  `[5,7,8,2,3,4]`\n",
    "* __Réponse 3__  `[8,7,5,4,3,2]`   __Réponse 4__  `[4,3,2,8,7,5]`\n",
    "\n",
    "\n",
    "__Solution :__  `[8,7,5,4,3,2]`"
   ]
  },
  {
   "cell_type": "markdown",
   "metadata": {},
   "source": [
    "## Aliasing et passage de paramètres à une fonction"
   ]
  },
  {
   "cell_type": "code",
   "execution_count": 2,
   "metadata": {},
   "outputs": [
    {
     "data": {
      "text/html": [
       "\n",
       "        <iframe\n",
       "            width=\"100%\"\n",
       "            height=\"500\"\n",
       "            src=\"https://pythontutor.com/iframe-embed.html#code=%0Adef%20incremente%28x%29%3A%0A%20%20%20%20x%20%3D%20x%20%2B%201%0A%20%20%20%20return%20x%0A%0Adef%20incremente_tab%28tab%29%3A%0A%20%20%20%20for%20k%20in%20range%28len%28tab%29%29%3A%0A%20%20%20%20%20%20%20%20tab%5Bk%5D%20%3D%20tab%5Bk%5D%20%2B%201%0A%0Aa%20%3D%205%0At1%20%3D%20%5B5%2C%206%2C%207%5D%0Ab%20%3D%20incremente%28a%29%0Aincremente_tab%28t1%29%0A&origin=opt-frontend.js&cumulative=false&heapPrimitives=false&textReferences=false&py=3&rawInputLstJSON=%5B%5D&curInstr=0&codeDivWidth=350&codeDivHeight=400\"\n",
       "            frameborder=\"0\"\n",
       "            allowfullscreen\n",
       "        ></iframe>\n",
       "        "
      ],
      "text/plain": [
       "<IPython.lib.display.IFrame at 0x7f625c68f8b0>"
      ]
     },
     "metadata": {},
     "output_type": "display_data"
    }
   ],
   "source": [
    "%%tutor\n",
    "\n",
    "def incremente(x):\n",
    "    x = x + 1\n",
    "    return x\n",
    "\n",
    "def incremente_tab(tab):\n",
    "    for k in range(len(tab)):\n",
    "        tab[k] = tab[k] + 1\n",
    "\n",
    "a = 5\n",
    "t1 = [5, 6, 7]\n",
    "b = incremente(a)\n",
    "incremente_tab(t1)"
   ]
  },
  {
   "cell_type": "markdown",
   "metadata": {},
   "source": [
    "## Exercice 7\n",
    "\n",
    "1. On veut écrire une procédure `echange(tab, i, j)`  qui échange les éléments d'index `i` et `j` d'un tableau `tab`. On fournit le modèle ci-dessous :\n",
    "\n",
    "    ~~~python\n",
    "    def echange(tab, i, j):\n",
    "      assert 0 <= i < len(tab) and 0 <= j < len(tab), \"message d'erreur\"\n",
    "      # à compléter\n",
    "    ~~~\n",
    "\n",
    "    * Remplacer le message d'erreur de l'assertion par un message pertinent.\n",
    "    * Compléter la fonction.\n",
    "    \n",
    "__Solution :__\n",
    "\n",
    "~~~python\n",
    "def echange(tab, i, j):\n",
    "  assert 0 <= i < len(tab) and 0 <= j < len(tab), \"index hors des bornes\"\n",
    "  tab[i], tab[j] = tab[j], tab[i]\n",
    "~~~\n",
    "    \n",
    "    \n",
    "\n",
    "2. Écrire une procédure `permutation_circulaire(tab)` qui modifie la position des éléments du tableau `tab` par permutation circulaire de gauche à droite :  \n",
    "  ~~~python\n",
    "  >>> t = list(range(6))\n",
    "  >>> t\n",
    "  [0, 1, 2, 3, 4, 5]\n",
    "  >>> permutation_circulaire(t)\n",
    "  >>> t\n",
    "  [5, 0, 1, 2, 3, 4]\n",
    "  >>> permutation_circulaire(t)\n",
    "  >>> t\n",
    "  [4, 5, 0, 1, 2, 3]\n",
    "  ~~~"
   ]
  },
  {
   "cell_type": "code",
   "execution_count": 4,
   "metadata": {},
   "outputs": [],
   "source": [
    "def permutation_circulaire(tab):\n",
    "    dernier = tab[len(tab) - 1]\n",
    "    for k in range(len(tab) - 1, 0, -1):\n",
    "        tab[k] = tab[k-1]\n",
    "    tab[0] = dernier"
   ]
  },
  {
   "cell_type": "code",
   "execution_count": 5,
   "metadata": {},
   "outputs": [],
   "source": [
    "t = list(range(6))"
   ]
  },
  {
   "cell_type": "code",
   "execution_count": 6,
   "metadata": {},
   "outputs": [
    {
     "data": {
      "text/plain": [
       "[0, 1, 2, 3, 4, 5]"
      ]
     },
     "execution_count": 6,
     "metadata": {},
     "output_type": "execute_result"
    }
   ],
   "source": [
    "t"
   ]
  },
  {
   "cell_type": "code",
   "execution_count": 7,
   "metadata": {},
   "outputs": [],
   "source": [
    "permutation_circulaire(t)"
   ]
  },
  {
   "cell_type": "code",
   "execution_count": 8,
   "metadata": {},
   "outputs": [
    {
     "data": {
      "text/plain": [
       "[5, 0, 1, 2, 3, 4]"
      ]
     },
     "execution_count": 8,
     "metadata": {},
     "output_type": "execute_result"
    }
   ],
   "source": [
    "t"
   ]
  },
  {
   "cell_type": "markdown",
   "metadata": {},
   "source": [
    "## Exercice 8\n",
    "\n",
    "1. Écrire une fonction fonction `filtre_notes(tab)` qui extrait toutes les notes inférieures à 10 d'un tableau de notes entre 0 et 20 et les renvoie dans un autre tableau.\n"
   ]
  },
  {
   "cell_type": "code",
   "execution_count": 17,
   "metadata": {},
   "outputs": [],
   "source": [
    "def filtre_notes(tab):\n",
    "    \"\"\"Extrait toutes les notes inférieures à 10\n",
    "    d'un tableau de notes entre 0 et 20\n",
    "    et les renvoie dans un autre tableau\"\"\"\n",
    "    return [note for note in tab if note < 10]\n",
    "\n",
    "def filtre_notes2(tab):\n",
    "    \"\"\"Extrait toutes les notes inférieures à 10\n",
    "    d'un tableau de notes entre 0 et 20\n",
    "    et les renvoie dans un autre tableau\"\"\"\n",
    "    tab2 = []\n",
    "    for note in tab:\n",
    "        if note < 10:\n",
    "            tab2.append(note)\n",
    "    return tab2\n"
   ]
  },
  {
   "cell_type": "markdown",
   "metadata": {},
   "source": [
    "2. Écrire une fonction renvoyant le maximum d'un tableau passé en paramètre et le tableau des positions où ce maximum est atteint. \n",
    "\n"
   ]
  },
  {
   "cell_type": "code",
   "execution_count": 19,
   "metadata": {},
   "outputs": [],
   "source": [
    "def maximum_pos(tab):\n",
    "    \"\"\"Renvoie le maximum d'un tableau passé en paramètre \n",
    "    et le tableau des positions où ce maximum est atteint.\"\"\"\n",
    "    if len(tab) == 0:\n",
    "        return [None, []]\n",
    "    maxi = tab[0]\n",
    "    pos = [0]\n",
    "    for k in range(1, len(tab)):\n",
    "        if tab[k] > maxi:\n",
    "            maxi = tab[k]\n",
    "            pos = [k]\n",
    "        elif tab[k] == maxi:\n",
    "            pos.append(k)\n",
    "    return [maxi, pos]"
   ]
  },
  {
   "cell_type": "markdown",
   "metadata": {},
   "source": [
    "3. On définit en Python la fonction suivante :\n",
    "\n",
    "~~~python\n",
    "def f(L):\n",
    "    S = []\n",
    "    for i in range(len(L)-1):\n",
    "        S.append(L[i] + L[i+1])\n",
    "    return S\n",
    "~~~\n",
    "\n",
    "\n",
    "Quel est le tableau renvoyé par `f([1, 2, 3, 4, 5, 6])` ?\n",
    "\n",
    "\n",
    "* __Réponse 1__ `[3, 5, 7, 9, 11, 13]`\n",
    "* __Réponse 2__  `[1, 3, 5, 7, 9, 11]`\n",
    "* __Réponse 3__  `[3, 5, 7, 9, 11]`\n",
    "* __Réponse 4__  cet appel de fonction déclenche un message d'erreur\n",
    "\n",
    "\n",
    "__Solution :__ `[3, 5, 7, 9, 11]`\n"
   ]
  },
  {
   "cell_type": "code",
   "execution_count": 18,
   "metadata": {},
   "outputs": [
    {
     "name": "stdout",
     "output_type": "stream",
     "text": [
      "[3, 5, 7, 9, 11]\n"
     ]
    }
   ],
   "source": [
    "def f(L):\n",
    "    S = []\n",
    "    for i in range(len(L)-1):\n",
    "        S.append(L[i] + L[i+1])\n",
    "    return S\n",
    "\n",
    "print(f([1, 2, 3, 4, 5, 6]))"
   ]
  }
 ],
 "metadata": {
  "kernelspec": {
   "display_name": "Python 3",
   "language": "python",
   "name": "python3"
  },
  "language_info": {
   "codemirror_mode": {
    "name": "ipython",
    "version": 3
   },
   "file_extension": ".py",
   "mimetype": "text/x-python",
   "name": "python",
   "nbconvert_exporter": "python",
   "pygments_lexer": "ipython3",
   "version": "3.8.2"
  }
 },
 "nbformat": 4,
 "nbformat_minor": 4
}
