{
 "cells": [
  {
   "cell_type": "markdown",
   "metadata": {},
   "source": [
    "# Utiliser le mode interactif"
   ]
  },
  {
   "cell_type": "markdown",
   "metadata": {},
   "source": [
    "## Exercice 1"
   ]
  },
  {
   "cell_type": "code",
   "execution_count": 1,
   "metadata": {},
   "outputs": [
    {
     "data": {
      "text/plain": [
       "0.125"
      ]
     },
     "execution_count": 1,
     "metadata": {},
     "output_type": "execute_result"
    }
   ],
   "source": [
    "1 / 2 ** 3"
   ]
  },
  {
   "cell_type": "markdown",
   "metadata": {},
   "source": [
    "# Premiers programmes en  mode éditeur"
   ]
  },
  {
   "cell_type": "markdown",
   "metadata": {},
   "source": [
    "# Effets de bord et erreur"
   ]
  },
  {
   "cell_type": "markdown",
   "metadata": {},
   "source": [
    "# Utiliser une bibliothèque"
   ]
  },
  {
   "cell_type": "code",
   "execution_count": 2,
   "metadata": {},
   "outputs": [],
   "source": [
    "from turtle import *"
   ]
  },
  {
   "cell_type": "code",
   "execution_count": 4,
   "metadata": {},
   "outputs": [],
   "source": [
    "from ipyturtle import Turtle"
   ]
  },
  {
   "cell_type": "code",
   "execution_count": 5,
   "metadata": {},
   "outputs": [
    {
     "name": "stdout",
     "output_type": "stream",
     "text": [
      "Help on function circle in module turtle:\n",
      "\n",
      "circle(radius, extent=None, steps=None)\n",
      "    Draw a circle with given radius.\n",
      "    \n",
      "    Arguments:\n",
      "    radius -- a number\n",
      "    extent (optional) -- a number\n",
      "    steps (optional) -- an integer\n",
      "    \n",
      "    Draw a circle with given radius. The center is radius units left\n",
      "    of the turtle; extent - an angle - determines which part of the\n",
      "    circle is drawn. If extent is not given, draw the entire circle.\n",
      "    If extent is not a full circle, one endpoint of the arc is the\n",
      "    current pen position. Draw the arc in counterclockwise direction\n",
      "    if radius is positive, otherwise in clockwise direction. Finally\n",
      "    the direction of the turtle is changed by the amount of extent.\n",
      "    \n",
      "    As the circle is approximated by an inscribed regular polygon,\n",
      "    steps determines the number of steps to use. If not given,\n",
      "    it will be calculated automatically. Maybe used to draw regular\n",
      "    polygons.\n",
      "    \n",
      "    call: circle(radius)                  # full circle\n",
      "    --or: circle(radius, extent)          # arc\n",
      "    --or: circle(radius, extent, steps)\n",
      "    --or: circle(radius, steps=6)         # 6-sided polygon\n",
      "    \n",
      "    Example:\n",
      "    >>> circle(50)\n",
      "    >>> circle(120, 180)  # semicircle\n",
      "\n"
     ]
    }
   ],
   "source": [
    "help(circle)"
   ]
  },
  {
   "cell_type": "code",
   "execution_count": 13,
   "metadata": {},
   "outputs": [],
   "source": [
    "begin_fill()\n",
    "fillcolor(\"black\")\n",
    "forward(100)\n",
    "left(120)\n",
    "forward(100)\n",
    "left(120)\n",
    "forward(100)\n",
    "left(120)\n",
    "end_fill()\n",
    "fillcolor(\"white\")\n",
    "forward(50)\n",
    "begin_fill()\n",
    "left(60)\n",
    "forward(50)\n",
    "left(120)\n",
    "forward(50)\n",
    "left(120)\n",
    "forward(50)\n",
    "left(120)\n",
    "end_fill()"
   ]
  }
 ],
 "metadata": {
  "kernelspec": {
   "display_name": "Python 3",
   "language": "python",
   "name": "python3"
  },
  "language_info": {
   "codemirror_mode": {
    "name": "ipython",
    "version": 3
   },
   "file_extension": ".py",
   "mimetype": "text/x-python",
   "name": "python",
   "nbconvert_exporter": "python",
   "pygments_lexer": "ipython3",
   "version": "3.8.2"
  }
 },
 "nbformat": 4,
 "nbformat_minor": 4
}
