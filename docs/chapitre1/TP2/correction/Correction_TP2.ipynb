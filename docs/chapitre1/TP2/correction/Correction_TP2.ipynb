{
 "cells": [
  {
   "cell_type": "markdown",
   "metadata": {},
   "source": [
    "# Boucles bornées"
   ]
  },
  {
   "cell_type": "markdown",
   "metadata": {},
   "source": [
    "## Exercice 1"
   ]
  },
  {
   "cell_type": "markdown",
   "metadata": {},
   "source": [
    "(Q1) Faire afficher les entiers de 10 à 0 de manière décroissante."
   ]
  },
  {
   "cell_type": "code",
   "execution_count": 1,
   "metadata": {},
   "outputs": [
    {
     "name": "stdout",
     "output_type": "stream",
     "text": [
      "10\n",
      "9\n",
      "8\n",
      "7\n",
      "6\n",
      "5\n",
      "4\n",
      "3\n",
      "2\n",
      "1\n",
      "0\n"
     ]
    }
   ],
   "source": [
    "for k in range(10, -1, -1):\n",
    "    print(k)"
   ]
  },
  {
   "cell_type": "markdown",
   "metadata": {},
   "source": [
    "(Q2) Faire afficher les entiers pairs compris entre 0 et 50 dans l'ordre croissant."
   ]
  },
  {
   "cell_type": "code",
   "execution_count": 2,
   "metadata": {},
   "outputs": [
    {
     "name": "stdout",
     "output_type": "stream",
     "text": [
      "0\n",
      "2\n",
      "4\n",
      "6\n",
      "8\n",
      "10\n",
      "12\n",
      "14\n",
      "16\n",
      "18\n",
      "20\n",
      "22\n",
      "24\n",
      "26\n",
      "28\n",
      "30\n",
      "32\n",
      "34\n",
      "36\n",
      "38\n",
      "40\n",
      "42\n",
      "44\n",
      "46\n",
      "48\n",
      "50\n"
     ]
    }
   ],
   "source": [
    "for k in range(0, 51, 2):\n",
    "    print(k)"
   ]
  },
  {
   "cell_type": "markdown",
   "metadata": {},
   "source": [
    "(Q3) Faire afficher les entiers pairs compris entre 0 et 50 dans l'ordre décroissants."
   ]
  },
  {
   "cell_type": "code",
   "execution_count": 4,
   "metadata": {},
   "outputs": [
    {
     "name": "stdout",
     "output_type": "stream",
     "text": [
      "50\n",
      "48\n",
      "46\n",
      "44\n",
      "42\n",
      "40\n",
      "38\n",
      "36\n",
      "34\n",
      "32\n",
      "30\n",
      "28\n",
      "26\n",
      "24\n",
      "22\n",
      "20\n",
      "18\n",
      "16\n",
      "14\n",
      "12\n",
      "10\n",
      "8\n",
      "6\n",
      "4\n",
      "2\n",
      "0\n"
     ]
    }
   ],
   "source": [
    "for k in range(50, -1, -2):\n",
    "    print(k)"
   ]
  },
  {
   "cell_type": "markdown",
   "metadata": {},
   "source": [
    "## Exercice 2"
   ]
  },
  {
   "cell_type": "markdown",
   "metadata": {},
   "source": [
    "(Q1)"
   ]
  },
  {
   "cell_type": "code",
   "execution_count": 5,
   "metadata": {},
   "outputs": [
    {
     "name": "stdout",
     "output_type": "stream",
     "text": [
      "01234\n",
      "1234\n",
      "234\n",
      "34\n",
      "4\n"
     ]
    }
   ],
   "source": [
    "for i in range(5):\n",
    "    for j in range(i, 5):\n",
    "        print(j, end=\"\")\n",
    "    print()"
   ]
  },
  {
   "cell_type": "markdown",
   "metadata": {},
   "source": [
    "(Q2) Afichage a"
   ]
  },
  {
   "cell_type": "code",
   "execution_count": 6,
   "metadata": {},
   "outputs": [
    {
     "name": "stdout",
     "output_type": "stream",
     "text": [
      "0\n",
      "01\n",
      "012\n",
      "0123\n",
      "01234\n"
     ]
    }
   ],
   "source": [
    "for i in range(5):\n",
    "    for j in range(0, i + 1):\n",
    "        print(j, end=\"\")\n",
    "    print()"
   ]
  },
  {
   "cell_type": "code",
   "execution_count": null,
   "metadata": {},
   "outputs": [],
   "source": [
    "(Q2) Afichage b"
   ]
  },
  {
   "cell_type": "code",
   "execution_count": 7,
   "metadata": {},
   "outputs": [
    {
     "name": "stdout",
     "output_type": "stream",
     "text": [
      "01234\n",
      "12345\n",
      "23456\n",
      "34567\n",
      "45678\n"
     ]
    }
   ],
   "source": [
    "for i in range(5):\n",
    "    for j in range(i, i + 5):\n",
    "        print(j, end=\"\")\n",
    "    print()"
   ]
  },
  {
   "cell_type": "markdown",
   "metadata": {},
   "source": [
    "## Exercice 3"
   ]
  },
  {
   "cell_type": "code",
   "execution_count": 8,
   "metadata": {},
   "outputs": [
    {
     "name": "stdout",
     "output_type": "stream",
     "text": [
      "f = 0 et g=1\n",
      "f = 1 et g=0\n",
      "f = 1 et g=1\n",
      "f = 2 et g=1\n",
      "f = 3 et g=2\n",
      "f = 5 et g=3\n",
      "f = 8 et g=5\n",
      "f = 13 et g=8\n",
      "f = 21 et g=13\n",
      "f = 34 et g=21\n",
      "f = 55 et g=34\n",
      "f = 89 et g=55\n"
     ]
    }
   ],
   "source": [
    "trace = True\n",
    "f = 0\n",
    "g = 1\n",
    "for i in range(12):\n",
    "    if trace:\n",
    "        print(f\"f = {f} et g={g}\")\n",
    "    f = f + g\n",
    "    g = f - g"
   ]
  },
  {
   "cell_type": "markdown",
   "metadata": {},
   "source": [
    "# Conditionnelles"
   ]
  },
  {
   "cell_type": "markdown",
   "metadata": {},
   "source": [
    "## Exercice 4"
   ]
  },
  {
   "cell_type": "markdown",
   "metadata": {},
   "source": [
    "Pour transporter des poteaux sur une île, on dispose d’une barge dont la masse utile est de 1800 kg. Écrire\n",
    "un programme qui demande à l’utilisateur la masse d’un poteau puis le nombre de poteaux et qui affiche\n",
    "le message « Risque de surcharge ! » si la masse utile est dépassée."
   ]
  },
  {
   "cell_type": "code",
   "execution_count": 9,
   "metadata": {},
   "outputs": [
    {
     "name": "stdout",
     "output_type": "stream",
     "text": [
      "Masse du poteau ?10\n",
      "Nombre de poteaux ?190\n",
      "Risque de surcharge !\n"
     ]
    }
   ],
   "source": [
    "masse = float(input(\"Masse du poteau ?\"))\n",
    "nombre = int(input(\"Nombre de poteaux ?\"))\n",
    "masse_utile = masse * nombre\n",
    "if masse_utile > 1800:\n",
    "    print(\"Risque de surcharge !\")"
   ]
  },
  {
   "cell_type": "markdown",
   "metadata": {},
   "source": [
    "## Exercice 5"
   ]
  },
  {
   "cell_type": "code",
   "execution_count": null,
   "metadata": {},
   "outputs": [],
   "source": [
    "n = int(input(\"Entrez le nombre de l'année : \"))\n",
    "if n % 4 != 0 :  #année non divisible par 4  =>  non bissextile\n",
    "    print('Année non bissextile')\n",
    "elif n % 100 != 0:  #année divisible par 4 mais pas par 100 => bissextile\n",
    "    print('Année bissextile')\n",
    "elif  n % 400 != 0:  #année divisible par 100 mais pas par 400 => non bissextile\n",
    "    print('Année non bissextile')\n",
    "else:   #année divisible par 100 et par 400 => bissextile\n",
    "    print('Année bissextile')"
   ]
  },
  {
   "cell_type": "markdown",
   "metadata": {},
   "source": [
    "# Boucles non bornées"
   ]
  },
  {
   "cell_type": "markdown",
   "metadata": {},
   "source": [
    "## Exercice 6"
   ]
  },
  {
   "cell_type": "markdown",
   "metadata": {},
   "source": [
    "Écrire un programme qui permet de saisir un mot de passe sous la forme d’une chaîne de caractères et\n",
    "qui ensuite redemande ce mot de passe jusqu’à ce qu’il soit correct."
   ]
  },
  {
   "cell_type": "code",
   "execution_count": null,
   "metadata": {},
   "outputs": [],
   "source": [
    "secret = \"sesame\"\n",
    "while input('Mot de passe ?') != secret:\n",
    "    print(\"Mot de passe incorrect\")\n",
    "print(\"Mot de passe correct\")"
   ]
  },
  {
   "cell_type": "markdown",
   "metadata": {},
   "source": [
    "## Exercice 7"
   ]
  },
  {
   "cell_type": "markdown",
   "metadata": {},
   "source": [
    "On appelle logarithme entier d’un nombre réel x > 1, le nombre de fois qu’il faut le diviser par 2 pour\n",
    "obtenir un nombre inférieur à 1.\n",
    "Écrire un programme qui permet de saisir un nombre x et qui affiche son logarithme entier."
   ]
  },
  {
   "cell_type": "code",
   "execution_count": 12,
   "metadata": {},
   "outputs": [],
   "source": [
    "def logarithme_entier(x):\n",
    "    \"\"\"\n",
    "    Paramètre : x un réel\n",
    "    Précondition : x > 1\n",
    "    Valeur renvoyée : un entier naturel\n",
    "    Postcondition : renvoie le plus petit entier n tel que  x / 2 ** n < 1      \n",
    "    \"\"\"\n",
    "    #précondition\n",
    "    assert x > 1\n",
    "    n = 0\n",
    "    p = 1\n",
    "    #invariant  p = 2 ** n\n",
    "    while p <= x:\n",
    "        n = n + 1\n",
    "        p = p * 2\n",
    "    return n\n",
    "\n",
    "#test unitaires \n",
    "assert logarithme_entier(1.5) == 1\n",
    "assert logarithme_entier(2) == 2\n",
    "assert logarithme_entier(7.9) == 3\n",
    "assert logarithme_entier(8) == 4\n",
    "assert logarithme_entier(8.2) == 4"
   ]
  },
  {
   "cell_type": "markdown",
   "metadata": {},
   "source": [
    "## Exercice 8"
   ]
  },
  {
   "cell_type": "code",
   "execution_count": 11,
   "metadata": {},
   "outputs": [],
   "source": [
    "def jour_semaine(m, d, y):\n",
    "    \"\"\"\n",
    "    Paramètres : \n",
    "        m un entier représentant le mois dans l'année 1<=m<=12\n",
    "        d un entier représentant le jour  dans le mois 1<=d<=31\n",
    "        y un entier représentant l'année  \n",
    "    Valeur renvoyée :\n",
    "        un entier d0 représentant le rang du jour de la semaine entre 1 et 7\n",
    "    \"\"\"\n",
    "    y0 = y - (14 - m)//12\n",
    "    x = y0 + y0//4 - y0//100 + y0//400\n",
    "    m0 = m + 12*((14-m)//12) - 2\n",
    "    d0 = (d + x + (31 * m0)//12)%7\n",
    "    return d0\n",
    "\n",
    "#tests unitaires \n",
    "assert jour_semaine(2,14,2000) == 1\n",
    "assert jour_semaine(2,14,1900) == 3\n",
    "assert jour_semaine(7,14,1789) == 2"
   ]
  },
  {
   "cell_type": "markdown",
   "metadata": {},
   "source": [
    "## Exercice 9"
   ]
  },
  {
   "cell_type": "code",
   "execution_count": null,
   "metadata": {},
   "outputs": [],
   "source": [
    "def bissextile(a):\n",
    "    \"\"\"Signature : bissextile(a:int)->bool\n",
    "    Postcondition : Détermine si l'année a est bissextile\"\"\"\n",
    "    return (a % 100 != 0 and a % 4 == 0) or (a % 400 == 0)\n",
    "\n",
    "#tests unitaires\n",
    "assert bissextile(2020)\n",
    "assert not bissextile(2019)\n",
    "assert bissextile(2000)\n",
    "assert not bissextile(19000)"
   ]
  }
 ],
 "metadata": {
  "kernelspec": {
   "display_name": "Python 3",
   "language": "python",
   "name": "python3"
  },
  "language_info": {
   "codemirror_mode": {
    "name": "ipython",
    "version": 3
   },
   "file_extension": ".py",
   "mimetype": "text/x-python",
   "name": "python",
   "nbconvert_exporter": "python",
   "pygments_lexer": "ipython3",
   "version": "3.8.8"
  }
 },
 "nbformat": 4,
 "nbformat_minor": 4
}
