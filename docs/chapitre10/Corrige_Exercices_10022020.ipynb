{
 "cells": [
  {
   "cell_type": "markdown",
   "metadata": {},
   "source": [
    "# Recherche séquentielle ou linéaire, exercices du 10/02/2020"
   ]
  },
  {
   "cell_type": "markdown",
   "metadata": {},
   "source": [
    "## Exercice 1\n",
    "\n",
    "Compléter le code de la fonction ci-dessous pour qu'elle retourne le maximum de l'ensemble des éléments contenus dans la variable `mat`passée en argument. `mat` est une matrice de nombres, c'est-à-dire une  liste de  listes d'entiers qui ont toutes la  même longueur.\n",
    "\n",
    "~~~python\n",
    "In [5]: mat = [[1,2,3], [4,5,6]]\n",
    "\n",
    "In [6]: mat[1]\n",
    "Out[6]: [4, 5, 6]\n",
    "\n",
    "In [7]: mat[1][2]\n",
    "Out[7]: 6\n",
    "~~~\n",
    "\n",
    "Code à compléter :\n",
    "\n",
    "~~~python\n",
    "def max_matrice(mat):\n",
    "  nlig, ncol = len(mat), len(mat[0])\n",
    "  maxi = .....\n",
    "  for i in range(nlig):\n",
    "    for j in range(ncol):\n",
    "      \"à compléter\"\n",
    "  return maxi\n",
    "~~~"
   ]
  },
  {
   "cell_type": "markdown",
   "metadata": {},
   "source": [
    "## Corrigé de l'exercice 1"
   ]
  },
  {
   "cell_type": "code",
   "execution_count": 2,
   "metadata": {},
   "outputs": [],
   "source": [
    "def max_matrice(mat):\n",
    "    nlig, ncol = len(mat), len(mat[0])\n",
    "    maxi = mat[0][0]\n",
    "    for i in range(nlig):\n",
    "        for j in range(ncol):\n",
    "            if mat[i][j] > maxi:\n",
    "                maxi = mat[i][j]\n",
    "    return maxi"
   ]
  },
  {
   "cell_type": "markdown",
   "metadata": {},
   "source": [
    "## Exercice 2\n",
    "\n",
    "Ecrire une fonction de signature  `recherche_seq_matrice(mat, n)` qui retourne un booléen indiquant la présence du nombre  `n` parmi les nombres  contenus dans la variable `mat`passée en argument. `mat` est un matrice de nombres, c'est-à-dire une  liste de  listes d'entiers qui ont toutes la  même longueur.\n",
    "\n"
   ]
  },
  {
   "cell_type": "markdown",
   "metadata": {},
   "source": [
    "## Corrigé de l'exercice 2"
   ]
  },
  {
   "cell_type": "code",
   "execution_count": 3,
   "metadata": {},
   "outputs": [],
   "source": [
    "def recherche_seq_matrice(mat, n):\n",
    "    nlig, ncol = len(mat), len(mat[0])\n",
    "    for i in range(nlig):\n",
    "        for j in range(ncol):\n",
    "            if mat[i][j] == n:\n",
    "                return True\n",
    "    return False"
   ]
  },
  {
   "cell_type": "markdown",
   "metadata": {},
   "source": [
    "## Exercice 3\n",
    "\n",
    "Compléter la fonction de signature `insertion_dicho_gauche(L, e)` ci-dessous pour qu'elle retourne l'index du point d'insertion du nombre `e` dans la liste triée dans l'ordre croissant `L``, avec la convention suivante : \n",
    "\n",
    "* `e` doit s'insérer à gauche du premier élément de `L` supérieur ou égal à `e`\n",
    "* si tous les éléments de `L` sont inférieurs à `e`, ce dernier est inséré à la fin de la liste\n",
    "\n",
    "~~~python\n",
    "def insertion_dicho_gauche(L, e):\n",
    "     \n",
    "    if e <= L[0]:  # Cas 1 : e inférieur ou égal au premier (et donc plus petit) élément de la liste\n",
    "        return 0\n",
    "    elif e > L[-1]:  #Cas 2 : e supérieur à tous les éléments de la liste \n",
    "        return len(L)\n",
    "    else: #Cas 3 : on maintient l'invariant de boucle : L[gauche] < e <= L[droite]\n",
    "        gauche, droite = 0, len(L) - 1\n",
    "        while .......................:    #condition d'arret ? => condition d'entrée de boucle \n",
    "            milieu = (droite + gauche) // 2\n",
    "            if L[milieu] < e:\n",
    "                \"à compléter\"\n",
    "            else:\n",
    "                \"à compléter\"\n",
    "        return .............\n",
    " ~~~\n",
    " \n",
    " Résultats attendus :\n",
    " \n",
    " ~~~python \n",
    "In [18]: L = [0,4,7,8,10]\n",
    "\n",
    "In [19]: insertion_dicho_gauche(L,0) \n",
    "Out[19]: 0\n",
    "\n",
    "In [20]: insertion_dicho_gauche(L,8) \n",
    "Out[20]: 3\n",
    "\n",
    "In [22]: insertion_dicho_gauche(L,5) \n",
    "Out[22]: 2\n",
    "\n",
    "In [23]: insertion_dicho_gauche(L,10) \n",
    "Out[23]: 4\n",
    "\n",
    "In [25]: insertion_dicho_gauche(L,11) \n",
    "Out[25]: 5\n",
    "\n",
    "In [26]: L.insert(insertion_dicho_gauche(L,11), 11)\n",
    "\n",
    "In [27]: L\n",
    "Out[27]: [0, 4, 7, 8, 10, 11] \n",
    "~~~\n"
   ]
  },
  {
   "cell_type": "markdown",
   "metadata": {},
   "source": [
    "## Corrigé de l'exercice 3"
   ]
  },
  {
   "cell_type": "code",
   "execution_count": 4,
   "metadata": {},
   "outputs": [],
   "source": [
    "def insertion_dicho_gauche(L, e):     \n",
    "    if e <= L[0]:  # Cas 1 : e inférieur ou égal au premier (et donc plus petit) élément de la liste\n",
    "        return 0\n",
    "    elif e > L[-1]:  #Cas 2 : e supérieur à tous les éléments de la liste \n",
    "        return len(L)\n",
    "    else: #Cas 3 : on maintient l'invariant de boucle : L[gauche] < e <= L[droite]\n",
    "        gauche, droite = 0, len(L) - 1\n",
    "        while gauche - droite > 2:    #condition d'arret ? => condition d'entrée de boucle \n",
    "            milieu = (droite + gauche) // 2\n",
    "            if L[milieu] < e:\n",
    "                gauche = milieu\n",
    "            else:\n",
    "                droite = milieu\n",
    "        return droite"
   ]
  }
 ],
 "metadata": {
  "kernelspec": {
   "display_name": "Python 3",
   "language": "python",
   "name": "python3"
  },
  "language_info": {
   "codemirror_mode": {
    "name": "ipython",
    "version": 3
   },
   "file_extension": ".py",
   "mimetype": "text/x-python",
   "name": "python",
   "nbconvert_exporter": "python",
   "pygments_lexer": "ipython3",
   "version": "3.6.9"
  }
 },
 "nbformat": 4,
 "nbformat_minor": 2
}
