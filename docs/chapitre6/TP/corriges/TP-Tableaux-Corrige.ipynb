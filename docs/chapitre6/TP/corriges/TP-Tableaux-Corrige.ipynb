{
 "cells": [
  {
   "cell_type": "markdown",
   "metadata": {},
   "source": [
    "# Corrigé du TP sur les tableaux"
   ]
  },
  {
   "cell_type": "code",
   "execution_count": 3,
   "metadata": {},
   "outputs": [],
   "source": [
    "# pour exécuter Python-Tutor dans les cellules\n",
    "from metakernel import register_ipython_magics\n",
    "register_ipython_magics()"
   ]
  },
  {
   "cell_type": "markdown",
   "metadata": {},
   "source": [
    "_Les énoncés des exercices sont suivis des corrigés._ "
   ]
  },
  {
   "cell_type": "markdown",
   "metadata": {},
   "source": [
    "\n",
    "## Exercice 2  _QCM type E3C_"
   ]
  },
  {
   "cell_type": "markdown",
   "metadata": {},
   "source": [
    "1.  On exécute le code suivant :\n",
    "    \n",
    "    ``` python\n",
    "    t = [1,2,3,4,5,6,7,8,9]\n",
    "    \n",
    "    v = [c for c in t if c%3 == 0]\n",
    "    ```\n",
    "\n",
    "Quelle est la valeur de la variable `v` à la fin de cette exécution ?\n",
    "\n",
    "  - **Réponse A :** 18 **Réponse B :** `[1,4,7]`\n",
    "  - **Réponse C :** `[3,6,9]` **Réponse D :** `[1,2,3,4,5,6,7,8,9]`\n",
    "\n",
    "<!-- end list -->\n",
    "\n",
    "2.  On définit : `resultat = [ i*2 for i in range(10) ]`.\n",
    "\n",
    "Quelle est la valeur de `resultat` ?\n",
    "\n",
    "  - **Réponse A :** `[0, 1, 2, 3, 4, 5, 6, 7, 8, 9]`\n",
    "  - **Réponse B :** `[0, 2, 4, 6, 8, 10, 12, 14, 16, 18]`\n",
    "  - **Réponse C :** `[0, 2, 4, 6, 8, 10, 12, 14, 16, 18, 20]`\n",
    "  - **Réponse D :** `[2, 4, 6, 8, 10, 12, 14, 16, 18]`\n",
    "\n",
    "<!-- end list -->\n",
    "\n",
    "3.  On considère la fonction suivante :\n",
    "\n",
    "<!-- end list -->\n",
    "\n",
    "``` python\n",
    "def somme(tab):\n",
    "    s = 0\n",
    "    for i in range(len(tab)):\n",
    "        .....\n",
    "    return s\n",
    "```\n",
    "\n",
    "Par quelle instruction faut-il remplacer les points de suspension pour\n",
    "que l’appel `somme([10,11,12,13,14])` renvoie 60 ?\n",
    "\n",
    "  - **Réponse A :** `s = tab[i]` **Réponse B :** `s = s + tab[i]`\n",
    "  - **Réponse C :** `tab[i] = tab[i] + s` **Réponse D :** `s = s + i`\n"
   ]
  },
  {
   "cell_type": "markdown",
   "metadata": {},
   "source": [
    "### Corrigé de la question 1"
   ]
  },
  {
   "cell_type": "code",
   "execution_count": 16,
   "metadata": {},
   "outputs": [
    {
     "data": {
      "text/html": [
       "\n",
       "        <iframe\n",
       "            width=\"100%\"\n",
       "            height=\"500\"\n",
       "            src=\"https://pythontutor.com/iframe-embed.html#code=%0At%20%3D%20%5B1%2C2%2C3%2C4%2C5%2C6%2C7%2C8%2C9%5D%0Av%20%3D%20%5Bc%20for%20c%20in%20t%20if%20c%253%20%3D%3D%200%5D%0A&origin=opt-frontend.js&cumulative=false&heapPrimitives=false&textReferences=false&py=3&rawInputLstJSON=%5B%5D&curInstr=0&codeDivWidth=350&codeDivHeight=400\"\n",
       "            frameborder=\"0\"\n",
       "            allowfullscreen\n",
       "        ></iframe>\n",
       "        "
      ],
      "text/plain": [
       "<IPython.lib.display.IFrame at 0x7f16642e2f70>"
      ]
     },
     "metadata": {},
     "output_type": "display_data"
    }
   ],
   "source": [
    "%%tutor\n",
    "\n",
    "t = [1,2,3,4,5,6,7,8,9]\n",
    "v = [c for c in t if c%3 == 0]"
   ]
  },
  {
   "cell_type": "markdown",
   "metadata": {},
   "source": [
    "### Corrigé de la question 2"
   ]
  },
  {
   "cell_type": "code",
   "execution_count": 17,
   "metadata": {
    "scrolled": true
   },
   "outputs": [
    {
     "data": {
      "text/html": [
       "\n",
       "        <iframe\n",
       "            width=\"100%\"\n",
       "            height=\"500\"\n",
       "            src=\"https://pythontutor.com/iframe-embed.html#code=%0Aresultat%20%3D%20%5B%20i%2A2%20for%20i%20in%20range%2810%29%20%5D%0A&origin=opt-frontend.js&cumulative=false&heapPrimitives=false&textReferences=false&py=3&rawInputLstJSON=%5B%5D&curInstr=0&codeDivWidth=350&codeDivHeight=400\"\n",
       "            frameborder=\"0\"\n",
       "            allowfullscreen\n",
       "        ></iframe>\n",
       "        "
      ],
      "text/plain": [
       "<IPython.lib.display.IFrame at 0x7f16642e2ca0>"
      ]
     },
     "metadata": {},
     "output_type": "display_data"
    }
   ],
   "source": [
    "%%tutor\n",
    "\n",
    "resultat = [ i*2 for i in range(10) ]"
   ]
  },
  {
   "cell_type": "markdown",
   "metadata": {},
   "source": [
    "### Corrigé de la question 3"
   ]
  },
  {
   "cell_type": "code",
   "execution_count": 15,
   "metadata": {},
   "outputs": [
    {
     "name": "stdout",
     "output_type": "stream",
     "text": [
      "Tests unitaires réussis\n"
     ]
    }
   ],
   "source": [
    "def somme(tab):\n",
    "    s = 0\n",
    "    for i in range(len(tab)):\n",
    "        s = s + tab[i]\n",
    "    return s\n",
    "\n",
    "\n",
    "#Tests unitaires\n",
    "from random import randint\n",
    "for size in range(1, 5):\n",
    "    for run in range(10):\n",
    "        tab = [randint(-100, 100) for _ in range(size)]\n",
    "        assert(somme(tab)) == sum(tab), \"Echec sur {}\".format(tab)\n",
    "print(\"Tests unitaires réussis\")"
   ]
  },
  {
   "cell_type": "markdown",
   "metadata": {},
   "source": [
    "## Exercice 3\n",
    "\n",
    "1.  La fonction suivante doit calculer la moyenne d’un tableau de\n",
    "    nombres, passé en paramètre. Avec quelles expressions faut-il\n",
    "    remplacer les points de suspension pour que la fonction soit\n",
    "    correcte ? *Auteur Sylvie Genre*\n",
    "    \n",
    "    ``` python\n",
    "    def moyenne(tableau):\n",
    "        total = ...\n",
    "        for valeur in tableau:\n",
    "            total = total + valeur\n",
    "        return total / ...\n",
    "    ```\n",
    "\n",
    "2.  Donner la valeur des expressions Python suivantes :\n",
    "    \n",
    "    ``` python\n",
    "    >>> [1, 2, 3] + [4, 5, 6]\n",
    "    >>> 2 * [1, 2, 3]\n",
    "    ```\n"
   ]
  },
  {
   "cell_type": "markdown",
   "metadata": {},
   "source": [
    "### Corrigé de la question 1"
   ]
  },
  {
   "cell_type": "code",
   "execution_count": 20,
   "metadata": {},
   "outputs": [
    {
     "name": "stdout",
     "output_type": "stream",
     "text": [
      "Tests unitaires réussis\n"
     ]
    }
   ],
   "source": [
    "def moyenne(tableau):\n",
    "    total = 0\n",
    "    for valeur in tableau:\n",
    "        total = total + valeur\n",
    "    return total / len(tableau)\n",
    "\n",
    "#Tests unitaires\n",
    "from random import randint\n",
    "for size in range(1, 5):\n",
    "    for run in range(10):\n",
    "        tab = [randint(-100, 100) for _ in range(size)]\n",
    "        assert(moyenne(tab)) == sum(tab)/len(tab), \"Echec sur {}\".format(tab)\n",
    "print(\"Tests unitaires réussis\")"
   ]
  },
  {
   "cell_type": "markdown",
   "metadata": {},
   "source": [
    "### Corrigé de la question 2"
   ]
  },
  {
   "cell_type": "code",
   "execution_count": 2,
   "metadata": {},
   "outputs": [
    {
     "data": {
      "text/plain": [
       "[1, 2, 3, 4, 5, 6]"
      ]
     },
     "execution_count": 2,
     "metadata": {},
     "output_type": "execute_result"
    }
   ],
   "source": [
    "[1, 2, 3] + [4, 5, 6]"
   ]
  },
  {
   "cell_type": "code",
   "execution_count": 3,
   "metadata": {},
   "outputs": [
    {
     "data": {
      "text/plain": [
       "[1, 2, 3, 1, 2, 3]"
      ]
     },
     "execution_count": 3,
     "metadata": {},
     "output_type": "execute_result"
    }
   ],
   "source": [
    "2 * [1, 2, 3]"
   ]
  },
  {
   "cell_type": "markdown",
   "metadata": {},
   "source": [
    "## Exercice 4\n",
    "\n",
    "1.  Écrire une fonction Python `smul` à deux paramètres, un nombre et\n",
    "    une liste de nombres, qui multiplie chaque élément de la liste par\n",
    "    le nombre et renvoie une nouvelle liste :\n",
    "\n",
    "<!-- end list -->\n",
    "\n",
    "``` python\n",
    ">>> smul(2, [1, 2, 3])\n",
    "[2, 4, 6]\n",
    "```\n",
    "\n",
    "2.  Écrire une fonction Python `vsom` qui prend en paramètre deux listes\n",
    "    de nombres de même longueur et qui renvoie une nouvelle liste\n",
    "    constituée de la somme terme à terme de ces deux listes :\n",
    "\n",
    "<!-- end list -->\n",
    "\n",
    "``` python\n",
    ">>> vsom([1, 2, 3], [4, 5, 6])\n",
    "[5, 7, 9]\n",
    "```\n",
    "\n",
    "3.  Écrire une fonction\n",
    "    [Python](https://docs.python.org/3/tutorial/datastructures.html)\n",
    "    `vdif` qui prend en paramètre deux listes de nombres de même\n",
    "    longueur et qui renvoie une nouvelle liste constituée de la\n",
    "    différence terme à terme de ces deux listes (la deuxième moins la\n",
    "    première).\n",
    "\n",
    "<!-- end list -->\n",
    "\n",
    "``` python\n",
    ">>> vdif([1, 2, 3], [4, 5, 6])\n",
    "[3, 3, 3]\n",
    "```\n",
    "\n",
    "4.  Écrire une fonction Python `vprod` qui prend en paramètre deux\n",
    "    listes de nombres de même longueur et qui retourne une nouvelle\n",
    "    liste constituée des produits terme à terme de ces deux listes.\n",
    "\n",
    "<!-- end list -->\n",
    "\n",
    "``` python\n",
    ">>> vprod([1, 2, 3], [4, 5, 6]) \n",
    "[4, 10, 18]\n",
    "```"
   ]
  },
  {
   "cell_type": "markdown",
   "metadata": {},
   "source": [
    "### Corrigé de l'exercice 4"
   ]
  },
  {
   "cell_type": "code",
   "execution_count": 26,
   "metadata": {},
   "outputs": [],
   "source": [
    "def smul(k, tab):\n",
    "    \"\"\"\n",
    "    Paramètres :\n",
    "        k un nombre de type int ou float\n",
    "        tab est un tableau de type list contenant des  nombres de type int ou float\n",
    "    Précondition :\n",
    "        tab non vide\n",
    "    Valeur renvoyée :\n",
    "        un tableau de type list contenant des  nombres de type int ou float\n",
    "    Postcondition :\n",
    "        le tableau renvoyé est constitué des produits \n",
    "        de chaque élément de tab par k\n",
    "    \"\"\"\n",
    "    assert len(tab) != 0, \"tab doit être non vide\"\n",
    "    return [k * e for e in tab]\n",
    "\n",
    "\n",
    "def vsom(tab1, tab2):\n",
    "    \"\"\"\n",
    "    Paramètres :\n",
    "        tab1 et tab2 des tableaux de nombres de type int ou float\n",
    "    Préconditions :\n",
    "        tab1 non vide et len(tab1) == len(tab2)\n",
    "    Valeur renvoyée :\n",
    "        un tableau de type list contenant des  nombres de type int ou float\n",
    "    Postcondition :\n",
    "        le tableau renvoyé est constitué des sommes\n",
    "        terme à terme des éléments de tab1 et tab2        \n",
    "    \"\"\"\n",
    "    assert len(tab1) > 0 and len(tab1) == len(tab2); \"tab1 et tab2 doivent être de même longueur\"\n",
    "    return [tab1[k] + tab2[k] for k in range(len(tab1))]\n",
    "\n",
    "\n",
    "def vdiff(tab1, tab2):\n",
    "    \"\"\"\n",
    "    Paramètres :\n",
    "        tab1 et tab2 sont des tableaux de type list contenant des  nombres de type int ou float\n",
    "    Précondition :\n",
    "        tab1 non vide et len(tab1) == len(tab2)\n",
    "    Valeur renvoyée :\n",
    "        un tableau de type list contenant des  nombres de type int ou float\n",
    "    Postcondition :\n",
    "        le tableau renvoyé est constitué des différences terme à terme\n",
    "        des éléments de tab2 et tab1 (la deuxième moins la première)        \n",
    "    \"\"\"\n",
    "    assert len(tab1) > 0 and  len(tab1) == len(tab2); \"tab1 et tab2 doivent être de même longueur\"\n",
    "    return [tab2[k] - tab2[k] for k in range(len(tab1))]\n",
    "\n",
    "def vprod(tab1, tab2):\n",
    "    \"\"\"\n",
    "    Paramètres :\n",
    "        tab1 et tab2 sont des tableaux de type list contenant des  nombres de type int ou float\n",
    "    Précondition :\n",
    "        tab1 non vide et len(tab1) == len(tab2)\n",
    "    Valeur renvoyée :\n",
    "        un tableau de type list contenant des  nombres de type int ou float\n",
    "    Postcondition :\n",
    "        le tableau renvoyé est constitué des produits\n",
    "        terme à terme des éléments de tab2 et tab1 \n",
    "    \"\"\"\n",
    "    assert len(tab1) > 0 and len(tab1) == len(tab2); \"tab1 et tab2 doivent être de même longueur\"\n",
    "    return [tab2[k] * tab2[k] for k in range(len(tab1))]"
   ]
  },
  {
   "cell_type": "markdown",
   "metadata": {},
   "source": [
    "## Exercice 5\n",
    "\n",
    "1.  Écrire une fonction `produit(tab)` qui retourne le produit des\n",
    "    éléments d’un tableau de nombres `tab`.\n",
    "2.  Écrire une fonction `all_positive(tab)` qui retourne un booléen\n",
    "    indiquant si tous les éléments du tableau de nombres `tab` sont\n",
    "    strictement positifs.\n",
    "3.  Écrire une fonction `any_positive(tab)` qui retourne un booléen\n",
    "    indiquant si au moins un élément du tableau de nombres `tab` est\n",
    "    strictement positif.\n"
   ]
  },
  {
   "cell_type": "markdown",
   "metadata": {},
   "source": [
    "### Corrigé de l'exercice 5"
   ]
  },
  {
   "cell_type": "code",
   "execution_count": 32,
   "metadata": {},
   "outputs": [
    {
     "name": "stdout",
     "output_type": "stream",
     "text": [
      "Tests unitaires réussis\n"
     ]
    }
   ],
   "source": [
    "def produit(tab):\n",
    "    \"\"\"\n",
    "    Paramètres :\n",
    "        tab est un tableau de type list contenant des  nombres de type int ou float\n",
    "    Précondition :\n",
    "        tab non vide\n",
    "    Valeur renvoyée :\n",
    "        un tableau de type list contenant des  nombres de type int ou float\n",
    "    Postcondition :\n",
    "        le tableau renvoyé est constitué du produit\n",
    "        de tous les termes de tab\n",
    "    \"\"\"\n",
    "    assert len(tab) > 0, \"le paramètre  doit être non vide\"\n",
    "    p = 1\n",
    "    for e in tab:\n",
    "        p = p * e\n",
    "    return p\n",
    "\n",
    "#Tests unitaires\n",
    "from random import randint\n",
    "from functools import reduce\n",
    "for size in range(1, 5):\n",
    "    for run in range(10):\n",
    "        tab = [randint(-100, 100) for _ in range(size)]\n",
    "        assert(produit(tab)) == reduce(lambda a, b: a * b,tab), \"Echec sur {}\".format(tab)\n",
    "print(\"Tests unitaires réussis\")"
   ]
  },
  {
   "cell_type": "code",
   "execution_count": 36,
   "metadata": {},
   "outputs": [
    {
     "name": "stdout",
     "output_type": "stream",
     "text": [
      "Tests unitaires réussis\n"
     ]
    }
   ],
   "source": [
    "def all_positive(tab):\n",
    "    \"\"\"\n",
    "    Paramètres :\n",
    "        tab est un tableau de type list contenant des  nombres de type int ou float\n",
    "    Précondition :\n",
    "        tab non vide\n",
    "    Valeur renvoyée :\n",
    "        un booléen\n",
    "    Postcondition :\n",
    "        la valeur renvoyée est \n",
    "            True si tous les éléments de tab sont positifs\n",
    "            False sinon\n",
    "    \"\"\"\n",
    "    assert len(tab) > 0, \"le paramètre  doit être non vide\"\n",
    "    for e in tab:\n",
    "        if e < 0:\n",
    "            return False\n",
    "    return True\n",
    "\n",
    "#Tests unitaires\n",
    "from random import randint\n",
    "from functools import reduce\n",
    "for size in range(1, 5):\n",
    "    for run in range(10):\n",
    "        tab = [randint(-100, 100) for _ in range(size)]\n",
    "        assert(all_positive(tab)) == all([e >= 0 for e in tab]), \"Echec sur {}\".format(tab)\n",
    "print(\"Tests unitaires réussis\")"
   ]
  },
  {
   "cell_type": "code",
   "execution_count": 37,
   "metadata": {},
   "outputs": [
    {
     "name": "stdout",
     "output_type": "stream",
     "text": [
      "Tests unitaires réussis\n"
     ]
    }
   ],
   "source": [
    "def any_positive(tab):\n",
    "    \"\"\"\n",
    "    Paramètres :\n",
    "        tab est un tableau de type list contenant des  nombres de type int ou float\n",
    "    Précondition :\n",
    "        tab non vide\n",
    "    Valeur renvoyée :\n",
    "        un booléen\n",
    "    Postcondition :\n",
    "        la valeur renvoyée est \n",
    "            True si au moins un élément de tab est positif\n",
    "            False sinon\n",
    "    \"\"\"\n",
    "    assert len(tab) > 0, \"le paramètre  doit être non vide\"\n",
    "    for e in tab:\n",
    "        if e >= 0:\n",
    "            return True\n",
    "    return False\n",
    "\n",
    "#Tests unitaires\n",
    "from random import randint\n",
    "from functools import reduce\n",
    "for size in range(1, 5):\n",
    "    for run in range(10):\n",
    "        tab = [randint(-100, 100) for _ in range(size)]\n",
    "        assert(any_positive(tab)) == any([e >= 0 for e in tab]), \"Echec sur {}\".format(tab)\n",
    "print(\"Tests unitaires réussis\")"
   ]
  },
  {
   "cell_type": "markdown",
   "metadata": {},
   "source": [
    "## Exercice 6\n",
    "\n",
    "\n",
    "1. Écrire une fonction `tableau_aleatoire(n, a, b)` qui renvoie un tableau de `n` entiers tirés aléatoirement entre les entiers `a` et `b` inclus. On utilisera la fonction `randint`  du module `random`.\n",
    "\n",
    "~~~python\n",
    "Help on method randint in module random:\n",
    "\n",
    "randint(a, b) method of random.Random instance\n",
    "    Return random integer in range [a, b], including both end points.\n",
    "~~~\n",
    "\n",
    "\n",
    "2. Écrire une fonction `histo_echantillon(nbexp)` qui renvoie un tableau de taille 6 comptant le nombre d'occurences de chaque face numérotée de 1 à 6 sur un échantillon de `nbexp` lancers d'un dé cubique équilibré.\n",
    "\n",
    "3. On donne ci-dessous une fonction qui prend en paramètre un tableau et renvoie un élément extrait au hasard  du tableau. Elle permet par exemple de simuler un tirage sans remise d'une boule dans une urne.\n",
    "\n",
    "~~~python\n",
    "from random import randint\n",
    "\n",
    "def tirage_sans_remise(urne):\n",
    "    \"\"\" \n",
    "    Paramètres :\n",
    "        urne un tableau homogène type list\n",
    "    Précondition :\n",
    "        urne non vide\n",
    "    Valeur renvoyée :\n",
    "        un élément du même type que ceux dans urne\n",
    "    Postcondition :\n",
    "        l'élement renvoyée a été extrait aléatoirement de urne\n",
    "        urne a été modifiée\n",
    "    \"\"\"\n",
    "    return urne.pop(randint(0, .......))\n",
    "~~~\n",
    "\n",
    "   * Compléter les pointillés pour respecter la spécification de la fonction.\n",
    "   * Écrire une fonction `echantillon_tirage_sans_remise` respectant la spécification ci-dessous. Les [annotations de type](https://docs.python.org/fr/3/tutorial/controlflow.html#function-annotations) sont des métadonnées optionnelles décrivant les types des paramètres et des valeurs renvoyées.\n",
    "\n",
    "    ~~~python\n",
    "    def echantillon_tirage_sans_remise(urne : list, nbtirage : int) -> list:\n",
    "        \"\"\" \n",
    "        Paramètres :\n",
    "            urne un tableau homogène type list\n",
    "            nbtirage un entier de type int\n",
    "        Préconditions :\n",
    "            nbtirage >= 0\n",
    "            urne non vide\n",
    "        Valeur renvoyée :\n",
    "            un tableau d'entiers de type list\n",
    "        Postcondition :\n",
    "            le tableau renvoyé est un échantillon extrait\n",
    "            aléatoirement de l'urne sans remise\n",
    "        \"\"\"\n",
    "    ~~~"
   ]
  },
  {
   "cell_type": "markdown",
   "metadata": {},
   "source": [
    "### Corrigé de l'exercice 6"
   ]
  },
  {
   "cell_type": "code",
   "execution_count": 50,
   "metadata": {},
   "outputs": [],
   "source": [
    "from random import randint\n",
    "\n",
    "def tableau_aleatoire(n, a, b):\n",
    "    \"\"\" \n",
    "    Paramètres :\n",
    "       n, a et b trois entiers de type int\n",
    "    Préconditions :\n",
    "       n >= 0\n",
    "       a <= b\n",
    "    Valeur renvoyée :\n",
    "       un tableau d'entiers de type list\n",
    "    Postcondition :\n",
    "        le tableau renvoyé contient  de n entiers tirés aléatoirement entre les entiers a et b inclus\n",
    "    \"\"\"\n",
    "    assert a <= b and n >= 0\n",
    "    return [randint(a, b) for _ in range(n)]\n",
    "\n",
    "def histo_echantillon(nbexp):\n",
    "    \"\"\" \n",
    "    Paramètres :\n",
    "       nbexp un entier de type int\n",
    "    Préconditions :\n",
    "       nbexp >= 0\n",
    "    Valeur renvoyée :\n",
    "       un tableau d'entiers de taille 6 de type list\n",
    "    Postcondition :\n",
    "        le tableau renvoyé contient le nombre d'occurences de chaque face de 1 à 6\n",
    "        sur un échantillon de nbexp lancers de dé à 6 faces\n",
    "    \"\"\"\n",
    "    assert nbexp >= 0, \"la taille de l'échantillon doit être >= 0\"\n",
    "    histo = [0] * 6\n",
    "    echantillon = tableau_aleatoire_aleatoire(nbexp, 1, 6)\n",
    "    for e in echantillon:\n",
    "        histo[e - 1] = histo[e - 1] + 1\n",
    "    return histo\n",
    "\n",
    "def tirage_sans_remise(urne):\n",
    "    \"\"\" \n",
    "    Paramètres :\n",
    "        urne un tableau homogène type list\n",
    "    Précondition :\n",
    "        urne non vide\n",
    "    Valeur renvoyée :\n",
    "        un élément du même type que ceux dans urne\n",
    "    Postcondition :\n",
    "        l'élement renvoyée a été extrait aléatoirement de urne\n",
    "        urne a été modifiée\n",
    "    \"\"\"\n",
    "    return urne.pop(randint(0, len(urne) - 1))\n",
    "\n",
    "def echantillon_tirage_sans_remise(urne : list, nbtirage : int) -> list:\n",
    "    \"\"\" \n",
    "    Paramètres :\n",
    "       urne un tableau homogène type list\n",
    "       nbtirage un entier de type int\n",
    "    Préconditions :\n",
    "       nbtirage >= 0\n",
    "       urne non vide\n",
    "    Valeur renvoyée :\n",
    "       un tableau d'entiers de type list\n",
    "    Postcondition :\n",
    "       le tableau renvoyé est un échantillon extrait\n",
    "       aléatoirement de l'urne sans remise\n",
    "    \"\"\"\n",
    "    assert len(urne) > 0 and nbtirage >= 0\n",
    "    #tirage = []\n",
    "    #for _ in range(nbtirage):\n",
    "    #     tirage.append(tirage_sans_remise(urne))\n",
    "    #return tirage\n",
    "    return [tirage_sans_remise(urne) for _ in range(nbtirage)]"
   ]
  },
  {
   "cell_type": "code",
   "execution_count": 55,
   "metadata": {},
   "outputs": [
    {
     "data": {
      "text/plain": [
       "[6, 1, 2, 3]"
      ]
     },
     "execution_count": 55,
     "metadata": {},
     "output_type": "execute_result"
    }
   ],
   "source": [
    "echantillon_tirage_sans_remise(list(range(7)), 4)"
   ]
  },
  {
   "cell_type": "markdown",
   "metadata": {},
   "source": [
    "## Exercice 7\n",
    "\n",
    "\n",
    "* La fonction `ord` prend en paramètre un caractère de type `string` et renvoie son point de code dans le jeu de caractères [Unicode](https://fr.wikipedia.org/wiki/Unicode).\n",
    "* La fonction `chr` prend en paramètre un point de code Unicode et renvoie le caractère correspondant.\n",
    "\n",
    "~~~python\n",
    ">>> ord('a')\n",
    "97\n",
    ">>> chr(97)\n",
    "'a'\n",
    "~~~\n",
    "\n",
    "\n",
    "1. Construire un tableau  `alphabet` qui contient toutes les lettres minuscules de l'alphabet romain.\n",
    "2. Construire un tableau `consonne` qui contient toutes les consonnes dans `alphabet`.\n",
    "3. Écrire une fonction `occurences(chaine)` qui prend en paramètre une chaîne de caractère et renvoie un tableau de taille 26 avec le nombre d'occurences dans `chaine` des 26 lettres de l'alphabet romain."
   ]
  },
  {
   "cell_type": "markdown",
   "metadata": {},
   "source": [
    "### Corrigé de l'exercice 7"
   ]
  },
  {
   "cell_type": "code",
   "execution_count": 80,
   "metadata": {},
   "outputs": [
    {
     "name": "stdout",
     "output_type": "stream",
     "text": [
      "Tests unitaires réussis\n"
     ]
    }
   ],
   "source": [
    "alphabet = [chr(k) for k in range(ord('a'), ord('z') + 1)]\n",
    "consonne = [c for c in alphabet if c not in 'aoeuiy']\n",
    "\n",
    "def occurences(chaine):\n",
    "    \"\"\" \n",
    "    Paramètres :\n",
    "       chaine de type str\n",
    "    Préconditions :\n",
    "       chaine non vide ? pas forcément\n",
    "    Valeur renvoyée :\n",
    "       un tableau de 26 entiers de type list\n",
    "    Postcondition :\n",
    "       le tableau renvoyé contient le nombre d'occurences \n",
    "       dans chaine des 26 lettres de l'alphabet romain.\n",
    "    \"\"\"\n",
    "    histo = [0] * 26\n",
    "    for c in chaine:\n",
    "        index = ord(c)- ord('a')\n",
    "        histo[index] = histo[index] + 1\n",
    "    return histo\n",
    "\n",
    "# Tests unitaires\n",
    "assert occurences('search') == [1, 0, 1, 0, 1, 0, 0, 1, 0, 0, 0, 0, 0, 0, 0, 0, 0, 1, 1, 0, 0, 0, 0, 0, 0, 0]\n",
    "assert occurences('occurences') == [0, 0, 3, 0, 2, 0, 0, 0, 0, 0, 0, 0, 0, 1, 1, 0, 0, 1, 1, 0, 1, 0, 0, 0, 0, 0]\n",
    "assert occurences('') == [0] * 26\n",
    "print('Tests unitaires réussis')"
   ]
  },
  {
   "cell_type": "markdown",
   "metadata": {},
   "source": [
    "## Exercice 8\n",
    "\n",
    "*Exercice du manuel de NSI de Thibault Balabonski chez Ellipses*"
   ]
  },
  {
   "cell_type": "markdown",
   "metadata": {},
   "source": [
    "En mathématiques, la [suite de\n",
    "Fibonacci](http://images.math.cnrs.fr/Mysteres-arithmetiques-de-la-suite-de-Fibonacci.html)\n",
    "est une séquence d’entiers définie ainsi : on part des entiers 0 et 1\n",
    "puis on construit à chaque fois l’entier suivant comme la somme des deux\n",
    "précédents :   \n",
    "$$0, 1, 1, 2, 3, 5 ....$$\n",
    "\n",
    "Compléter la fonction `fibonacci(n)` ci-dessous pour qu’elle renvoie un\n",
    "tableau contenant les `n` premiers termes de la suite de Fibonacci avec\n",
    "`n` entier supposé supérieur ou égal à 2. Les deux assertions proposées\n",
    "doivent être vérifiées.\n",
    "\n",
    "``` python\n",
    "def fibonacci(n):\n",
    "    \"\"\" \n",
    "    Paramètres :\n",
    "       n un entier de type int\n",
    "    Préconditions :\n",
    "       n >= 0\n",
    "    Valeur renvoyée :\n",
    "       un tableau d'entiers de type list\n",
    "    Postcondition :\n",
    "       le tableau renvoyé contient tous les termes de la suite de Fibonacci\n",
    "       d'indices compris entre 0 et n\n",
    "    \"\"\"\n",
    "\n",
    "# Tests unitaires\n",
    "f6 = fibonacci(6)\n",
    "assert f6 == [0,1, 1, 2,3,5]\n",
    "f30 = fibonacci(30)\n",
    "assert f30[29] == 514229\n",
    "print(\"Tests unitaires réussis !\")\n",
    "```"
   ]
  },
  {
   "cell_type": "markdown",
   "metadata": {},
   "source": [
    "### Corrigé de l'exercice 8"
   ]
  },
  {
   "cell_type": "code",
   "execution_count": 62,
   "metadata": {},
   "outputs": [
    {
     "name": "stdout",
     "output_type": "stream",
     "text": [
      "Tests unitaires réussis !\n"
     ]
    }
   ],
   "source": [
    "def fibonacci(n):\n",
    "    \"\"\" \n",
    "    Paramètres :\n",
    "       n un entier de type int\n",
    "    Préconditions :\n",
    "       n >= 0\n",
    "    Valeur renvoyée :\n",
    "       un tableau d'entiers de type list\n",
    "    Postcondition :\n",
    "       le tableau contient tous les termes de la suite de Fibonacci\n",
    "       d'indices compris entre 0 et n\n",
    "    \"\"\"\n",
    "    assert n>= 0\n",
    "    t = [0, 1]\n",
    "    for k in range(n - 2):\n",
    "        t.append(t[len(t)-2] + t[len(t)-1])\n",
    "    return t\n",
    "\n",
    "# Test unitaires\n",
    "f6 = fibonacci(6)\n",
    "assert f6 == [0,1, 1, 2,3,5]\n",
    "f30 = fibonacci(30)\n",
    "assert f30[29] == 514229\n",
    "print(\"Tests unitaires réussis !\")"
   ]
  },
  {
   "cell_type": "markdown",
   "metadata": {},
   "source": [
    "## Exercice 9\n",
    "* __Énoncé :__\n",
    "\n",
    "Comme le disait le grand-père de Joseph Marchand, « Le plus beau voyage est celui qu'on n'a pas encore fait ». New York était dans la tête de Joseph depuis plusieurs années maintenant, et il a décidé aujourd'hui d'acheter son billet d'avion. \n",
    "Quelques secondes avant de cliquer sur le bouton « Acheter ! », son amie Haruhi lui envoie une liste de prix qu'elle a trouvés sur Internet. Joseph est curieux de voir si ces derniers sont moins chers que le billet qu'il s'apprêtait à acheter.\n",
    "\n",
    "* __Entrée :__\n",
    "\n",
    "Sur la première ligne le prix initial du billet de Joseph.\n",
    "Sur la deuxième ligne un entier N , correspondant au nombre de billets envoyés par Haruhi. La ligne suivante contient les N prix trouvés par Haruhi.\n",
    "\n",
    "* __Sortie :__ \n",
    "\n",
    "Si Haruhi a trouvé au moins 3 prix strictement moins chers que celui de Joseph, affichez « ARNAQUE ! » pour l'avertir. Sinon « Ok bon voyage, bisous, n'oublie pas de m'envoyer des photos ! ».\n",
    "\n",
    "* Exemple 1 :\n",
    "\n",
    "    * Entrée :    \n",
    "  \n",
    "        ~~~\n",
    "        570\n",
    "        4\n",
    "        495 1200 540 450\n",
    "        ~~~\n",
    "        \n",
    "    * Sortie :  \n",
    "  \n",
    "        ~~~\n",
    "        ARNAQUE !\n",
    "        ~~~\n",
    "\n",
    "* Exemple 2:\n",
    "  * Entrée :\n",
    "  \n",
    "    ~~~\n",
    "    820\n",
    "    5\n",
    "    580 2000 970 1050 820\n",
    "    ~~~\n",
    "\n",
    "  *  Sortie :\n",
    "  \n",
    "    ~~~\n",
    "    Ok bon voyage, bisous, n'oublie pas de m'envoyer des photos !\n",
    "    ~~~\n",
    "\n",
    "\n",
    "1. Récupérer les fichiers textes `arnaque-exemple1.txt`  et `arnaque-exemple2.txt` avec les entrées des deux exemples.\n",
    "2. En s'inspirant de la méthode de lecture de fichier texte présentée précédemment, compléter la fonction ci-dessous pour qu'elle résolve le problème. Les deux assertions doivent être vérifiées.\n",
    "3. Se créer un compte sur le site [Prologin](https://prologin.org/user/register?next=%2F) et soumettre sa solution au juge en ligne sur <https://prologin.org/train/2019/qualification/arnaque_aerienne>. \n",
    "   \n",
    "    Avant de soumettre, remplacer dans la fonction l'instruction `f = open(inputfile)` par `f = inputfile` et le code du programme principal par :\n",
    "\n",
    "~~~python\n",
    "import sys\n",
    "arnaque(sys.stdin)\n",
    "~~~\n",
    "    \n",
    "`sys.stdin` est [l'entrée standard](https://docs.python.org/fr/3/library/sys.html#sys.stdin) de l'interpréteur Python.\n",
    "\n",
    "4. Sur la même plateforme, résoudre  cet autre problème du même type : <https://prologin.org/train/2018/qualification/faites_place>\n",
    "\n",
    "~~~python\n",
    "def arnaque(inputfile):\n",
    "    \"\"\"Résolution du problème \n",
    "    https://prologin.org/train/2019/qualification/arnaque_aerienne\"\"\"\n",
    "    f = open(inputfile)  #ouverture du  fichier d'entrée\n",
    "    # TO DO à compléter\n",
    "    f.close() \n",
    "    c = 0\n",
    "    # TO DO à compléter\n",
    "    if c >= 3:\n",
    "        print(\"ARNAQUE !\")\n",
    "        return 1\n",
    "    else:\n",
    "        print(\"Ok bon voyage, bisous, n'oublie pas de m'envoyer des photos !\")\n",
    "        return 0\n",
    "\n",
    "# Tests unitaires        \n",
    "assert arnaque('arnaque-exemple1.txt') == 1\n",
    "assert arnaque('arnaque-exemple2.txt') == 0\n",
    "print(\"Tests unitaires réussis !\")\n",
    "~~~"
   ]
  },
  {
   "cell_type": "markdown",
   "metadata": {},
   "source": [
    "### Corrigé de l'exercice 9"
   ]
  },
  {
   "cell_type": "code",
   "execution_count": 61,
   "metadata": {},
   "outputs": [
    {
     "name": "stdout",
     "output_type": "stream",
     "text": [
      "ARNAQUE !\n",
      "Ok bon voyage, bisous, n'oublie pas de m'envoyer des photos !\n",
      "Tests unitaires réussis !\n"
     ]
    }
   ],
   "source": [
    "def arnaque(inputfile):\n",
    "    \"\"\"Résolution du problème \n",
    "    https://prologin.org/train/2019/qualification/arnaque_aerienne\"\"\"\n",
    "    f = open(inputfile)  #ouverture du  fichier d'entrée\n",
    "    joseph = int(f.readline())\n",
    "    N = int(f.readline())\n",
    "    listeprix = [int(champ) for champ in f.readline().split()]\n",
    "    f.close() \n",
    "    c = 0\n",
    "    for prix in listeprix:\n",
    "        if prix < joseph:\n",
    "            c = c + 1\n",
    "    if c >= 3:\n",
    "        print(\"ARNAQUE !\")\n",
    "        return 1\n",
    "    else:\n",
    "        print(\"Ok bon voyage, bisous, n'oublie pas de m'envoyer des photos !\")\n",
    "        return 0\n",
    "     \n",
    "# Tests unitaires\n",
    "assert arnaque('arnaque-exemple1.txt') == 1\n",
    "assert arnaque('arnaque-exemple2.txt') == 0\n",
    "print(\"Tests unitaires réussis !\")"
   ]
  },
  {
   "cell_type": "code",
   "execution_count": null,
   "metadata": {},
   "outputs": [],
   "source": [
    "import sys\n",
    "\n",
    "def parseInt():\n",
    "    \"\"\"Lit une ligne de l'entrée standard, la découpe selon les espaces\n",
    "    et la convertit en tableau d'entiers\n",
    "    \"\"\"\n",
    "    return [int(c) for c in sys.stdin.readline().rstrip().split()]\n",
    "    \n",
    "longplage = parseInt()[0]\n",
    "nbautres = parseInt()[0]\n",
    "posautres = parseInt()\n",
    "maxinfluence = posautres[0] - 1\n",
    "for k in range(len(posautres) - 1):\n",
    "    maxinfluence = max(maxinfluence, (posautres[k+1] - posautres[k])//2)\n",
    "maxinfluence = max(maxinfluence, longplage - posautres[-1] - 1)\n",
    "sys.stdout.write(str(maxinfluence))"
   ]
  },
  {
   "cell_type": "markdown",
   "metadata": {},
   "source": [
    "## Exercice 10\n",
    "\n",
    "Écrire une fonction `maximum_intervalle(t, n)` qui prend en paramètres un tableau d'entiers `t`  et un entier `n` supposé inférieur ou égal à la longueur de `t` et qui retourne la somme maximale sur tous les sous-tableaux de longueur `n`  inclus dans `t` .\n",
    "\n",
    "~~~python\n",
    ">>> maximum_intervalle([10,2,8,4,7,5], 3)\n",
    "16\n",
    "~~~"
   ]
  },
  {
   "cell_type": "markdown",
   "metadata": {},
   "source": [
    "### Corrigé de l'exercice 10"
   ]
  },
  {
   "cell_type": "code",
   "execution_count": 70,
   "metadata": {},
   "outputs": [
    {
     "name": "stdout",
     "output_type": "stream",
     "text": [
      "Tests unitaires réussis\n"
     ]
    }
   ],
   "source": [
    "def maximum_intervalle(t, n):\n",
    "    \"\"\" \n",
    "    Paramètres :\n",
    "       t un tableau de type list contenant des entiers de  type  int\n",
    "       n un entier de type int\n",
    "    Préconditions :\n",
    "       len(t) >= 0\n",
    "       0 <= n <= len(t)\n",
    "    Valeur renvoyée :\n",
    "       un entier de type int\n",
    "    Postcondition :\n",
    "       l'entier renvoyé est la somme maximale sur tous les sous-tableaux de \n",
    "       de longueur n\n",
    "    \"\"\"\n",
    "    assert len(t) >= 0 and 0 <= n <= len(t)\n",
    "    #initialisation de la somme \n",
    "    s = 0\n",
    "    for i in range(n):\n",
    "        s = s + t[i]\n",
    "    smax = s\n",
    "    for j in range(n, len(t)):\n",
    "        s = s - t[j - n] + t[j]\n",
    "        if s > smax:\n",
    "            smax = s\n",
    "    return smax\n",
    "    \n",
    "    \n",
    "# Tests unitaires\n",
    "assert maximum_intervalle([4,1,10,2,8,5], 3) == 20\n",
    "assert maximum_intervalle([10,2,8,4,1,5], 3) == 20\n",
    "assert maximum_intervalle([4,1,5, 10,2,8], 3) == 20\n",
    "print(\"Tests unitaires réussis\")"
   ]
  }
 ],
 "metadata": {
  "kernelspec": {
   "display_name": "Python 3",
   "language": "python",
   "name": "python3"
  },
  "language_info": {
   "codemirror_mode": {
    "name": "ipython",
    "version": 3
   },
   "file_extension": ".py",
   "mimetype": "text/x-python",
   "name": "python",
   "nbconvert_exporter": "python",
   "pygments_lexer": "ipython3",
   "version": "3.8.5"
  }
 },
 "nbformat": 4,
 "nbformat_minor": 4
}
