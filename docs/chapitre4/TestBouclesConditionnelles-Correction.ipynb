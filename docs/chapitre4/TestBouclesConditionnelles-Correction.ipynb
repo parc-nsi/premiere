{
 "cells": [
  {
   "cell_type": "markdown",
   "metadata": {},
   "source": [
    "# Structure conditionnelle"
   ]
  },
  {
   "cell_type": "markdown",
   "metadata": {},
   "source": [
    "## Exercice 1"
   ]
  },
  {
   "cell_type": "code",
   "execution_count": 1,
   "metadata": {},
   "outputs": [
    {
     "name": "stdout",
     "output_type": "stream",
     "text": [
      "Masse d'un poteau ? 100\n",
      "Nombre de poteaux ? 19\n",
      "Surcharge !\n"
     ]
    }
   ],
   "source": [
    "masse_utile = 1800\n",
    "masse = int(input('Masse d\\'un poteau ? '))\n",
    "nombre = int(input('Nombre de poteaux ? '))\n",
    "if nombre * masse > masse_utile:\n",
    "    print('Surcharge !')"
   ]
  },
  {
   "cell_type": "markdown",
   "metadata": {},
   "source": [
    "## Exercice 2"
   ]
  },
  {
   "cell_type": "code",
   "execution_count": 2,
   "metadata": {},
   "outputs": [
    {
     "name": "stdout",
     "output_type": "stream",
     "text": [
      "Saisir un texte : ineptie\n",
      "Votre texte comporte  2 caractères 'e'\n"
     ]
    }
   ],
   "source": [
    "texte = input(\"Saisir un texte : \")\n",
    "n = 0 #compteur du caractère  'e'\n",
    "for c in texte:\n",
    "    if c == 'e':\n",
    "        n = n + 1\n",
    "print(\"Votre texte comporte \", n, \"caractères 'e'\")"
   ]
  },
  {
   "cell_type": "markdown",
   "metadata": {},
   "source": [
    "## Exercice 3"
   ]
  },
  {
   "cell_type": "code",
   "execution_count": 4,
   "metadata": {},
   "outputs": [
    {
     "name": "stdout",
     "output_type": "stream",
     "text": [
      "Entrez un nombre entier naturel : 6\n",
      "6 est parfait\n"
     ]
    }
   ],
   "source": [
    "n = int(input('Entrez un nombre entier naturel : '))\n",
    "S = 0\n",
    "for k in range(1, n):\n",
    "    if n % k == 0:\n",
    "        S = S + k\n",
    "if S == n:\n",
    "    print(n, \"est parfait\")\n",
    "else:\n",
    "    print(n, \"n'est pas parfait\")"
   ]
  },
  {
   "cell_type": "markdown",
   "metadata": {},
   "source": [
    "## Exercice 4"
   ]
  },
  {
   "cell_type": "code",
   "execution_count": 18,
   "metadata": {},
   "outputs": [
    {
     "name": "stdout",
     "output_type": "stream",
     "text": [
      "0.7964167759799121 0.7177039673069944\n",
      "Perdu\n"
     ]
    }
   ],
   "source": [
    "from random import random\n",
    "from math import sqrt\n",
    "\n",
    "x = random()\n",
    "y = random()\n",
    "print(x, y)\n",
    "if sqrt(x ** 2 + y ** 2) < 1:\n",
    "    print(\"Gagné\")\n",
    "else:\n",
    "    print(\"Perdu\")"
   ]
  },
  {
   "cell_type": "markdown",
   "metadata": {},
   "source": [
    "## Entrainement 1"
   ]
  },
  {
   "cell_type": "code",
   "execution_count": 20,
   "metadata": {},
   "outputs": [
    {
     "name": "stdout",
     "output_type": "stream",
     "text": [
      "3.142183\n"
     ]
    }
   ],
   "source": [
    "from random import random\n",
    "from math import sqrt\n",
    "\n",
    "victoire = 0\n",
    "for k in range(4000000):\n",
    "    x = random()\n",
    "    y = random()\n",
    "    if sqrt(x ** 2 + y ** 2) < 1:\n",
    "        victoire = victoire + 1\n",
    "print(victoire / 1000000)"
   ]
  },
  {
   "cell_type": "markdown",
   "metadata": {},
   "source": [
    "__Observation :__ \n",
    "\n",
    "\n",
    "On obtient une fréquence proche de $\\pi$. \n",
    "\n",
    "__Explication :__ \n",
    "\n",
    "La probabilité de victoire est égale au rapport de l'aire du disque de rayon 1 à l'aire du carré de côté 2 représentant les points de coordonnées $(x,y)$ telles que $-1 \\leqslant x \\leqslant 1$ et $-1 \\leqslant y \\leqslant 1$. Cette probabilité est donc de $\\frac{\\pi}{4}$. \n",
    "\n",
    "La fréquence de victoires sur un échantillon de taille $4000000$ s'obtient par le calcul $\\frac{\\mathrm{nombre de victoires}}{4000000}$. D'après la loi faible des grands nombres on a $\\frac{\\mathrm{nombre de victoires}}{4000000} \\approx \\frac{\\pi}{4}$.\n",
    "\n",
    "On en déduit que $\\frac{\\mathrm{nombre de victoires}}{1000000} \\approx\\pi$.\n",
    "\n"
   ]
  },
  {
   "cell_type": "markdown",
   "metadata": {},
   "source": [
    "## Exercice 5"
   ]
  },
  {
   "cell_type": "code",
   "execution_count": 22,
   "metadata": {},
   "outputs": [
    {
     "name": "stdout",
     "output_type": "stream",
     "text": [
      "Entrez le nombre de l'année : 2020\n",
      "Année bissextile\n"
     ]
    }
   ],
   "source": [
    "n = int(input(\"Entrez le nombre de l'année : \"))\n",
    "\n",
    "if  n % 4 != 0:\n",
    "    print(\"Année non bissextile\")\n",
    "elif n % 100 != 0:\n",
    "    print(\"Année bissextile\")\n",
    "elif n % 400 != 0:\n",
    "    print(\"Année non bissextile\")\n",
    "else:\n",
    "    print(\"Année bissextile\")    "
   ]
  },
  {
   "cell_type": "markdown",
   "metadata": {},
   "source": [
    "## Exercice 7"
   ]
  },
  {
   "cell_type": "code",
   "execution_count": null,
   "metadata": {},
   "outputs": [],
   "source": [
    "(x_A, y_A) = (1, 5)\n",
    "(x_B, y_B) = (4, 3)\n",
    "x = float(input(\"Entrez l'abscisse de M\"))\n",
    "y = float(input(\"Entrez l'ordonnée de M\"))\n",
    "#dans les conditions on envisage un cas général pour les coordonnées de A et B\n",
    "if (x_A <= x <= x_B or x_B <= x <= x_A) and (y_A <= x <= y_B or y_B <= x <= y_A):\n",
    "    print(\"M est dans le rectangle de sommets opposés A et B\")\n",
    "else:\n",
    "    print(\"M n'est pas dans le rectangle de sommets opposés A et B\")"
   ]
  },
  {
   "cell_type": "markdown",
   "metadata": {},
   "source": [
    "## Exercice 8"
   ]
  },
  {
   "cell_type": "code",
   "execution_count": null,
   "metadata": {},
   "outputs": [],
   "source": [
    "(x_A, y_A) = (2, -3)\n",
    "r = 4\n",
    "x = float(input(\"Entrez l'abscisse de M\"))\n",
    "y = float(input(\"Entrez l'ordonnée de M\"))\n",
    "#dans les conditions on envisage un cas général pour les coordonnées de A et B\n",
    "if (x - x_A) ** 2 + (y - y_A) ** 2 <= r ** 2:\n",
    "    print(\"M est dans le disque de centre A et de rayon r\")\n",
    "else:\n",
    "    print(\"M n'est pas dans le disque de centre A et de rayon r\")"
   ]
  },
  {
   "cell_type": "markdown",
   "metadata": {},
   "source": [
    "## Entraînement 3"
   ]
  },
  {
   "cell_type": "code",
   "execution_count": 25,
   "metadata": {},
   "outputs": [
    {
     "name": "stdout",
     "output_type": "stream",
     "text": [
      "Saisir un entier n : 33\n",
      "33  n'est pas premier\n"
     ]
    }
   ],
   "source": [
    "n = int(input('Saisir un entier n : '))\n",
    "premier = True\n",
    "for k in range(2, n // 2):\n",
    "    premier = premier and  n % k != 0\n",
    "if premier:\n",
    "    print(n, \" est premier\")\n",
    "else:\n",
    "    print(n, \" n'est pas premier\")"
   ]
  },
  {
   "cell_type": "code",
   "execution_count": 26,
   "metadata": {},
   "outputs": [
    {
     "name": "stdout",
     "output_type": "stream",
     "text": [
      "Saisir un entier n : 49999\n",
      "49999  est premier\n"
     ]
    }
   ],
   "source": [
    "#en pratique si d divise n alos n = n // d * d et donc max(d, n // d) ** 2 <= n\n",
    "from math import sqrt\n",
    "n = int(input('Saisir un entier n : '))\n",
    "premier = True\n",
    "for k in range(2, int(sqrt(n)) + 1):\n",
    "    premier = premier and  n % k != 0\n",
    "if premier:\n",
    "    print(n, \" est premier\")\n",
    "else:\n",
    "    print(n, \" n'est pas premier\")"
   ]
  },
  {
   "cell_type": "markdown",
   "metadata": {},
   "source": [
    "## Exercice 10"
   ]
  },
  {
   "cell_type": "code",
   "execution_count": 31,
   "metadata": {},
   "outputs": [
    {
     "name": "stdout",
     "output_type": "stream",
     "text": [
      "Saisir un entier 1<= n <= 100 :101\n",
      "Saisir un entier 1<= n <= 100 :-2\n",
      "Saisir un entier 1<= n <= 100 :2\n",
      "Vous avez saisi :  2\n"
     ]
    }
   ],
   "source": [
    "n = int(input('Saisir un entier 1<= n <= 100 :'))\n",
    "while not(1 <= n <= 100):\n",
    "    n = int(input('Saisir un entier 1<= n <= 100 :'))\n",
    "print(\"Vous avez saisi : \", n)"
   ]
  },
  {
   "cell_type": "markdown",
   "metadata": {},
   "source": [
    "## Entraînement 4"
   ]
  },
  {
   "cell_type": "code",
   "execution_count": 34,
   "metadata": {},
   "outputs": [
    {
     "name": "stdout",
     "output_type": "stream",
     "text": [
      "Saisir le mot de passe : secret\n",
      "Mot de passe ? abcd\n",
      "Mot de passe invalide, nouvel essai\n",
      "Mot de passe ? secret\n",
      "Connexion réussie\n"
     ]
    }
   ],
   "source": [
    "password = input('Saisir le mot de passe : ')\n",
    "while not(input('Mot de passe ? ') == password):\n",
    "    print('Mot de passe invalide, nouvel essai')\n",
    "print(\"Connexion réussie\")"
   ]
  },
  {
   "cell_type": "markdown",
   "metadata": {},
   "source": [
    "## Exercice 11"
   ]
  },
  {
   "cell_type": "code",
   "execution_count": 35,
   "metadata": {},
   "outputs": [
    {
     "name": "stdout",
     "output_type": "stream",
     "text": [
      "Saisir un réel x >= 1 16\n",
      "Le logarithme entier de  0.0  est  5\n"
     ]
    }
   ],
   "source": [
    "x = float(input(\"Saisir un réel x >= 1 \"))\n",
    "while not(x >= 1):\n",
    "    x = float(input(\"Saisir un réel x >= 1 \"))\n",
    "n = 1\n",
    "x = x // 2\n",
    "while x >= 1:\n",
    "    n = n + 1\n",
    "    x = x // 2\n",
    "print(\"Le logarithme entier de \", x, \" est \", n)"
   ]
  },
  {
   "cell_type": "markdown",
   "metadata": {},
   "source": [
    "## Exercice 12"
   ]
  },
  {
   "cell_type": "code",
   "execution_count": 43,
   "metadata": {},
   "outputs": [
    {
     "name": "stdout",
     "output_type": "stream",
     "text": [
      "Saisir une chaîne de caractères : ABNSI\n",
      "'NSI' trouvée en position  3\n"
     ]
    }
   ],
   "source": [
    "motif = 'NSI'\n",
    "chaine = input('Saisir une chaîne de caractères : ')\n",
    "i = 0\n",
    "trouve = False\n",
    "while i <= len(chaine) - 3 and not trouve:\n",
    "    j = 0\n",
    "    while j < len(motif) and chaine[i + j] == motif[j]:\n",
    "        j = j + 1\n",
    "    if j == len(motif):\n",
    "        trouve = True\n",
    "    i = i + 1\n",
    "if trouve:\n",
    "    print(\"'NSI' trouvée en position \", i)\n",
    "else:\n",
    "     print(\"'NSI' ne se trouve pas dans la chaîne\")"
   ]
  }
 ],
 "metadata": {
  "kernelspec": {
   "display_name": "Python 3",
   "language": "python",
   "name": "python3"
  },
  "language_info": {
   "codemirror_mode": {
    "name": "ipython",
    "version": 3
   },
   "file_extension": ".py",
   "mimetype": "text/x-python",
   "name": "python",
   "nbconvert_exporter": "python",
   "pygments_lexer": "ipython3",
   "version": "3.8.2"
  }
 },
 "nbformat": 4,
 "nbformat_minor": 4
}
